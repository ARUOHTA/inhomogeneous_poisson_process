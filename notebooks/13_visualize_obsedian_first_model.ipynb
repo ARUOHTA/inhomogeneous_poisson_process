{
 "cells": [
  {
   "cell_type": "code",
   "execution_count": 1,
   "metadata": {},
   "outputs": [],
   "source": [
    "import matplotlib.pyplot as plt\n",
    "import numpy as np\n",
    "from   numpy.linalg import inv\n",
    "import numpy.random as npr\n",
    "from   pypolyagamma import PyPolyaGamma\n",
    "from scipy.stats import multivariate_normal\n",
    "\n",
    "from heapq import heappush, heappop\n",
    "import os\n",
    "import matplotlib.cm as cm\n",
    "from tqdm import tqdm\n",
    "import polars as pl\n",
    "\n",
    "import geopandas as gpd\n",
    "\n",
    "from shapely.geometry import Point, Polygon\n",
    "from shapely import wkt\n",
    "\n",
    "import pandas as pd\n",
    "import statsmodels.api as sm\n",
    "import scipy\n",
    "import scipy.optimize as opt\n",
    "import seaborn as sns\n",
    "\n",
    "from pyproj import Transformer\n",
    "\n",
    "from bayesian_statistics.utils_2 import *\n",
    "import japanize_matplotlib\n",
    "\n",
    "from keplergl import KeplerGl\n",
    "\n",
    "from typing import Tuple"
   ]
  },
  {
   "cell_type": "code",
   "execution_count": null,
   "metadata": {},
   "outputs": [],
   "source": []
  }
 ],
 "metadata": {
  "kernelspec": {
   "display_name": ".venv",
   "language": "python",
   "name": "python3"
  },
  "language_info": {
   "codemirror_mode": {
    "name": "ipython",
    "version": 3
   },
   "file_extension": ".py",
   "mimetype": "text/x-python",
   "name": "python",
   "nbconvert_exporter": "python",
   "pygments_lexer": "ipython3",
   "version": "3.9.12"
  }
 },
 "nbformat": 4,
 "nbformat_minor": 2
}
