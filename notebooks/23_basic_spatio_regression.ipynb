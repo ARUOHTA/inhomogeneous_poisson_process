{
 "cells": [
  {
   "cell_type": "code",
   "execution_count": 1,
   "metadata": {},
   "outputs": [
    {
     "name": "stderr",
     "output_type": "stream",
     "text": [
      "WARNING (pytensor.tensor.blas): Using NumPy C-API based implementation for BLAS functions.\n"
     ]
    }
   ],
   "source": [
    "from bayesian_statistics.model3_config import Model3Config\n",
    "from bayesian_statistics.model3_preprocessing import ObsidianDataPreprocessor\n",
    "\n",
    "config = Model3Config(\n",
    "    data_dir=\"/home/ohta/dev/bayesian_statistics/data/\",\n",
    ")\n",
    "\n",
    "# 前処理クラスのインスタンス化\n",
    "preprocessor = ObsidianDataPreprocessor(config.data_dir)\n",
    "preprocessor.load_data()\n",
    "\n",
    "# データの読み込み\n",
    "data = preprocessor.create_X_Y(\n",
    "    config.nw_variable_names, config.time_periods, config.origins\n",
    ")\n",
    "\n",
    "X = data[\"X\"]\n",
    "Y = data[\"Y\"]\n",
    "X_columns = data[\"X_columns\"]\n",
    "Y_columns = data[\"Y_columns\"]\n",
    "\n",
    "X_test = data[\"X_test\"]"
   ]
  },
  {
   "cell_type": "code",
   "execution_count": 2,
   "metadata": {},
   "outputs": [
    {
     "data": {
      "text/plain": [
       "['count_0_神津島',\n",
       " 'count_0_信州',\n",
       " 'count_0_箱根',\n",
       " 'count_0_高原山',\n",
       " 'count_1_神津島',\n",
       " 'count_1_信州',\n",
       " 'count_1_箱根',\n",
       " 'count_1_高原山',\n",
       " 'count_2_神津島',\n",
       " 'count_2_信州',\n",
       " 'count_2_箱根',\n",
       " 'count_2_高原山',\n",
       " 'count_3_神津島',\n",
       " 'count_3_信州',\n",
       " 'count_3_箱根',\n",
       " 'count_3_高原山',\n",
       " 'count_4_神津島',\n",
       " 'count_4_信州',\n",
       " 'count_4_箱根',\n",
       " 'count_4_高原山']"
      ]
     },
     "execution_count": 2,
     "metadata": {},
     "output_type": "execute_result"
    }
   ],
   "source": [
    "Y_columns"
   ]
  },
  {
   "cell_type": "code",
   "execution_count": 3,
   "metadata": {},
   "outputs": [
    {
     "data": {
      "text/plain": [
       "(1019, 342, 90, 15)"
      ]
     },
     "execution_count": 3,
     "metadata": {},
     "output_type": "execute_result"
    }
   ],
   "source": [
    "Y[:, 0].sum(), Y[:, 1].sum(), Y[:, 2].sum(), Y[:, 3].sum()"
   ]
  },
  {
   "cell_type": "code",
   "execution_count": 4,
   "metadata": {},
   "outputs": [
    {
     "data": {
      "text/plain": [
       "((274, 4), (274, 4), (274, 4), (274, 4), (274, 4))"
      ]
     },
     "execution_count": 4,
     "metadata": {},
     "output_type": "execute_result"
    }
   ],
   "source": [
    "Y_0 = Y[:, :4]\n",
    "Y_1 = Y[:, 4:8]\n",
    "Y_2 = Y[:, 8:12]\n",
    "Y_3 = Y[:, 12:16]\n",
    "Y_4 = Y[:, 16:20]\n",
    "\n",
    "Y_0.shape, Y_1.shape, Y_2.shape, Y_3.shape, Y_4.shape"
   ]
  },
  {
   "cell_type": "code",
   "execution_count": 5,
   "metadata": {},
   "outputs": [],
   "source": [
    "Y_0_sum = Y_0.sum(axis=1)\n",
    "Y_1_sum = Y_1.sum(axis=1)\n",
    "Y_2_sum = Y_2.sum(axis=1)\n",
    "Y_3_sum = Y_3.sum(axis=1)\n",
    "Y_4_sum = Y_4.sum(axis=1)"
   ]
  },
  {
   "cell_type": "code",
   "execution_count": 6,
   "metadata": {},
   "outputs": [
    {
     "name": "stdout",
     "output_type": "stream",
     "text": [
      "X_columns:\n",
      "['lon', 'lat', 'average_elevation', 'average_slope_angle', 'cost_kouzu', 'cost_shinshu', 'cost_hakone', 'cost_takahara', 'cost_river']\n",
      "\n",
      "X shape: (274, 9)\n",
      "Number of X_columns: 9\n",
      "\n",
      "First few rows of X:\n",
      "[[6.38014994e-01 2.41910732e+00 7.66700000e+02 1.17000000e+01\n",
      "  5.47487486e+03 1.59746539e+03 3.80995697e+03 3.30166806e+03\n",
      "  1.12847016e+01]\n",
      " [6.38050185e-01 2.41945701e+00 7.44100000e+02 1.35000000e+01\n",
      "  5.44931120e+03 1.62856470e+03 3.78439332e+03 3.27610440e+03\n",
      "  0.00000000e+00]\n",
      " [6.38687997e-01 2.42277639e+00 4.04700000e+02 9.50000000e+00\n",
      "  5.00201054e+03 2.14982395e+03 3.33709265e+03 2.82746383e+03\n",
      "  5.50114679e+00]\n",
      " [6.32966008e-01 2.42293785e+00 2.21500000e+02 1.09000000e+01\n",
      "  4.44207779e+03 1.71835047e+03 2.77715991e+03 2.41196822e+03\n",
      "  0.00000000e+00]\n",
      " [6.33890835e-01 2.42339581e+00 2.09300000e+02 3.60000000e+00\n",
      "  4.50263351e+03 1.66890505e+03 2.83771562e+03 2.35090780e+03\n",
      "  0.00000000e+00]]\n"
     ]
    }
   ],
   "source": [
    "print(\"X_columns:\")\n",
    "print(X_columns)\n",
    "print(f\"\\nX shape: {X.shape}\")\n",
    "print(f\"Number of X_columns: {len(X_columns)}\")\n",
    "print(\"\\nFirst few rows of X:\")\n",
    "print(X[:5])"
   ]
  }
 ],
 "metadata": {
  "kernelspec": {
   "display_name": ".venv",
   "language": "python",
   "name": "python3"
  },
  "language_info": {
   "codemirror_mode": {
    "name": "ipython",
    "version": 3
   },
   "file_extension": ".py",
   "mimetype": "text/x-python",
   "name": "python",
   "nbconvert_exporter": "python",
   "pygments_lexer": "ipython3",
   "version": "3.9.12"
  }
 },
 "nbformat": 4,
 "nbformat_minor": 2
}
