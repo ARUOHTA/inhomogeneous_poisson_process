{
 "cells": [
  {
   "cell_type": "markdown",
   "metadata": {},
   "source": [
    "# Model 3 LOOCV評価システム - 動作確認・デバッグ\n",
    "\n",
    "このノートブックでは、LOOCV評価システムの動作を段階的に確認し、デバッグを行います。"
   ]
  },
  {
   "cell_type": "code",
   "execution_count": 1,
   "metadata": {},
   "outputs": [
    {
     "name": "stdout",
     "output_type": "stream",
     "text": [
      "モジュールのインポートが完了しました\n"
     ]
    }
   ],
   "source": [
    "import os\n",
    "import sys\n",
    "from pathlib import Path\n",
    "\n",
    "# プロジェクトルートをPythonパスに追加\n",
    "project_root = Path.cwd().parent if Path.cwd().name == \"notebooks\" else Path.cwd()\n",
    "sys.path.insert(0, str(project_root))\n",
    "\n",
    "import matplotlib.pyplot as plt\n",
    "import numpy as np\n",
    "import pandas as pd\n",
    "import seaborn as sns\n",
    "from tqdm import tqdm\n",
    "\n",
    "from bayesian_statistics.model3_compositional_metrics import CompositionalMetrics\n",
    "\n",
    "# 自作モジュール\n",
    "from bayesian_statistics.model3_config import Model3Config, Model3Pipeline\n",
    "from bayesian_statistics.model3_loocv import LOOCVConfig, LOOCVEvaluator\n",
    "\n",
    "# 日本語フォント設定\n",
    "plt.rcParams[\"font.family\"] = \"DejaVu Sans\"\n",
    "sns.set_style(\"whitegrid\")\n",
    "\n",
    "print(\"モジュールのインポートが完了しました\")"
   ]
  },
  {
   "cell_type": "markdown",
   "metadata": {},
   "source": [
    "## 1. 基本設定とデータ準備"
   ]
  },
  {
   "cell_type": "code",
   "execution_count": 2,
   "metadata": {},
   "outputs": [
    {
     "name": "stdout",
     "output_type": "stream",
     "text": [
      "データディレクトリ: /home/ohta/dev/bayesian_statistics/data/\n",
      "モデル設定:\n",
      "  - NW sigma: 500\n",
      "  - NW sigma_for_sites: 0.1\n",
      "  - 時期: {0: '早期・早々期', 1: '前期', 2: '中期', 3: '後期', 4: '晩期'}\n",
      "  - 産地: ['神津島', '信州', '箱根', '高原山', 'その他']\n",
      "LOOCV設定:\n",
      "  - 試行回数: 5\n",
      "  - Zero置換値: 1e-06\n"
     ]
    }
   ],
   "source": [
    "# 基本設定\n",
    "data_dir = \"/home/ohta/dev/bayesian_statistics/data/\"\n",
    "\n",
    "# 設定の作成\n",
    "model_config = Model3Config(data_dir=data_dir)\n",
    "loocv_config = LOOCVConfig(\n",
    "    n_trials=5,  # デバッグ用に少なく設定\n",
    "    verbose=True,\n",
    "    random_seed=42,\n",
    ")\n",
    "\n",
    "print(f\"データディレクトリ: {data_dir}\")\n",
    "print(\"モデル設定:\")\n",
    "print(f\"  - NW sigma: {model_config.nw_sigma}\")\n",
    "print(f\"  - NW sigma_for_sites: {model_config.nw_sigma_for_sites}\")\n",
    "print(f\"  - 時期: {model_config.time_periods}\")\n",
    "print(f\"  - 産地: {model_config.origins}\")\n",
    "print(\"LOOCV設定:\")\n",
    "print(f\"  - 試行回数: {loocv_config.n_trials}\")\n",
    "print(f\"  - Zero置換値: {loocv_config.zero_replacement}\")"
   ]
  },
  {
   "cell_type": "code",
   "execution_count": 3,
   "metadata": {},
   "outputs": [
    {
     "name": "stdout",
     "output_type": "stream",
     "text": [
      "=== 前処理を実行中 ===\n",
      "=== 前処理を開始 ===\n",
      "データを読み込んでいます...\n",
      "標高データ: (1357520, 42)\n",
      "黒曜石データ: (30070, 11)\n",
      "遺跡データ: (274, 49)\n",
      "\n",
      "前処理完了:\n",
      "  - 標高データ: (1357520, 42)\n",
      "  - 黒曜石データ: (30070, 11)\n",
      "  - 遺跡データ: (274, 49)\n"
     ]
    }
   ],
   "source": [
    "# パイプラインの作成と前処理の実行\n",
    "print(\"=== 前処理を実行中 ===\")\n",
    "pipeline = Model3Pipeline(model_config)\n",
    "preprocessor = pipeline.run_preprocessing()\n",
    "\n",
    "print(\"\\n前処理完了:\")\n",
    "print(f\"  - 標高データ: {preprocessor.df_elevation.shape}\")\n",
    "print(f\"  - 黒曜石データ: {preprocessor.df_obsidian.shape}\")\n",
    "print(f\"  - 遺跡データ: {preprocessor.df_sites.shape}\")"
   ]
  },
  {
   "cell_type": "markdown",
   "metadata": {},
   "source": [
    "## 2. Compositional Data評価指標のテスト"
   ]
  },
  {
   "cell_type": "code",
   "execution_count": 4,
   "metadata": {},
   "outputs": [
    {
     "name": "stdout",
     "output_type": "stream",
     "text": [
      "=== Compositional Data評価指標のテスト ===\n",
      "テストデータ1: [0.4 0.3 0.2 0.1 0. ] (合計: 1.000)\n",
      "テストデータ2: [0.3  0.4  0.15 0.1  0.05] (合計: 1.000)\n",
      "\n",
      "妥当性チェック後:\n",
      "データ1: [3.999996e-01 2.999997e-01 1.999998e-01 9.999990e-02 9.999990e-07] (合計: 1.000)\n",
      "データ2: [0.3  0.4  0.15 0.1  0.05] (合計: 1.000)\n",
      "\n",
      "評価指標:\n",
      "  - Aitchison Distance: 9.7535\n",
      "  - Total Variation: 95.1309\n",
      "\n",
      "CLR変換:\n",
      "  - CLR(x): [ 3.05326869  2.76558662  2.36012151  1.66697433 -9.84595114]\n",
      "  - CLR(y): [ 0.65916737  0.94684945 -0.03397981 -0.43944492 -1.1325921 ]\n",
      "  - CLR変換後のユークリッド距離: 9.7535\n",
      "  - Aitchison距離との一致: True\n"
     ]
    }
   ],
   "source": [
    "# Compositional Metricsのテスト\n",
    "metrics = CompositionalMetrics(zero_replacement=1e-6)\n",
    "\n",
    "# テスト用のデータ\n",
    "test_x = np.array([0.4, 0.3, 0.2, 0.1, 0.0])  # 神津島、信州、箱根、高原山、その他\n",
    "test_y = np.array([0.3, 0.4, 0.15, 0.1, 0.05])\n",
    "\n",
    "print(\"=== Compositional Data評価指標のテスト ===\")\n",
    "print(f\"テストデータ1: {test_x} (合計: {np.sum(test_x):.3f})\")\n",
    "print(f\"テストデータ2: {test_y} (合計: {np.sum(test_y):.3f})\")\n",
    "\n",
    "# 妥当性チェック後のデータ\n",
    "validated_x = metrics._validate_composition(test_x)\n",
    "validated_y = metrics._validate_composition(test_y)\n",
    "print(\"\\n妥当性チェック後:\")\n",
    "print(f\"データ1: {validated_x} (合計: {np.sum(validated_x):.3f})\")\n",
    "print(f\"データ2: {validated_y} (合計: {np.sum(validated_y):.3f})\")\n",
    "\n",
    "# 評価指標の計算\n",
    "aitchison_dist = metrics.aitchison_distance(test_x, test_y)\n",
    "total_var = metrics.total_variation(test_x, test_y)\n",
    "\n",
    "print(\"\\n評価指標:\")\n",
    "print(f\"  - Aitchison Distance: {aitchison_dist:.4f}\")\n",
    "print(f\"  - Total Variation: {total_var:.4f}\")\n",
    "\n",
    "# CLR変換のテスト\n",
    "clr_x = metrics.clr_transform(test_x)\n",
    "clr_y = metrics.clr_transform(test_y)\n",
    "print(\"\\nCLR変換:\")\n",
    "print(f\"  - CLR(x): {clr_x}\")\n",
    "print(f\"  - CLR(y): {clr_y}\")\n",
    "print(f\"  - CLR変換後のユークリッド距離: {np.sqrt(np.sum((clr_x - clr_y) ** 2)):.4f}\")\n",
    "print(\n",
    "    f\"  - Aitchison距離との一致: {np.allclose(aitchison_dist, np.sqrt(np.sum((clr_x - clr_y) ** 2)))}\"\n",
    ")"
   ]
  },
  {
   "cell_type": "markdown",
   "metadata": {},
   "source": [
    "## 3. LOOCV評価器の初期化と基本動作確認"
   ]
  },
  {
   "cell_type": "code",
   "execution_count": 5,
   "metadata": {},
   "outputs": [
    {
     "name": "stdout",
     "output_type": "stream",
     "text": [
      "=== LOOCV評価器を初期化 ===\n",
      "対象遺跡数: 274\n",
      "遺跡ID (最初の10個): [0, 1, 2, 3, 4, 5, 6, 7, 8, 9]\n",
      "\n",
      "=== 観測構成比の確認 ===\n",
      "時期 0 (早期・早々期): 53遺跡にデータあり\n",
      "  遺跡19: [0.00729927 0.96350365 0.         0.         0.02919708] (合計: 1.000)\n",
      "  遺跡31: [0.70987654 0.         0.2654321  0.         0.02469136] (合計: 1.000)\n",
      "  遺跡34: [0.2 0.8 0.  0.  0. ] (合計: 1.000)\n",
      "時期 1 (前期): 61遺跡にデータあり\n",
      "  遺跡0: [0. 1. 0. 0. 0.] (合計: 1.000)\n",
      "  遺跡2: [0. 1. 0. 0. 0.] (合計: 1.000)\n",
      "  遺跡3: [0. 1. 0. 0. 0.] (合計: 1.000)\n",
      "時期 2 (中期): 146遺跡にデータあり\n",
      "  遺跡1: [0. 1. 0. 0. 0.] (合計: 1.000)\n",
      "  遺跡15: [0.3 0.7 0.  0.  0. ] (合計: 1.000)\n",
      "  遺跡16: [0.         0.95454545 0.         0.         0.04545455] (合計: 1.000)\n",
      "時期 3 (後期): 59遺跡にデータあり\n",
      "  遺跡6: [0.         0.90740741 0.         0.         0.09259259] (合計: 1.000)\n",
      "  遺跡8: [0.    0.625 0.    0.    0.375] (合計: 1.000)\n",
      "  遺跡9: [0.         0.92307692 0.         0.         0.07692308] (合計: 1.000)\n",
      "時期 4 (晩期): 18遺跡にデータあり\n",
      "  遺跡12: [0.02040816 0.95918367 0.         0.         0.02040816] (合計: 1.000)\n",
      "  遺跡13: [0.         0.66666667 0.         0.         0.33333333] (合計: 1.000)\n",
      "  遺跡26: [0. 1. 0. 0. 0.] (合計: 1.000)\n"
     ]
    }
   ],
   "source": [
    "# LOOCV評価器の作成\n",
    "print(\"=== LOOCV評価器を初期化 ===\")\n",
    "evaluator = LOOCVEvaluator(\n",
    "    preprocessor=preprocessor, model_config=model_config, loocv_config=loocv_config\n",
    ")\n",
    "\n",
    "print(f\"対象遺跡数: {len(evaluator.site_ids)}\")\n",
    "print(f\"遺跡ID (最初の10個): {evaluator.site_ids[:10]}\")\n",
    "\n",
    "# 各時期での観測構成比の確認\n",
    "print(\"\\n=== 観測構成比の確認 ===\")\n",
    "for period in model_config.time_periods.keys():\n",
    "    period_name = model_config.time_periods[period]\n",
    "    compositions = evaluator.observed_compositions[period]\n",
    "\n",
    "    # データのある遺跡数をカウント\n",
    "    non_uniform_sites = 0\n",
    "    for site_id, comp in compositions.items():\n",
    "        # 均等分布でない場合のみカウント\n",
    "        if not np.allclose(comp, 1.0 / len(comp)):\n",
    "            non_uniform_sites += 1\n",
    "\n",
    "    print(f\"時期 {period} ({period_name}): {non_uniform_sites}遺跡にデータあり\")\n",
    "\n",
    "    # 最初の数個の遺跡の構成比を表示\n",
    "    shown_count = 0\n",
    "    for site_id, comp in compositions.items():\n",
    "        if not np.allclose(comp, 1.0 / len(comp)) and shown_count < 3:\n",
    "            print(f\"  遺跡{site_id}: {comp} (合計: {np.sum(comp):.3f})\")\n",
    "            shown_count += 1"
   ]
  },
  {
   "cell_type": "markdown",
   "metadata": {},
   "source": [
    "## 4. 単一試行のテスト"
   ]
  },
  {
   "cell_type": "code",
   "execution_count": 6,
   "metadata": {},
   "outputs": [
    {
     "name": "stdout",
     "output_type": "stream",
     "text": [
      "=== 単一試行テスト ===\n",
      "テスト時期: 0 (早期・早々期)\n",
      "テスト遺跡: 19\n",
      "観測構成比: [0.00729927 0.96350365 0.         0.         0.02919708]\n",
      "産地別内訳:\n",
      "  神津島: 0.007\n",
      "  信州: 0.964\n",
      "  箱根: 0.000\n",
      "  高原山: 0.000\n",
      "  その他: 0.029\n",
      "\n",
      "=== 単一試行を実行 ===\n",
      "creating weights matrix...\n",
      "calculating distance_W...\n",
      "updating weights matrix...\n",
      "試行成功!\n",
      "予測構成比: [6.06500606e-04 9.99282195e-01 3.32581052e-08 1.09079773e-04\n",
      " 2.19123392e-06]\n",
      "産地別比較:\n",
      "  神津島: 観測=0.007, 予測=0.001, 差=0.007\n",
      "  信州: 観測=0.964, 予測=0.999, 差=0.036\n",
      "  箱根: 観測=0.000, 予測=0.000, 差=0.000\n",
      "  高原山: 観測=0.000, 予測=0.000, 差=0.000\n",
      "  その他: 観測=0.029, 予測=0.000, 差=0.029\n",
      "\n",
      "評価指標:\n",
      "  - Aitchison Distance: 10.3567\n",
      "  - Total Variation: 107.2620\n"
     ]
    }
   ],
   "source": [
    "# 特定の時期・遺跡での単一試行テスト\n",
    "test_period = 0  # 早期・早々期\n",
    "period_name = model_config.time_periods[test_period]\n",
    "\n",
    "# データのある遺跡を探す\n",
    "available_sites = []\n",
    "for site_id in evaluator.site_ids[:20]:  # 最初の20個から探す\n",
    "    if site_id in evaluator.observed_compositions[test_period]:\n",
    "        comp = evaluator.observed_compositions[test_period][site_id]\n",
    "        if not np.allclose(comp, 1.0 / len(comp)):\n",
    "            available_sites.append(site_id)\n",
    "\n",
    "if len(available_sites) > 0:\n",
    "    test_site_id = available_sites[0]\n",
    "    print(\"=== 単一試行テスト ===\")\n",
    "    print(f\"テスト時期: {test_period} ({period_name})\")\n",
    "    print(f\"テスト遺跡: {test_site_id}\")\n",
    "\n",
    "    # 観測構成比を表示\n",
    "    observed_comp = evaluator.observed_compositions[test_period][test_site_id]\n",
    "    print(f\"観測構成比: {observed_comp}\")\n",
    "    print(\"産地別内訳:\")\n",
    "    for i, origin in enumerate(model_config.origins):\n",
    "        print(f\"  {origin}: {observed_comp[i]:.3f}\")\n",
    "\n",
    "    print(\"\\n=== 単一試行を実行 ===\")\n",
    "    result = evaluator.run_single_trial(test_period, test_site_id)\n",
    "\n",
    "    if result[\"success\"]:\n",
    "        print(\"試行成功!\")\n",
    "        print(f\"予測構成比: {result['predicted_composition']}\")\n",
    "        print(\"産地別比較:\")\n",
    "        for i, origin in enumerate(model_config.origins):\n",
    "            obs = result[\"observed_composition\"][i]\n",
    "            pred = result[\"predicted_composition\"][i]\n",
    "            diff = abs(obs - pred)\n",
    "            print(f\"  {origin}: 観測={obs:.3f}, 予測={pred:.3f}, 差={diff:.3f}\")\n",
    "\n",
    "        print(\"\\n評価指標:\")\n",
    "        print(f\"  - Aitchison Distance: {result['aitchison_distance']:.4f}\")\n",
    "        print(f\"  - Total Variation: {result['total_variation']:.4f}\")\n",
    "    else:\n",
    "        print(f\"試行失敗: {result['error']}\")\n",
    "else:\n",
    "    print(\"テスト可能な遺跡が見つかりませんでした\")"
   ]
  },
  {
   "cell_type": "markdown",
   "metadata": {},
   "source": [
    "## 5. 複数試行のテスト（小規模）"
   ]
  },
  {
   "cell_type": "code",
   "execution_count": 7,
   "metadata": {},
   "outputs": [
    {
     "name": "stdout",
     "output_type": "stream",
     "text": [
      "=== 小規模評価テスト (時期0, 3試行) ===\n"
     ]
    },
    {
     "name": "stderr",
     "output_type": "stream",
     "text": [
      "Period 0 LOOCV:   0%|          | 0/3 [00:00<?, ?it/s]"
     ]
    },
    {
     "name": "stdout",
     "output_type": "stream",
     "text": [
      "creating weights matrix...\n",
      "calculating distance_W...\n",
      "updating weights matrix...\n"
     ]
    },
    {
     "name": "stderr",
     "output_type": "stream",
     "text": [
      "Period 0 LOOCV:  33%|███▎      | 1/3 [00:42<01:24, 42.23s/it]"
     ]
    },
    {
     "name": "stdout",
     "output_type": "stream",
     "text": [
      "creating weights matrix...\n",
      "calculating distance_W...\n",
      "updating weights matrix...\n"
     ]
    },
    {
     "name": "stderr",
     "output_type": "stream",
     "text": [
      "Period 0 LOOCV:  67%|██████▋   | 2/3 [01:25<00:42, 42.58s/it]"
     ]
    },
    {
     "name": "stdout",
     "output_type": "stream",
     "text": [
      "creating weights matrix...\n",
      "calculating distance_W...\n",
      "updating weights matrix...\n"
     ]
    },
    {
     "name": "stderr",
     "output_type": "stream",
     "text": [
      "Period 0 LOOCV: 100%|██████████| 3/3 [02:07<00:00, 42.57s/it]"
     ]
    },
    {
     "name": "stdout",
     "output_type": "stream",
     "text": [
      "\n",
      "結果:\n",
      "  - 実行試行数: 3\n",
      "  - 利用可能遺跡: 53\n",
      "  - 成功試行数: 3\n",
      "  - 成功率: 1.000\n",
      "  - 平均Aitchison距離: 13.1521\n",
      "  - 平均Total Variation: 178.4747\n",
      "\n",
      "=== 各試行の詳細 ===\n",
      "試行 1:\n",
      "  遺跡ID: 208\n",
      "  成功: True\n",
      "  Aitchison距離: 16.0064\n",
      "  Total Variation: 256.2058\n",
      "\n",
      "試行 2:\n",
      "  遺跡ID: 67\n",
      "  成功: True\n",
      "  Aitchison距離: 13.1864\n",
      "  Total Variation: 173.8806\n",
      "\n",
      "試行 3:\n",
      "  遺跡ID: 31\n",
      "  成功: True\n",
      "  Aitchison距離: 10.2634\n",
      "  Total Variation: 105.3378\n",
      "\n"
     ]
    },
    {
     "name": "stderr",
     "output_type": "stream",
     "text": [
      "\n"
     ]
    }
   ],
   "source": [
    "# 特定時期での小規模評価\n",
    "test_period = 0\n",
    "small_n_trials = 3\n",
    "\n",
    "print(f\"=== 小規模評価テスト (時期{test_period}, {small_n_trials}試行) ===\")\n",
    "period_result = evaluator.run_period_evaluation(test_period, n_trials=small_n_trials)\n",
    "\n",
    "print(\"\\n結果:\")\n",
    "print(f\"  - 実行試行数: {period_result['n_trials']}\")\n",
    "print(f\"  - 利用可能遺跡: {len(period_result.get('available_sites', []))}\")\n",
    "\n",
    "if \"summary_statistics\" in period_result:\n",
    "    stats = period_result[\"summary_statistics\"]\n",
    "    print(f\"  - 成功試行数: {stats['n_successful_trials']}\")\n",
    "    print(f\"  - 成功率: {stats['success_rate']:.3f}\")\n",
    "\n",
    "    if stats[\"n_successful_trials\"] > 0:\n",
    "        print(f\"  - 平均Aitchison距離: {stats['mean_aitchison_distance']:.4f}\")\n",
    "        print(f\"  - 平均Total Variation: {stats['mean_total_variation']:.4f}\")\n",
    "\n",
    "# 各試行の詳細を表示\n",
    "print(\"\\n=== 各試行の詳細 ===\")\n",
    "for i, trial in enumerate(period_result[\"trial_results\"]):\n",
    "    print(f\"試行 {i + 1}:\")\n",
    "    print(f\"  遺跡ID: {trial['test_site_id']}\")\n",
    "    print(f\"  成功: {trial['success']}\")\n",
    "    if trial[\"success\"]:\n",
    "        print(f\"  Aitchison距離: {trial['aitchison_distance']:.4f}\")\n",
    "        print(f\"  Total Variation: {trial['total_variation']:.4f}\")\n",
    "    else:\n",
    "        print(f\"  エラー: {trial['error']}\")\n",
    "    print()"
   ]
  },
  {
   "cell_type": "markdown",
   "metadata": {},
   "source": [
    "## 6. 結果の可視化"
   ]
  },
  {
   "cell_type": "code",
   "execution_count": 8,
   "metadata": {},
   "outputs": [
    {
     "name": "stdout",
     "output_type": "stream",
     "text": [
      "=== 可視化用データの生成 ===\n"
     ]
    },
    {
     "name": "stderr",
     "output_type": "stream",
     "text": [
      "Period 0 LOOCV:   0%|          | 0/10 [00:00<?, ?it/s]"
     ]
    },
    {
     "name": "stdout",
     "output_type": "stream",
     "text": [
      "creating weights matrix...\n",
      "calculating distance_W...\n",
      "updating weights matrix...\n"
     ]
    },
    {
     "name": "stderr",
     "output_type": "stream",
     "text": [
      "Period 0 LOOCV:  10%|█         | 1/10 [00:42<06:23, 42.59s/it]"
     ]
    },
    {
     "name": "stdout",
     "output_type": "stream",
     "text": [
      "creating weights matrix...\n",
      "calculating distance_W...\n",
      "updating weights matrix...\n"
     ]
    },
    {
     "name": "stderr",
     "output_type": "stream",
     "text": [
      "Period 0 LOOCV:  20%|██        | 2/10 [01:25<05:40, 42.61s/it]"
     ]
    },
    {
     "name": "stdout",
     "output_type": "stream",
     "text": [
      "creating weights matrix...\n",
      "calculating distance_W...\n",
      "updating weights matrix...\n"
     ]
    },
    {
     "name": "stderr",
     "output_type": "stream",
     "text": [
      "Period 0 LOOCV:  30%|███       | 3/10 [02:07<04:58, 42.63s/it]"
     ]
    },
    {
     "name": "stdout",
     "output_type": "stream",
     "text": [
      "creating weights matrix...\n",
      "calculating distance_W...\n",
      "updating weights matrix...\n"
     ]
    },
    {
     "name": "stderr",
     "output_type": "stream",
     "text": [
      "Period 0 LOOCV:  40%|████      | 4/10 [02:49<04:14, 42.37s/it]"
     ]
    },
    {
     "name": "stdout",
     "output_type": "stream",
     "text": [
      "creating weights matrix...\n",
      "calculating distance_W...\n",
      "updating weights matrix...\n"
     ]
    },
    {
     "name": "stderr",
     "output_type": "stream",
     "text": [
      "Period 0 LOOCV:  50%|█████     | 5/10 [03:31<03:31, 42.25s/it]"
     ]
    },
    {
     "name": "stdout",
     "output_type": "stream",
     "text": [
      "creating weights matrix...\n",
      "calculating distance_W...\n",
      "updating weights matrix...\n"
     ]
    },
    {
     "name": "stderr",
     "output_type": "stream",
     "text": [
      "Period 0 LOOCV:  60%|██████    | 6/10 [04:14<02:48, 42.21s/it]"
     ]
    },
    {
     "name": "stdout",
     "output_type": "stream",
     "text": [
      "creating weights matrix...\n",
      "calculating distance_W...\n",
      "updating weights matrix...\n"
     ]
    },
    {
     "name": "stderr",
     "output_type": "stream",
     "text": [
      "Period 0 LOOCV:  70%|███████   | 7/10 [04:56<02:07, 42.43s/it]"
     ]
    },
    {
     "name": "stdout",
     "output_type": "stream",
     "text": [
      "creating weights matrix...\n",
      "calculating distance_W...\n",
      "updating weights matrix...\n"
     ]
    },
    {
     "name": "stderr",
     "output_type": "stream",
     "text": [
      "Period 0 LOOCV:  80%|████████  | 8/10 [05:39<01:25, 42.52s/it]"
     ]
    },
    {
     "name": "stdout",
     "output_type": "stream",
     "text": [
      "creating weights matrix...\n",
      "calculating distance_W...\n",
      "updating weights matrix...\n"
     ]
    },
    {
     "name": "stderr",
     "output_type": "stream",
     "text": [
      "Period 0 LOOCV:  90%|█████████ | 9/10 [06:22<00:42, 42.60s/it]"
     ]
    },
    {
     "name": "stdout",
     "output_type": "stream",
     "text": [
      "creating weights matrix...\n",
      "calculating distance_W...\n",
      "updating weights matrix...\n"
     ]
    },
    {
     "name": "stderr",
     "output_type": "stream",
     "text": [
      "Period 0 LOOCV: 100%|██████████| 10/10 [07:05<00:00, 42.52s/it]\n"
     ]
    },
    {
     "data": {
      "image/png": "[encoded data removed]",
      "text/plain": [
       "<Figure size 1200x500 with 2 Axes>"
      ]
     },
     "metadata": {},
     "output_type": "display_data"
    },
    {
     "name": "stdout",
     "output_type": "stream",
     "text": [
      "\n",
      "=== 統計サマリー (10試行) ===\n",
      "Aitchison Distance:\n",
      "  - 平均: 10.9225\n",
      "  - 標準偏差: 2.2475\n",
      "  - 中央値: 10.9725\n",
      "  - 範囲: [6.4255, 16.0975]\n",
      "\n",
      "Total Variation:\n",
      "  - 平均: 124.3513\n",
      "  - 標準偏差: 51.8979\n",
      "  - 中央値: 120.3965\n",
      "  - 範囲: [41.2875, 259.1292]\n"
     ]
    }
   ],
   "source": [
    "# より多くの試行で評価結果を可視化\n",
    "print(\"=== 可視化用データの生成 ===\")\n",
    "viz_n_trials = 10\n",
    "viz_result = evaluator.run_period_evaluation(test_period, n_trials=viz_n_trials)\n",
    "\n",
    "if viz_result[\"summary_statistics\"][\"n_successful_trials\"] > 0:\n",
    "    # 評価指標の分布を可視化\n",
    "    fig, axes = plt.subplots(1, 2, figsize=(12, 5))\n",
    "\n",
    "    # Aitchison距離のヒストグラム\n",
    "    aitchison_distances = viz_result[\"summary_statistics\"][\"aitchison_distances\"]\n",
    "    axes[0].hist(aitchison_distances, bins=5, alpha=0.7, edgecolor=\"black\")\n",
    "    axes[0].set_title(\"Aitchison Distance Distribution\")\n",
    "    axes[0].set_xlabel(\"Aitchison Distance\")\n",
    "    axes[0].set_ylabel(\"Frequency\")\n",
    "    axes[0].axvline(\n",
    "        np.mean(aitchison_distances),\n",
    "        color=\"red\",\n",
    "        linestyle=\"--\",\n",
    "        label=f\"Mean: {np.mean(aitchison_distances):.3f}\",\n",
    "    )\n",
    "    axes[0].legend()\n",
    "\n",
    "    # Total Variationのヒストグラム\n",
    "    total_variations = viz_result[\"summary_statistics\"][\"total_variations\"]\n",
    "    axes[1].hist(total_variations, bins=5, alpha=0.7, edgecolor=\"black\")\n",
    "    axes[1].set_title(\"Total Variation Distribution\")\n",
    "    axes[1].set_xlabel(\"Total Variation\")\n",
    "    axes[1].set_ylabel(\"Frequency\")\n",
    "    axes[1].axvline(\n",
    "        np.mean(total_variations),\n",
    "        color=\"red\",\n",
    "        linestyle=\"--\",\n",
    "        label=f\"Mean: {np.mean(total_variations):.3f}\",\n",
    "    )\n",
    "    axes[1].legend()\n",
    "\n",
    "    plt.tight_layout()\n",
    "    plt.show()\n",
    "\n",
    "    # 統計サマリー\n",
    "    print(f\"\\n=== 統計サマリー ({viz_n_trials}試行) ===\")\n",
    "    print(\"Aitchison Distance:\")\n",
    "    print(f\"  - 平均: {np.mean(aitchison_distances):.4f}\")\n",
    "    print(f\"  - 標準偏差: {np.std(aitchison_distances):.4f}\")\n",
    "    print(f\"  - 中央値: {np.median(aitchison_distances):.4f}\")\n",
    "    print(\n",
    "        f\"  - 範囲: [{np.min(aitchison_distances):.4f}, {np.max(aitchison_distances):.4f}]\"\n",
    "    )\n",
    "\n",
    "    print(\"\\nTotal Variation:\")\n",
    "    print(f\"  - 平均: {np.mean(total_variations):.4f}\")\n",
    "    print(f\"  - 標準偏差: {np.std(total_variations):.4f}\")\n",
    "    print(f\"  - 中央値: {np.median(total_variations):.4f}\")\n",
    "    print(f\"  - 範囲: [{np.min(total_variations):.4f}, {np.max(total_variations):.4f}]\")\n",
    "else:\n",
    "    print(\"成功した試行がないため、可視化をスキップします\")"
   ]
  },
  {
   "cell_type": "markdown",
   "metadata": {},
   "source": [
    "## 7. 全時期での小規模テスト"
   ]
  },
  {
   "cell_type": "code",
   "execution_count": 9,
   "metadata": {},
   "outputs": [
    {
     "name": "stdout",
     "output_type": "stream",
     "text": [
      "=== 全時期での小規模テスト ===\n",
      "\n",
      "時期 0 (早期・早々期) を評価中...\n"
     ]
    },
    {
     "name": "stderr",
     "output_type": "stream",
     "text": [
      "Period 0 LOOCV:   0%|          | 0/2 [00:00<?, ?it/s]"
     ]
    },
    {
     "name": "stdout",
     "output_type": "stream",
     "text": [
      "creating weights matrix...\n",
      "calculating distance_W...\n",
      "updating weights matrix...\n"
     ]
    },
    {
     "name": "stderr",
     "output_type": "stream",
     "text": [
      "Period 0 LOOCV:  50%|█████     | 1/2 [00:42<00:42, 42.21s/it]"
     ]
    },
    {
     "name": "stdout",
     "output_type": "stream",
     "text": [
      "creating weights matrix...\n",
      "calculating distance_W...\n",
      "updating weights matrix...\n"
     ]
    },
    {
     "name": "stderr",
     "output_type": "stream",
     "text": [
      "Period 0 LOOCV: 100%|██████████| 2/2 [01:24<00:00, 42.17s/it]\n"
     ]
    },
    {
     "name": "stdout",
     "output_type": "stream",
     "text": [
      "  - 試行数: 2\n",
      "  - 成功数: 2\n",
      "  - 平均Aitchison距離: 10.8906\n",
      "  - 平均Total Variation: 119.1632\n",
      "\n",
      "時期 1 (前期) を評価中...\n"
     ]
    },
    {
     "name": "stderr",
     "output_type": "stream",
     "text": [
      "Period 1 LOOCV:   0%|          | 0/2 [00:00<?, ?it/s]"
     ]
    },
    {
     "name": "stdout",
     "output_type": "stream",
     "text": [
      "creating weights matrix...\n",
      "calculating distance_W...\n",
      "updating weights matrix...\n"
     ]
    },
    {
     "name": "stderr",
     "output_type": "stream",
     "text": [
      "Period 1 LOOCV:  50%|█████     | 1/2 [00:42<00:42, 42.86s/it]"
     ]
    },
    {
     "name": "stdout",
     "output_type": "stream",
     "text": [
      "creating weights matrix...\n",
      "calculating distance_W...\n",
      "updating weights matrix...\n"
     ]
    },
    {
     "name": "stderr",
     "output_type": "stream",
     "text": [
      "Period 1 LOOCV: 100%|██████████| 2/2 [01:25<00:00, 42.86s/it]\n"
     ]
    },
    {
     "name": "stdout",
     "output_type": "stream",
     "text": [
      "  - 試行数: 2\n",
      "  - 成功数: 2\n",
      "  - 平均Aitchison距離: 10.0473\n",
      "  - 平均Total Variation: 102.1975\n",
      "\n",
      "時期 2 (中期) を評価中...\n"
     ]
    },
    {
     "name": "stderr",
     "output_type": "stream",
     "text": [
      "Period 2 LOOCV:   0%|          | 0/2 [00:00<?, ?it/s]"
     ]
    },
    {
     "name": "stdout",
     "output_type": "stream",
     "text": [
      "creating weights matrix...\n",
      "calculating distance_W...\n",
      "updating weights matrix...\n"
     ]
    },
    {
     "name": "stderr",
     "output_type": "stream",
     "text": [
      "Period 2 LOOCV:  50%|█████     | 1/2 [00:42<00:42, 42.23s/it]"
     ]
    },
    {
     "name": "stdout",
     "output_type": "stream",
     "text": [
      "creating weights matrix...\n",
      "calculating distance_W...\n",
      "updating weights matrix...\n"
     ]
    },
    {
     "name": "stderr",
     "output_type": "stream",
     "text": [
      "Period 2 LOOCV: 100%|██████████| 2/2 [01:24<00:00, 42.23s/it]\n"
     ]
    },
    {
     "name": "stdout",
     "output_type": "stream",
     "text": [
      "  - 試行数: 2\n",
      "  - 成功数: 2\n",
      "  - 平均Aitchison距離: 3.9059\n",
      "  - 平均Total Variation: 16.9528\n",
      "\n",
      "時期 3 (後期) を評価中...\n"
     ]
    },
    {
     "name": "stderr",
     "output_type": "stream",
     "text": [
      "Period 3 LOOCV:   0%|          | 0/2 [00:00<?, ?it/s]"
     ]
    },
    {
     "name": "stdout",
     "output_type": "stream",
     "text": [
      "creating weights matrix...\n",
      "calculating distance_W...\n",
      "updating weights matrix...\n"
     ]
    },
    {
     "name": "stderr",
     "output_type": "stream",
     "text": [
      "Period 3 LOOCV:  50%|█████     | 1/2 [00:42<00:42, 42.24s/it]"
     ]
    },
    {
     "name": "stdout",
     "output_type": "stream",
     "text": [
      "creating weights matrix...\n",
      "calculating distance_W...\n",
      "updating weights matrix...\n"
     ]
    },
    {
     "name": "stderr",
     "output_type": "stream",
     "text": [
      "Period 3 LOOCV: 100%|██████████| 2/2 [01:25<00:00, 42.56s/it]\n"
     ]
    },
    {
     "name": "stdout",
     "output_type": "stream",
     "text": [
      "  - 試行数: 2\n",
      "  - 成功数: 2\n",
      "  - 平均Aitchison距離: 10.7389\n",
      "  - 平均Total Variation: 115.4506\n",
      "\n",
      "時期 4 (晩期) を評価中...\n"
     ]
    },
    {
     "name": "stderr",
     "output_type": "stream",
     "text": [
      "Period 4 LOOCV:   0%|          | 0/2 [00:00<?, ?it/s]"
     ]
    },
    {
     "name": "stdout",
     "output_type": "stream",
     "text": [
      "creating weights matrix...\n",
      "calculating distance_W...\n",
      "updating weights matrix...\n"
     ]
    },
    {
     "name": "stderr",
     "output_type": "stream",
     "text": [
      "Period 4 LOOCV:  50%|█████     | 1/2 [00:42<00:42, 42.21s/it]"
     ]
    },
    {
     "name": "stdout",
     "output_type": "stream",
     "text": [
      "creating weights matrix...\n",
      "calculating distance_W...\n",
      "updating weights matrix...\n"
     ]
    },
    {
     "name": "stderr",
     "output_type": "stream",
     "text": [
      "Period 4 LOOCV: 100%|██████████| 2/2 [01:24<00:00, 42.23s/it]"
     ]
    },
    {
     "name": "stdout",
     "output_type": "stream",
     "text": [
      "  - 試行数: 2\n",
      "  - 成功数: 2\n",
      "  - 平均Aitchison距離: 8.9009\n",
      "  - 平均Total Variation: 87.8662\n",
      "\n",
      "=== 全時期サマリー ===\n",
      " Period Period_Name  N_Trials  N_Success  Success_Rate  Mean_Aitchison  Mean_TotalVar\n",
      "      0      早期・早々期         2          2        1.0000         10.8906       119.1632\n",
      "      1          前期         2          2        1.0000         10.0473       102.1975\n",
      "      2          中期         2          2        1.0000          3.9059        16.9528\n",
      "      3          後期         2          2        1.0000         10.7389       115.4506\n",
      "      4          晩期         2          2        1.0000          8.9009        87.8662\n"
     ]
    },
    {
     "name": "stderr",
     "output_type": "stream",
     "text": [
      "\n"
     ]
    }
   ],
   "source": [
    "# 全時期での非常に小規模なテスト\n",
    "print(\"=== 全時期での小規模テスト ===\")\n",
    "mini_n_trials = 2\n",
    "\n",
    "all_results = {}\n",
    "for period in model_config.time_periods.keys():\n",
    "    period_name = model_config.time_periods[period]\n",
    "    print(f\"\\n時期 {period} ({period_name}) を評価中...\")\n",
    "\n",
    "    result = evaluator.run_period_evaluation(period, n_trials=mini_n_trials)\n",
    "    all_results[period] = result\n",
    "\n",
    "    stats = result.get(\"summary_statistics\", {})\n",
    "    print(f\"  - 試行数: {result.get('n_trials', 0)}\")\n",
    "    print(f\"  - 成功数: {stats.get('n_successful_trials', 0)}\")\n",
    "    if stats.get(\"n_successful_trials\", 0) > 0:\n",
    "        print(\n",
    "            f\"  - 平均Aitchison距離: {stats.get('mean_aitchison_distance', 'N/A'):.4f}\"\n",
    "        )\n",
    "        print(\n",
    "            f\"  - 平均Total Variation: {stats.get('mean_total_variation', 'N/A'):.4f}\"\n",
    "        )\n",
    "\n",
    "# サマリーテーブルの作成\n",
    "summary_data = []\n",
    "for period, result in all_results.items():\n",
    "    stats = result.get(\"summary_statistics\", {})\n",
    "    summary_data.append(\n",
    "        {\n",
    "            \"Period\": period,\n",
    "            \"Period_Name\": model_config.time_periods[period],\n",
    "            \"N_Trials\": result.get(\"n_trials\", 0),\n",
    "            \"N_Success\": stats.get(\"n_successful_trials\", 0),\n",
    "            \"Success_Rate\": stats.get(\"success_rate\", 0.0),\n",
    "            \"Mean_Aitchison\": stats.get(\"mean_aitchison_distance\", np.nan),\n",
    "            \"Mean_TotalVar\": stats.get(\"mean_total_variation\", np.nan),\n",
    "        }\n",
    "    )\n",
    "\n",
    "summary_df = pd.DataFrame(summary_data)\n",
    "print(\"\\n=== 全時期サマリー ===\")\n",
    "print(summary_df.to_string(index=False, float_format=\"%.4f\"))"
   ]
  },
  {
   "cell_type": "markdown",
   "metadata": {},
   "source": [
    "## 8. パフォーマンス測定"
   ]
  },
  {
   "cell_type": "code",
   "execution_count": 10,
   "metadata": {},
   "outputs": [
    {
     "name": "stdout",
     "output_type": "stream",
     "text": [
      "=== パフォーマンス測定 ===\n",
      "creating weights matrix...\n",
      "calculating distance_W...\n",
      "updating weights matrix...\n",
      "creating weights matrix...\n",
      "calculating distance_W...\n",
      "updating weights matrix...\n",
      "creating weights matrix...\n",
      "calculating distance_W...\n",
      "updating weights matrix...\n",
      "単一試行の平均実行時間: 45.45秒\n",
      "100試行の推定実行時間: 75.8分\n",
      "全時期100試行の推定実行時間: 378.8分\n"
     ]
    }
   ],
   "source": [
    "import time\n",
    "\n",
    "# 単一試行の実行時間測定\n",
    "if len(available_sites) > 0:\n",
    "    print(\"=== パフォーマンス測定 ===\")\n",
    "\n",
    "    # 5回の試行で平均実行時間を測定\n",
    "    execution_times = []\n",
    "    for i in range(3):\n",
    "        start_time = time.time()\n",
    "        result = evaluator.run_single_trial(test_period, available_sites[0])\n",
    "        end_time = time.time()\n",
    "        execution_times.append(end_time - start_time)\n",
    "\n",
    "    avg_time = np.mean(execution_times)\n",
    "    print(f\"単一試行の平均実行時間: {avg_time:.2f}秒\")\n",
    "    print(f\"100試行の推定実行時間: {avg_time * 100 / 60:.1f}分\")\n",
    "    print(f\"全時期100試行の推定実行時間: {avg_time * 100 * 5 / 60:.1f}分\")\n",
    "else:\n",
    "    print(\"パフォーマンス測定をスキップ（テスト可能な遺跡なし）\")"
   ]
  },
  {
   "cell_type": "markdown",
   "metadata": {},
   "source": [
    "## 9. エラーハンドリングのテスト"
   ]
  },
  {
   "cell_type": "code",
   "execution_count": 11,
   "metadata": {},
   "outputs": [
    {
     "name": "stdout",
     "output_type": "stream",
     "text": [
      "=== エラーハンドリングのテスト ===\n",
      "creating weights matrix...\n",
      "calculating distance_W...\n",
      "updating weights matrix...\n",
      "エラー: 遺跡99999, 時期0の試行でエラー: 遺跡ID 99999 が見つかりません\n",
      "存在しない遺跡99999でのテスト:\n",
      "  - 成功: False\n",
      "  - エラー: 遺跡ID 99999 が見つかりません\n",
      "\n",
      "=== 異常な構成比での評価指標テスト ===\n",
      "極端な分布間の距離:\n",
      "  - Aitchison Distance: 19.5381\n",
      "  - Total Variation: 381.7367\n",
      "\n",
      "=== デバッグ完了 ===\n",
      "システムは正常に動作しているようです。\n"
     ]
    }
   ],
   "source": [
    "# 存在しない遺跡でのテスト\n",
    "print(\"=== エラーハンドリングのテスト ===\")\n",
    "\n",
    "# 存在しない遺跡ID\n",
    "fake_site_id = 99999\n",
    "error_result = evaluator.run_single_trial(test_period, fake_site_id)\n",
    "\n",
    "print(f\"存在しない遺跡{fake_site_id}でのテスト:\")\n",
    "print(f\"  - 成功: {error_result['success']}\")\n",
    "if not error_result[\"success\"]:\n",
    "    print(f\"  - エラー: {error_result['error']}\")\n",
    "\n",
    "# 異常な構成比のテスト\n",
    "print(\"\\n=== 異常な構成比での評価指標テスト ===\")\n",
    "abnormal_x = np.array([1.0, 0.0, 0.0, 0.0, 0.0])  # 極端な分布\n",
    "abnormal_y = np.array([0.0, 0.0, 0.0, 0.0, 1.0])  # 逆の極端な分布\n",
    "\n",
    "try:\n",
    "    abnormal_aitchison = metrics.aitchison_distance(abnormal_x, abnormal_y)\n",
    "    abnormal_total_var = metrics.total_variation(abnormal_x, abnormal_y)\n",
    "    print(\"極端な分布間の距離:\")\n",
    "    print(f\"  - Aitchison Distance: {abnormal_aitchison:.4f}\")\n",
    "    print(f\"  - Total Variation: {abnormal_total_var:.4f}\")\n",
    "except Exception as e:\n",
    "    print(f\"エラー: {e}\")\n",
    "\n",
    "print(\"\\n=== デバッグ完了 ===\")\n",
    "print(\"システムは正常に動作しているようです。\")"
   ]
  }
 ],
 "metadata": {
  "kernelspec": {
   "display_name": ".venv",
   "language": "python",
   "name": "python3"
  },
  "language_info": {
   "codemirror_mode": {
    "name": "ipython",
    "version": 3
   },
   "file_extension": ".py",
   "mimetype": "text/x-python",
   "name": "python",
   "nbconvert_exporter": "python",
   "pygments_lexer": "ipython3",
   "version": "3.9.12"
  }
 },
 "nbformat": 4,
 "nbformat_minor": 4
}
