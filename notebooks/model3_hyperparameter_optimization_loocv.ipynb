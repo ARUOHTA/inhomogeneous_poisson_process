{
 "cells": [
  {
   "cell_type": "markdown",
   "metadata": {},
   "source": [
    "# Model 3rd LOOCV ハイパーパラメータ最適化\n",
    "\n",
    "Nadaraya-Watson推定のハイパーパラメータをLOOCV（Leave-One-Out Cross Validation）による定量的評価で最適化します。\n",
    "複数の候補パラメータについて全期間でモデルを推定し、compositional data評価指標を計測して、\n",
    "結果を箱ひげ図で比較し最適なパラメータを選択します。"
   ]
  },
  {
   "cell_type": "markdown",
   "metadata": {},
   "source": [
    "## 1. ライブラリのインポート"
   ]
  },
  {
   "cell_type": "code",
   "execution_count": 1,
   "metadata": {},
   "outputs": [
    {
     "name": "stderr",
     "output_type": "stream",
     "text": [
      "WARNING (pytensor.tensor.blas): Using NumPy C-API based implementation for BLAS functions.\n"
     ]
    },
    {
     "name": "stdout",
     "output_type": "stream",
     "text": [
      "ライブラリのインポート完了（メモリ効率化版）\n"
     ]
    }
   ],
   "source": [
    "import gc  # ガベージコレクション\n",
    "import json\n",
    "import os\n",
    "import sys\n",
    "from pathlib import Path\n",
    "\n",
    "# パスの追加（必要に応じて調整）\n",
    "sys.path.append(os.path.dirname(os.path.dirname(os.path.abspath(\"__file__\"))))\n",
    "\n",
    "import japanize_matplotlib\n",
    "\n",
    "japanize_matplotlib.japanize()\n",
    "import time\n",
    "\n",
    "# 警告の抑制\n",
    "import warnings\n",
    "from datetime import datetime\n",
    "from itertools import product\n",
    "\n",
    "import matplotlib.pyplot as plt\n",
    "import numpy as np\n",
    "import pandas as pd\n",
    "import polars as pl\n",
    "import seaborn as sns\n",
    "from tqdm import tqdm\n",
    "\n",
    "from bayesian_statistics.model3_config import Model3Config, Model3Pipeline\n",
    "from bayesian_statistics.model3_loocv import LOOCVConfig, LOOCVEvaluator\n",
    "from bayesian_statistics.model3_nadaraya_watson import NadarayaWatsonEstimator\n",
    "\n",
    "warnings.filterwarnings(\"ignore\")\n",
    "\n",
    "# プロット設定\n",
    "plt.style.use(\"default\")\n",
    "sns.set_palette(\"husl\")\n",
    "plt.rcParams[\"figure.figsize\"] = (12, 8)\n",
    "plt.rcParams[\"font.size\"] = 12\n",
    "\n",
    "# 初期メモリクリーンアップ\n",
    "gc.collect()\n",
    "\n",
    "print(\"ライブラリのインポート完了（メモリ効率化版）\")"
   ]
  },
  {
   "cell_type": "markdown",
   "metadata": {},
   "source": [
    "## 2. 設定の定義"
   ]
  },
  {
   "cell_type": "code",
   "execution_count": 2,
   "metadata": {},
   "outputs": [
    {
     "name": "stdout",
     "output_type": "stream",
     "text": [
      "設定内容:\n",
      "  データディレクトリ: /home/ohta/dev/bayesian_statistics/data/\n",
      "  領域: [138, 141] × [34, 37]\n",
      "  LOOCV試行回数: 5 (メモリ効率のため削減)\n",
      "  ランダムシード: 42\n"
     ]
    }
   ],
   "source": [
    "# データディレクトリの設定\n",
    "data_dir = \"/home/ohta/dev/bayesian_statistics/data/\"\n",
    "\n",
    "# 基本設定オブジェクトの作成\n",
    "base_config = Model3Config(\n",
    "    data_dir=data_dir,\n",
    "    x_min=138,\n",
    "    x_max=141,\n",
    "    y_min=34,\n",
    "    y_max=37,\n",
    "    nw_sigma=500,  # これは候補の一つとして使用\n",
    "    nw_sigma_for_sites=0.1,  # これも候補の一つとして使用\n",
    "    mcmc_iterations=30000,\n",
    "    burn_in=5000,\n",
    ")\n",
    "\n",
    "# LOOCV設定（メモリ効率のため試行回数を削減）\n",
    "loocv_config = LOOCVConfig(\n",
    "    n_trials=5,  # メモリ使用量を抑えるため5回に削減\n",
    "    zero_replacement=1e-6,\n",
    "    random_seed=42,\n",
    "    save_intermediate=True,\n",
    "    verbose=True,\n",
    ")\n",
    "\n",
    "print(\"設定内容:\")\n",
    "print(f\"  データディレクトリ: {base_config.data_dir}\")\n",
    "print(\n",
    "    f\"  領域: [{base_config.x_min}, {base_config.x_max}] × [{base_config.y_min}, {base_config.y_max}]\"\n",
    ")\n",
    "print(f\"  LOOCV試行回数: {loocv_config.n_trials} (メモリ効率のため削減)\")\n",
    "print(f\"  ランダムシード: {loocv_config.random_seed}\")"
   ]
  },
  {
   "cell_type": "markdown",
   "metadata": {},
   "source": [
    "## 3. 前処理"
   ]
  },
  {
   "cell_type": "code",
   "execution_count": 3,
   "metadata": {},
   "outputs": [
    {
     "name": "stdout",
     "output_type": "stream",
     "text": [
      "前処理を実行中...\n",
      "=== 前処理を開始 ===\n",
      "データを読み込んでいます...\n",
      "標高データ: (1357520, 42)\n",
      "黒曜石データ: (30070, 11)\n",
      "遺跡データ: (274, 49)\n",
      "前処理完了\n"
     ]
    }
   ],
   "source": [
    "# パイプラインの初期化\n",
    "pipeline = Model3Pipeline(base_config)\n",
    "\n",
    "# 前処理の実行\n",
    "print(\"前処理を実行中...\")\n",
    "preprocessor = pipeline.run_preprocessing()\n",
    "print(\"前処理完了\")"
   ]
  },
  {
   "cell_type": "markdown",
   "metadata": {},
   "source": [
    "## 4. ハイパーパラメータ候補の設定"
   ]
  },
  {
   "cell_type": "code",
   "execution_count": 4,
   "metadata": {},
   "outputs": [
    {
     "name": "stdout",
     "output_type": "stream",
     "text": [
      "ハイパーパラメータ候補（メモリ効率のため削減）:\n",
      "  sigma候補: [500, 700]\n",
      "  sigma_for_sites候補: [0.01, 0.1, 1.0]\n",
      "  評価対象時期: [0, 1, 2, 3, 4]\n",
      "  総候補数: 6 組み合わせ\n",
      "\n",
      "【パラメータ組み合わせ一覧】\n",
      "組み合わせ番号 | sigma | sigma_for_sites\n",
      "----------------------------------------\n",
      "       1       |  500 |     0.01\n",
      "       2       |  500 |     0.10\n",
      "       3       |  500 |     1.00\n",
      "       4       |  700 |     0.01\n",
      "       5       |  700 |     0.10\n",
      "       6       |  700 |     1.00\n",
      "\n",
      "総実行時間見積もり: 1.9 時間\n",
      "（1試行あたり約45秒と仮定、実際にはより効率的になる予定）\n"
     ]
    }
   ],
   "source": [
    "# ハイパーパラメータ候補の定義（メモリ効率のため候補数を削減）\n",
    "sigma_candidates = [500, 700]  # グリッド間のカーネルバンド幅（削減）\n",
    "sigma_for_sites_candidates = [0.01, 0.1, 1.0]  # 遺跡間のカーネルバンド幅（削減）\n",
    "\n",
    "# 評価対象の時期（全期間で評価）\n",
    "target_periods = list(base_config.time_periods.keys())\n",
    "\n",
    "print(\"ハイパーパラメータ候補（メモリ効率のため削減）:\")\n",
    "print(f\"  sigma候補: {sigma_candidates}\")\n",
    "print(f\"  sigma_for_sites候補: {sigma_for_sites_candidates}\")\n",
    "print(f\"  評価対象時期: {target_periods}\")\n",
    "print(\n",
    "    f\"  総候補数: {len(sigma_candidates) * len(sigma_for_sites_candidates)} 組み合わせ\"\n",
    ")\n",
    "\n",
    "# パラメータ組み合わせ一覧表\n",
    "print(\"\\n【パラメータ組み合わせ一覧】\")\n",
    "print(\"組み合わせ番号 | sigma | sigma_for_sites\")\n",
    "print(\"-\" * 40)\n",
    "combination_counter = 0\n",
    "parameter_combinations = []\n",
    "for sigma in sigma_candidates:\n",
    "    for sigma_for_sites in sigma_for_sites_candidates:\n",
    "        combination_counter += 1\n",
    "        parameter_combinations.append((sigma, sigma_for_sites))\n",
    "        print(\n",
    "            f\"      {combination_counter:2d}       | {sigma:4d} |     {sigma_for_sites:.2f}\"\n",
    "        )\n",
    "\n",
    "print(\n",
    "    f\"\\n総実行時間見積もり: {len(parameter_combinations) * len(target_periods) * loocv_config.n_trials * 45 / 3600:.1f} 時間\"\n",
    ")\n",
    "print(\"（1試行あたり約45秒と仮定、実際にはより効率的になる予定）\")"
   ]
  },
  {
   "cell_type": "markdown",
   "metadata": {},
   "source": [
    "## 5. ハイパーパラメータ評価システムの実装"
   ]
  },
  {
   "cell_type": "code",
   "execution_count": 5,
   "metadata": {},
   "outputs": [
    {
     "name": "stdout",
     "output_type": "stream",
     "text": [
      "メモリ効率化ハイパーパラメータ評価システム実装完了\n"
     ]
    }
   ],
   "source": [
    "import gc  # ガベージコレクション用\n",
    "\n",
    "\n",
    "class HyperparameterEvaluator:\n",
    "    \"\"\"ハイパーパラメータ評価のためのクラス（メモリ効率化版）\"\"\"\n",
    "\n",
    "    def __init__(self, preprocessor, base_config, loocv_config):\n",
    "        self.preprocessor = preprocessor\n",
    "        self.base_config = base_config\n",
    "        self.loocv_config = loocv_config\n",
    "        self.results = []\n",
    "\n",
    "    def evaluate_single_parameter_set(self, sigma, sigma_for_sites, target_periods):\n",
    "        \"\"\"\n",
    "        単一のパラメータセットを評価（メモリ効率化版）\n",
    "\n",
    "        Parameters\n",
    "        ----------\n",
    "        sigma : float\n",
    "            グリッド間のカーネルバンド幅\n",
    "        sigma_for_sites : float\n",
    "            遺跡間のカーネルバンド幅\n",
    "        target_periods : list\n",
    "            評価対象時期のリスト\n",
    "\n",
    "        Returns\n",
    "        -------\n",
    "        dict\n",
    "            評価結果\n",
    "        \"\"\"\n",
    "        param_start_time = time.time()\n",
    "\n",
    "        try:\n",
    "            # 設定をコピーしてパラメータを更新\n",
    "            model_config = Model3Config(\n",
    "                data_dir=self.base_config.data_dir,\n",
    "                x_min=self.base_config.x_min,\n",
    "                x_max=self.base_config.x_max,\n",
    "                y_min=self.base_config.y_min,\n",
    "                y_max=self.base_config.y_max,\n",
    "                nw_sigma=sigma,\n",
    "                nw_sigma_for_sites=sigma_for_sites,\n",
    "                mcmc_iterations=self.base_config.mcmc_iterations,\n",
    "                burn_in=self.base_config.burn_in,\n",
    "            )\n",
    "\n",
    "            # LOOCV評価器の作成\n",
    "            evaluator = LOOCVEvaluator(\n",
    "                preprocessor=self.preprocessor,\n",
    "                model_config=model_config,\n",
    "                loocv_config=self.loocv_config,\n",
    "            )\n",
    "\n",
    "            # 各時期での評価結果を格納\n",
    "            period_results = {}\n",
    "\n",
    "            for period in target_periods:\n",
    "                if self.loocv_config.verbose:\n",
    "                    print(\n",
    "                        f\"  時期 {period} ({model_config.time_periods[period]}) を評価中...\"\n",
    "                    )\n",
    "\n",
    "                # ガベージコレクション（メモリクリーンアップ）\n",
    "                gc.collect()\n",
    "\n",
    "                period_result = evaluator.run_period_evaluation(\n",
    "                    period, n_trials=self.loocv_config.n_trials\n",
    "                )\n",
    "                period_results[period] = period_result\n",
    "\n",
    "                # 時期ごとにメモリクリーンアップ\n",
    "                gc.collect()\n",
    "\n",
    "            # 評価器を明示的に削除\n",
    "            del evaluator\n",
    "            gc.collect()\n",
    "\n",
    "            param_execution_time = time.time() - param_start_time\n",
    "\n",
    "            return {\n",
    "                \"sigma\": sigma,\n",
    "                \"sigma_for_sites\": sigma_for_sites,\n",
    "                \"period_results\": period_results,\n",
    "                \"execution_time\": param_execution_time,\n",
    "                \"timestamp\": datetime.now().isoformat(),\n",
    "            }\n",
    "\n",
    "        except Exception as e:\n",
    "            # エラー時もメモリクリーンアップ\n",
    "            gc.collect()\n",
    "            raise e\n",
    "\n",
    "    def run_full_evaluation(self, parameter_combinations, target_periods):\n",
    "        \"\"\"\n",
    "        全パラメータ組み合わせの評価を実行（メモリ効率化版）\n",
    "\n",
    "        Parameters\n",
    "        ----------\n",
    "        parameter_combinations : list\n",
    "            (sigma, sigma_for_sites)のタプルのリスト\n",
    "        target_periods : list\n",
    "            評価対象時期のリスト\n",
    "        \"\"\"\n",
    "        total_combinations = len(parameter_combinations)\n",
    "\n",
    "        print(\"\\n=== ハイパーパラメータ評価開始（メモリ効率化版） ===\")\n",
    "        print(f\"総組み合わせ数: {total_combinations}\")\n",
    "        print(f\"評価時期数: {len(target_periods)}\")\n",
    "        print(f\"各時期の試行回数: {self.loocv_config.n_trials}\")\n",
    "        print(\n",
    "            f\"総試行回数予定: {total_combinations * len(target_periods) * self.loocv_config.n_trials}\"\n",
    "        )\n",
    "\n",
    "        for i, (sigma, sigma_for_sites) in enumerate(parameter_combinations, 1):\n",
    "            print(\n",
    "                f\"\\n[{i}/{total_combinations}] σ={sigma}, σ_sites={sigma_for_sites} を評価中...\"\n",
    "            )\n",
    "\n",
    "            try:\n",
    "                result = self.evaluate_single_parameter_set(\n",
    "                    sigma, sigma_for_sites, target_periods\n",
    "                )\n",
    "                self.results.append(result)\n",
    "\n",
    "                print(f\"  完了 (実行時間: {result['execution_time']:.1f}秒)\")\n",
    "\n",
    "                # より頻繁な中間結果の保存（毎回保存）\n",
    "                self.save_intermediate_results(\n",
    "                    f\"hyperparameter_checkpoint_{i:02d}_of_{total_combinations:02d}.json\"\n",
    "                )\n",
    "\n",
    "                # パラメータセット完了後のメモリクリーンアップ\n",
    "                gc.collect()\n",
    "\n",
    "            except Exception as e:\n",
    "                print(f\"  エラー: {e}\")\n",
    "                error_result = {\n",
    "                    \"sigma\": sigma,\n",
    "                    \"sigma_for_sites\": sigma_for_sites,\n",
    "                    \"period_results\": {},\n",
    "                    \"execution_time\": 0,\n",
    "                    \"error\": str(e),\n",
    "                    \"timestamp\": datetime.now().isoformat(),\n",
    "                }\n",
    "                self.results.append(error_result)\n",
    "\n",
    "                # エラー時もメモリクリーンアップ\n",
    "                gc.collect()\n",
    "\n",
    "        print(\"\\n=== ハイパーパラメータ評価完了 ===\")\n",
    "        successful = len([r for r in self.results if \"error\" not in r])\n",
    "        failed = len([r for r in self.results if \"error\" in r])\n",
    "        print(f\"成功した組み合わせ: {successful}/{total_combinations}\")\n",
    "        print(f\"失敗した組み合わせ: {failed}/{total_combinations}\")\n",
    "\n",
    "        # 最終メモリクリーンアップ\n",
    "        gc.collect()\n",
    "\n",
    "    def save_intermediate_results(self, filename):\n",
    "        \"\"\"中間結果の保存\"\"\"\n",
    "        filepath = os.path.join(data_dir, filename)\n",
    "        try:\n",
    "            with open(filepath, \"w\", encoding=\"utf-8\") as f:\n",
    "                json.dump(self.results, f, ensure_ascii=False, indent=2)\n",
    "            if self.loocv_config.verbose:\n",
    "                print(f\"    中間結果を保存: {filename}\")\n",
    "        except Exception as e:\n",
    "            print(f\"    中間結果保存エラー: {e}\")\n",
    "\n",
    "    def save_final_results(self, filename=\"hyperparameter_evaluation_results.json\"):\n",
    "        \"\"\"最終結果の保存\"\"\"\n",
    "        filepath = os.path.join(data_dir, filename)\n",
    "        try:\n",
    "            with open(filepath, \"w\", encoding=\"utf-8\") as f:\n",
    "                json.dump(self.results, f, ensure_ascii=False, indent=2)\n",
    "            print(f\"最終結果を保存: {filepath}\")\n",
    "            return filepath\n",
    "        except Exception as e:\n",
    "            print(f\"最終結果保存エラー: {e}\")\n",
    "            return None\n",
    "\n",
    "\n",
    "print(\"メモリ効率化ハイパーパラメータ評価システム実装完了\")"
   ]
  },
  {
   "cell_type": "markdown",
   "metadata": {},
   "source": [
    "## 6. ハイパーパラメータ評価の実行"
   ]
  },
  {
   "cell_type": "code",
   "execution_count": 6,
   "metadata": {},
   "outputs": [
    {
     "name": "stdout",
     "output_type": "stream",
     "text": [
      "\n",
      "実行予定の組み合わせ数: 6\n",
      "\n",
      "=== ハイパーパラメータ評価開始（メモリ効率化版） ===\n",
      "総組み合わせ数: 6\n",
      "評価時期数: 5\n",
      "各時期の試行回数: 5\n",
      "総試行回数予定: 150\n",
      "\n",
      "[1/6] σ=500, σ_sites=0.01 を評価中...\n",
      "  時期 0 (早期・早々期) を評価中...\n"
     ]
    },
    {
     "name": "stderr",
     "output_type": "stream",
     "text": [
      "Period 0 LOOCV:   0%|          | 0/5 [00:00<?, ?it/s]"
     ]
    },
    {
     "name": "stdout",
     "output_type": "stream",
     "text": [
      "creating weights matrix...\n",
      "calculating distance_W...\n",
      "updating weights matrix...\n"
     ]
    },
    {
     "name": "stderr",
     "output_type": "stream",
     "text": [
      "Period 0 LOOCV:  20%|██        | 1/5 [00:42<02:51, 42.85s/it]"
     ]
    },
    {
     "name": "stdout",
     "output_type": "stream",
     "text": [
      "creating weights matrix...\n",
      "calculating distance_W...\n",
      "updating weights matrix...\n"
     ]
    },
    {
     "name": "stderr",
     "output_type": "stream",
     "text": [
      "Period 0 LOOCV:  40%|████      | 2/5 [01:25<02:07, 42.44s/it]"
     ]
    },
    {
     "name": "stdout",
     "output_type": "stream",
     "text": [
      "creating weights matrix...\n",
      "calculating distance_W...\n",
      "updating weights matrix...\n"
     ]
    },
    {
     "name": "stderr",
     "output_type": "stream",
     "text": [
      "Period 0 LOOCV:  60%|██████    | 3/5 [02:07<01:24, 42.30s/it]"
     ]
    },
    {
     "name": "stdout",
     "output_type": "stream",
     "text": [
      "creating weights matrix...\n",
      "calculating distance_W...\n",
      "updating weights matrix...\n"
     ]
    },
    {
     "name": "stderr",
     "output_type": "stream",
     "text": [
      "Period 0 LOOCV:  80%|████████  | 4/5 [02:49<00:42, 42.26s/it]"
     ]
    },
    {
     "name": "stdout",
     "output_type": "stream",
     "text": [
      "creating weights matrix...\n",
      "calculating distance_W...\n",
      "updating weights matrix...\n"
     ]
    },
    {
     "name": "stderr",
     "output_type": "stream",
     "text": [
      "Period 0 LOOCV: 100%|██████████| 5/5 [03:31<00:00, 42.31s/it]\n"
     ]
    },
    {
     "name": "stdout",
     "output_type": "stream",
     "text": [
      "  時期 1 (前期) を評価中...\n"
     ]
    },
    {
     "name": "stderr",
     "output_type": "stream",
     "text": [
      "Period 1 LOOCV:   0%|          | 0/5 [00:00<?, ?it/s]"
     ]
    },
    {
     "name": "stdout",
     "output_type": "stream",
     "text": [
      "creating weights matrix...\n",
      "calculating distance_W...\n",
      "updating weights matrix...\n"
     ]
    },
    {
     "name": "stderr",
     "output_type": "stream",
     "text": [
      "Period 1 LOOCV:  20%|██        | 1/5 [00:42<02:51, 42.79s/it]"
     ]
    },
    {
     "name": "stdout",
     "output_type": "stream",
     "text": [
      "creating weights matrix...\n",
      "calculating distance_W...\n",
      "updating weights matrix...\n"
     ]
    },
    {
     "name": "stderr",
     "output_type": "stream",
     "text": [
      "Period 1 LOOCV:  40%|████      | 2/5 [01:25<02:07, 42.45s/it]"
     ]
    },
    {
     "name": "stdout",
     "output_type": "stream",
     "text": [
      "creating weights matrix...\n",
      "calculating distance_W...\n",
      "updating weights matrix...\n"
     ]
    },
    {
     "name": "stderr",
     "output_type": "stream",
     "text": [
      "Period 1 LOOCV:  60%|██████    | 3/5 [02:07<01:24, 42.34s/it]"
     ]
    },
    {
     "name": "stdout",
     "output_type": "stream",
     "text": [
      "creating weights matrix...\n",
      "calculating distance_W...\n",
      "updating weights matrix...\n"
     ]
    },
    {
     "name": "stderr",
     "output_type": "stream",
     "text": [
      "Period 1 LOOCV:  80%|████████  | 4/5 [02:50<00:42, 42.52s/it]"
     ]
    },
    {
     "name": "stdout",
     "output_type": "stream",
     "text": [
      "creating weights matrix...\n",
      "calculating distance_W...\n",
      "updating weights matrix...\n"
     ]
    },
    {
     "name": "stderr",
     "output_type": "stream",
     "text": [
      "Period 1 LOOCV: 100%|██████████| 5/5 [03:32<00:00, 42.54s/it]\n"
     ]
    },
    {
     "name": "stdout",
     "output_type": "stream",
     "text": [
      "  時期 2 (中期) を評価中...\n"
     ]
    },
    {
     "name": "stderr",
     "output_type": "stream",
     "text": [
      "Period 2 LOOCV:   0%|          | 0/5 [00:00<?, ?it/s]"
     ]
    },
    {
     "name": "stdout",
     "output_type": "stream",
     "text": [
      "creating weights matrix...\n",
      "calculating distance_W...\n",
      "updating weights matrix...\n"
     ]
    },
    {
     "name": "stderr",
     "output_type": "stream",
     "text": [
      "Period 2 LOOCV:  20%|██        | 1/5 [00:42<02:48, 42.20s/it]"
     ]
    },
    {
     "name": "stdout",
     "output_type": "stream",
     "text": [
      "creating weights matrix...\n",
      "calculating distance_W...\n",
      "updating weights matrix...\n"
     ]
    },
    {
     "name": "stderr",
     "output_type": "stream",
     "text": [
      "Period 2 LOOCV:  40%|████      | 2/5 [01:24<02:07, 42.53s/it]"
     ]
    },
    {
     "name": "stdout",
     "output_type": "stream",
     "text": [
      "creating weights matrix...\n",
      "calculating distance_W...\n",
      "updating weights matrix...\n"
     ]
    },
    {
     "name": "stderr",
     "output_type": "stream",
     "text": [
      "Period 2 LOOCV:  60%|██████    | 3/5 [02:07<01:24, 42.39s/it]"
     ]
    },
    {
     "name": "stdout",
     "output_type": "stream",
     "text": [
      "creating weights matrix...\n",
      "calculating distance_W...\n",
      "updating weights matrix...\n"
     ]
    },
    {
     "name": "stderr",
     "output_type": "stream",
     "text": [
      "Period 2 LOOCV:  80%|████████  | 4/5 [02:49<00:42, 42.30s/it]"
     ]
    },
    {
     "name": "stdout",
     "output_type": "stream",
     "text": [
      "creating weights matrix...\n",
      "calculating distance_W...\n",
      "updating weights matrix...\n"
     ]
    },
    {
     "name": "stderr",
     "output_type": "stream",
     "text": [
      "Period 2 LOOCV: 100%|██████████| 5/5 [03:31<00:00, 42.31s/it]\n"
     ]
    },
    {
     "name": "stdout",
     "output_type": "stream",
     "text": [
      "  時期 3 (後期) を評価中...\n"
     ]
    },
    {
     "name": "stderr",
     "output_type": "stream",
     "text": [
      "Period 3 LOOCV:   0%|          | 0/5 [00:00<?, ?it/s]"
     ]
    },
    {
     "name": "stdout",
     "output_type": "stream",
     "text": [
      "creating weights matrix...\n",
      "calculating distance_W...\n",
      "updating weights matrix...\n"
     ]
    },
    {
     "name": "stderr",
     "output_type": "stream",
     "text": [
      "Period 3 LOOCV:  20%|██        | 1/5 [00:42<02:49, 42.38s/it]"
     ]
    },
    {
     "name": "stdout",
     "output_type": "stream",
     "text": [
      "creating weights matrix...\n",
      "calculating distance_W...\n",
      "updating weights matrix...\n"
     ]
    },
    {
     "name": "stderr",
     "output_type": "stream",
     "text": [
      "Period 3 LOOCV:  40%|████      | 2/5 [01:25<02:07, 42.62s/it]"
     ]
    },
    {
     "name": "stdout",
     "output_type": "stream",
     "text": [
      "creating weights matrix...\n",
      "calculating distance_W...\n",
      "updating weights matrix...\n"
     ]
    },
    {
     "name": "stderr",
     "output_type": "stream",
     "text": [
      "Period 3 LOOCV:  60%|██████    | 3/5 [02:07<01:24, 42.44s/it]"
     ]
    },
    {
     "name": "stdout",
     "output_type": "stream",
     "text": [
      "creating weights matrix...\n",
      "calculating distance_W...\n",
      "updating weights matrix...\n"
     ]
    },
    {
     "name": "stderr",
     "output_type": "stream",
     "text": [
      "Period 3 LOOCV:  80%|████████  | 4/5 [02:49<00:42, 42.34s/it]"
     ]
    },
    {
     "name": "stdout",
     "output_type": "stream",
     "text": [
      "creating weights matrix...\n",
      "calculating distance_W...\n",
      "updating weights matrix...\n"
     ]
    },
    {
     "name": "stderr",
     "output_type": "stream",
     "text": [
      "Period 3 LOOCV: 100%|██████████| 5/5 [03:31<00:00, 42.36s/it]\n"
     ]
    },
    {
     "name": "stdout",
     "output_type": "stream",
     "text": [
      "  時期 4 (晩期) を評価中...\n"
     ]
    },
    {
     "name": "stderr",
     "output_type": "stream",
     "text": [
      "Period 4 LOOCV:   0%|          | 0/5 [00:00<?, ?it/s]"
     ]
    },
    {
     "name": "stdout",
     "output_type": "stream",
     "text": [
      "creating weights matrix...\n",
      "calculating distance_W...\n",
      "updating weights matrix...\n"
     ]
    },
    {
     "name": "stderr",
     "output_type": "stream",
     "text": [
      "Period 4 LOOCV:  20%|██        | 1/5 [00:42<02:48, 42.07s/it]"
     ]
    },
    {
     "name": "stdout",
     "output_type": "stream",
     "text": [
      "creating weights matrix...\n",
      "calculating distance_W...\n",
      "updating weights matrix...\n"
     ]
    },
    {
     "name": "stderr",
     "output_type": "stream",
     "text": [
      "Period 4 LOOCV:  40%|████      | 2/5 [01:24<02:07, 42.45s/it]"
     ]
    },
    {
     "name": "stdout",
     "output_type": "stream",
     "text": [
      "creating weights matrix...\n",
      "calculating distance_W...\n",
      "updating weights matrix...\n"
     ]
    },
    {
     "name": "stderr",
     "output_type": "stream",
     "text": [
      "Period 4 LOOCV:  60%|██████    | 3/5 [02:07<01:25, 42.61s/it]"
     ]
    },
    {
     "name": "stdout",
     "output_type": "stream",
     "text": [
      "creating weights matrix...\n",
      "calculating distance_W...\n",
      "updating weights matrix...\n"
     ]
    },
    {
     "name": "stderr",
     "output_type": "stream",
     "text": [
      "Period 4 LOOCV:  80%|████████  | 4/5 [02:50<00:42, 42.58s/it]"
     ]
    },
    {
     "name": "stdout",
     "output_type": "stream",
     "text": [
      "creating weights matrix...\n",
      "calculating distance_W...\n",
      "updating weights matrix...\n"
     ]
    },
    {
     "name": "stderr",
     "output_type": "stream",
     "text": [
      "Period 4 LOOCV: 100%|██████████| 5/5 [03:32<00:00, 42.58s/it]\n"
     ]
    },
    {
     "name": "stdout",
     "output_type": "stream",
     "text": [
      "  完了 (実行時間: 1067.8秒)\n",
      "    中間結果保存エラー: Object of type ndarray is not JSON serializable\n",
      "\n",
      "[2/6] σ=500, σ_sites=0.1 を評価中...\n",
      "  時期 0 (早期・早々期) を評価中...\n"
     ]
    },
    {
     "name": "stderr",
     "output_type": "stream",
     "text": [
      "Period 0 LOOCV:   0%|          | 0/5 [00:00<?, ?it/s]"
     ]
    },
    {
     "name": "stdout",
     "output_type": "stream",
     "text": [
      "creating weights matrix...\n",
      "calculating distance_W...\n",
      "updating weights matrix...\n"
     ]
    },
    {
     "name": "stderr",
     "output_type": "stream",
     "text": [
      "Period 0 LOOCV:  20%|██        | 1/5 [00:42<02:48, 42.10s/it]"
     ]
    },
    {
     "name": "stdout",
     "output_type": "stream",
     "text": [
      "creating weights matrix...\n",
      "calculating distance_W...\n",
      "updating weights matrix...\n"
     ]
    },
    {
     "name": "stderr",
     "output_type": "stream",
     "text": [
      "Period 0 LOOCV:  40%|████      | 2/5 [01:24<02:07, 42.54s/it]"
     ]
    },
    {
     "name": "stdout",
     "output_type": "stream",
     "text": [
      "creating weights matrix...\n",
      "calculating distance_W...\n",
      "updating weights matrix...\n"
     ]
    },
    {
     "name": "stderr",
     "output_type": "stream",
     "text": [
      "Period 0 LOOCV:  60%|██████    | 3/5 [02:08<01:26, 43.03s/it]"
     ]
    },
    {
     "name": "stdout",
     "output_type": "stream",
     "text": [
      "creating weights matrix...\n",
      "calculating distance_W...\n",
      "updating weights matrix...\n"
     ]
    },
    {
     "name": "stderr",
     "output_type": "stream",
     "text": [
      "Period 0 LOOCV:  80%|████████  | 4/5 [02:53<00:43, 43.89s/it]"
     ]
    },
    {
     "name": "stdout",
     "output_type": "stream",
     "text": [
      "creating weights matrix...\n",
      "calculating distance_W...\n",
      "updating weights matrix...\n"
     ]
    },
    {
     "name": "stderr",
     "output_type": "stream",
     "text": [
      "Period 0 LOOCV: 100%|██████████| 5/5 [03:45<00:00, 45.11s/it]\n"
     ]
    },
    {
     "name": "stdout",
     "output_type": "stream",
     "text": [
      "  時期 1 (前期) を評価中...\n"
     ]
    },
    {
     "name": "stderr",
     "output_type": "stream",
     "text": [
      "Period 1 LOOCV:   0%|          | 0/5 [00:00<?, ?it/s]"
     ]
    },
    {
     "name": "stdout",
     "output_type": "stream",
     "text": [
      "creating weights matrix...\n",
      "calculating distance_W...\n",
      "updating weights matrix...\n"
     ]
    },
    {
     "name": "stderr",
     "output_type": "stream",
     "text": [
      "Period 1 LOOCV:  20%|██        | 1/5 [00:50<03:21, 50.45s/it]"
     ]
    },
    {
     "name": "stdout",
     "output_type": "stream",
     "text": [
      "creating weights matrix...\n",
      "calculating distance_W...\n",
      "updating weights matrix...\n"
     ]
    },
    {
     "name": "stderr",
     "output_type": "stream",
     "text": [
      "Period 1 LOOCV:  40%|████      | 2/5 [01:45<02:39, 53.23s/it]"
     ]
    },
    {
     "name": "stdout",
     "output_type": "stream",
     "text": [
      "creating weights matrix...\n",
      "calculating distance_W...\n",
      "updating weights matrix...\n"
     ]
    },
    {
     "name": "stderr",
     "output_type": "stream",
     "text": [
      "Period 1 LOOCV:  60%|██████    | 3/5 [02:47<01:54, 57.18s/it]"
     ]
    },
    {
     "name": "stdout",
     "output_type": "stream",
     "text": [
      "creating weights matrix...\n",
      "calculating distance_W...\n",
      "updating weights matrix...\n"
     ]
    },
    {
     "name": "stderr",
     "output_type": "stream",
     "text": [
      "Period 1 LOOCV:  80%|████████  | 4/5 [03:48<00:58, 58.72s/it]"
     ]
    },
    {
     "name": "stdout",
     "output_type": "stream",
     "text": [
      "creating weights matrix...\n",
      "calculating distance_W...\n",
      "updating weights matrix...\n"
     ]
    },
    {
     "name": "stderr",
     "output_type": "stream",
     "text": [
      "Period 1 LOOCV: 100%|██████████| 5/5 [05:52<00:00, 70.47s/it]\n"
     ]
    },
    {
     "name": "stdout",
     "output_type": "stream",
     "text": [
      "  時期 2 (中期) を評価中...\n"
     ]
    },
    {
     "name": "stderr",
     "output_type": "stream",
     "text": [
      "Period 2 LOOCV:   0%|          | 0/5 [00:00<?, ?it/s]"
     ]
    },
    {
     "name": "stdout",
     "output_type": "stream",
     "text": [
      "creating weights matrix...\n",
      "calculating distance_W...\n",
      "updating weights matrix...\n"
     ]
    },
    {
     "name": "stderr",
     "output_type": "stream",
     "text": [
      "Period 2 LOOCV:  20%|██        | 1/5 [01:59<07:57, 119.30s/it]"
     ]
    },
    {
     "name": "stdout",
     "output_type": "stream",
     "text": [
      "creating weights matrix...\n",
      "calculating distance_W...\n",
      "updating weights matrix...\n"
     ]
    },
    {
     "name": "stderr",
     "output_type": "stream",
     "text": [
      "Period 2 LOOCV:  40%|████      | 2/5 [04:02<06:04, 121.52s/it]"
     ]
    },
    {
     "name": "stdout",
     "output_type": "stream",
     "text": [
      "creating weights matrix...\n",
      "calculating distance_W...\n",
      "updating weights matrix...\n"
     ]
    },
    {
     "name": "stderr",
     "output_type": "stream",
     "text": [
      "Period 2 LOOCV:  60%|██████    | 3/5 [06:01<04:00, 120.42s/it]"
     ]
    },
    {
     "name": "stdout",
     "output_type": "stream",
     "text": [
      "creating weights matrix...\n",
      "calculating distance_W...\n",
      "updating weights matrix...\n"
     ]
    },
    {
     "name": "stderr",
     "output_type": "stream",
     "text": [
      "Period 2 LOOCV:  80%|████████  | 4/5 [08:46<02:17, 137.89s/it]"
     ]
    },
    {
     "name": "stdout",
     "output_type": "stream",
     "text": [
      "creating weights matrix...\n",
      "calculating distance_W...\n",
      "updating weights matrix...\n"
     ]
    },
    {
     "name": "stderr",
     "output_type": "stream",
     "text": [
      "Period 2 LOOCV: 100%|██████████| 5/5 [09:30<00:00, 114.05s/it]\n"
     ]
    },
    {
     "name": "stdout",
     "output_type": "stream",
     "text": [
      "  時期 3 (後期) を評価中...\n"
     ]
    },
    {
     "name": "stderr",
     "output_type": "stream",
     "text": [
      "Period 3 LOOCV:   0%|          | 0/5 [00:00<?, ?it/s]"
     ]
    },
    {
     "name": "stdout",
     "output_type": "stream",
     "text": [
      "creating weights matrix...\n",
      "calculating distance_W...\n",
      "updating weights matrix...\n"
     ]
    },
    {
     "name": "stderr",
     "output_type": "stream",
     "text": [
      "Period 3 LOOCV:  20%|██        | 1/5 [00:43<02:54, 43.54s/it]"
     ]
    },
    {
     "name": "stdout",
     "output_type": "stream",
     "text": [
      "creating weights matrix...\n",
      "calculating distance_W...\n",
      "updating weights matrix...\n"
     ]
    },
    {
     "name": "stderr",
     "output_type": "stream",
     "text": [
      "Period 3 LOOCV:  40%|████      | 2/5 [01:26<02:09, 43.14s/it]"
     ]
    },
    {
     "name": "stdout",
     "output_type": "stream",
     "text": [
      "creating weights matrix...\n",
      "calculating distance_W...\n",
      "updating weights matrix...\n"
     ]
    },
    {
     "name": "stderr",
     "output_type": "stream",
     "text": [
      "Period 3 LOOCV:  60%|██████    | 3/5 [02:09<01:26, 43.20s/it]"
     ]
    },
    {
     "name": "stdout",
     "output_type": "stream",
     "text": [
      "creating weights matrix...\n",
      "calculating distance_W...\n",
      "updating weights matrix...\n"
     ]
    },
    {
     "name": "stderr",
     "output_type": "stream",
     "text": [
      "Period 3 LOOCV:  80%|████████  | 4/5 [02:51<00:42, 42.79s/it]"
     ]
    },
    {
     "name": "stdout",
     "output_type": "stream",
     "text": [
      "creating weights matrix...\n",
      "calculating distance_W...\n",
      "updating weights matrix...\n"
     ]
    },
    {
     "name": "stderr",
     "output_type": "stream",
     "text": [
      "Period 3 LOOCV: 100%|██████████| 5/5 [03:34<00:00, 42.81s/it]\n"
     ]
    },
    {
     "name": "stdout",
     "output_type": "stream",
     "text": [
      "  時期 4 (晩期) を評価中...\n"
     ]
    },
    {
     "name": "stderr",
     "output_type": "stream",
     "text": [
      "Period 4 LOOCV:   0%|          | 0/5 [00:00<?, ?it/s]"
     ]
    },
    {
     "name": "stdout",
     "output_type": "stream",
     "text": [
      "creating weights matrix...\n",
      "calculating distance_W...\n",
      "updating weights matrix...\n"
     ]
    },
    {
     "name": "stderr",
     "output_type": "stream",
     "text": [
      "Period 4 LOOCV:  20%|██        | 1/5 [00:42<02:50, 42.69s/it]"
     ]
    },
    {
     "name": "stdout",
     "output_type": "stream",
     "text": [
      "creating weights matrix...\n",
      "calculating distance_W...\n",
      "updating weights matrix...\n"
     ]
    },
    {
     "name": "stderr",
     "output_type": "stream",
     "text": [
      "Period 4 LOOCV:  40%|████      | 2/5 [01:25<02:08, 42.71s/it]"
     ]
    },
    {
     "name": "stdout",
     "output_type": "stream",
     "text": [
      "creating weights matrix...\n",
      "calculating distance_W...\n",
      "updating weights matrix...\n"
     ]
    },
    {
     "name": "stderr",
     "output_type": "stream",
     "text": [
      "Period 4 LOOCV:  60%|██████    | 3/5 [02:08<01:25, 42.70s/it]"
     ]
    },
    {
     "name": "stdout",
     "output_type": "stream",
     "text": [
      "creating weights matrix...\n",
      "calculating distance_W...\n",
      "updating weights matrix...\n"
     ]
    },
    {
     "name": "stderr",
     "output_type": "stream",
     "text": [
      "Period 4 LOOCV:  80%|████████  | 4/5 [02:50<00:42, 42.47s/it]"
     ]
    },
    {
     "name": "stdout",
     "output_type": "stream",
     "text": [
      "creating weights matrix...\n",
      "calculating distance_W...\n",
      "updating weights matrix...\n"
     ]
    },
    {
     "name": "stderr",
     "output_type": "stream",
     "text": [
      "Period 4 LOOCV: 100%|██████████| 5/5 [03:33<00:00, 42.60s/it]\n"
     ]
    },
    {
     "name": "stdout",
     "output_type": "stream",
     "text": [
      "  完了 (実行時間: 1589.9秒)\n",
      "    中間結果保存エラー: Object of type ndarray is not JSON serializable\n",
      "\n",
      "[3/6] σ=500, σ_sites=1.0 を評価中...\n",
      "  時期 0 (早期・早々期) を評価中...\n"
     ]
    },
    {
     "name": "stderr",
     "output_type": "stream",
     "text": [
      "Period 0 LOOCV:   0%|          | 0/5 [00:00<?, ?it/s]"
     ]
    },
    {
     "name": "stdout",
     "output_type": "stream",
     "text": [
      "creating weights matrix...\n",
      "calculating distance_W...\n",
      "updating weights matrix...\n"
     ]
    },
    {
     "name": "stderr",
     "output_type": "stream",
     "text": [
      "Period 0 LOOCV:  20%|██        | 1/5 [00:42<02:51, 42.82s/it]"
     ]
    },
    {
     "name": "stdout",
     "output_type": "stream",
     "text": [
      "creating weights matrix...\n",
      "calculating distance_W...\n",
      "updating weights matrix...\n"
     ]
    },
    {
     "name": "stderr",
     "output_type": "stream",
     "text": [
      "Period 0 LOOCV:  40%|████      | 2/5 [01:25<02:07, 42.46s/it]"
     ]
    },
    {
     "name": "stdout",
     "output_type": "stream",
     "text": [
      "creating weights matrix...\n",
      "calculating distance_W...\n",
      "updating weights matrix...\n"
     ]
    },
    {
     "name": "stderr",
     "output_type": "stream",
     "text": [
      "Period 0 LOOCV:  60%|██████    | 3/5 [02:07<01:24, 42.33s/it]"
     ]
    },
    {
     "name": "stdout",
     "output_type": "stream",
     "text": [
      "creating weights matrix...\n",
      "calculating distance_W...\n",
      "updating weights matrix...\n"
     ]
    },
    {
     "name": "stderr",
     "output_type": "stream",
     "text": [
      "Period 0 LOOCV:  80%|████████  | 4/5 [02:50<00:42, 42.54s/it]"
     ]
    },
    {
     "name": "stdout",
     "output_type": "stream",
     "text": [
      "creating weights matrix...\n",
      "calculating distance_W...\n",
      "updating weights matrix...\n"
     ]
    },
    {
     "name": "stderr",
     "output_type": "stream",
     "text": [
      "Period 0 LOOCV: 100%|██████████| 5/5 [03:32<00:00, 42.58s/it]\n"
     ]
    },
    {
     "name": "stdout",
     "output_type": "stream",
     "text": [
      "  時期 1 (前期) を評価中...\n"
     ]
    },
    {
     "name": "stderr",
     "output_type": "stream",
     "text": [
      "Period 1 LOOCV:   0%|          | 0/5 [00:00<?, ?it/s]"
     ]
    },
    {
     "name": "stdout",
     "output_type": "stream",
     "text": [
      "creating weights matrix...\n",
      "calculating distance_W...\n",
      "updating weights matrix...\n"
     ]
    },
    {
     "name": "stderr",
     "output_type": "stream",
     "text": [
      "Period 1 LOOCV:  20%|██        | 1/5 [00:42<02:48, 42.21s/it]"
     ]
    },
    {
     "name": "stdout",
     "output_type": "stream",
     "text": [
      "creating weights matrix...\n",
      "calculating distance_W...\n",
      "updating weights matrix...\n"
     ]
    },
    {
     "name": "stderr",
     "output_type": "stream",
     "text": [
      "Period 1 LOOCV:  40%|████      | 2/5 [01:25<02:07, 42.56s/it]"
     ]
    },
    {
     "name": "stdout",
     "output_type": "stream",
     "text": [
      "creating weights matrix...\n",
      "calculating distance_W...\n",
      "updating weights matrix...\n"
     ]
    },
    {
     "name": "stderr",
     "output_type": "stream",
     "text": [
      "Period 1 LOOCV:  60%|██████    | 3/5 [02:07<01:25, 42.68s/it]"
     ]
    },
    {
     "name": "stdout",
     "output_type": "stream",
     "text": [
      "creating weights matrix...\n",
      "calculating distance_W...\n",
      "updating weights matrix...\n"
     ]
    },
    {
     "name": "stderr",
     "output_type": "stream",
     "text": [
      "Period 1 LOOCV:  80%|████████  | 4/5 [02:49<00:42, 42.47s/it]"
     ]
    },
    {
     "name": "stdout",
     "output_type": "stream",
     "text": [
      "creating weights matrix...\n",
      "calculating distance_W...\n",
      "updating weights matrix...\n"
     ]
    },
    {
     "name": "stderr",
     "output_type": "stream",
     "text": [
      "Period 1 LOOCV: 100%|██████████| 5/5 [03:32<00:00, 42.43s/it]\n"
     ]
    },
    {
     "name": "stdout",
     "output_type": "stream",
     "text": [
      "  時期 2 (中期) を評価中...\n"
     ]
    },
    {
     "name": "stderr",
     "output_type": "stream",
     "text": [
      "Period 2 LOOCV:   0%|          | 0/5 [00:00<?, ?it/s]"
     ]
    },
    {
     "name": "stdout",
     "output_type": "stream",
     "text": [
      "creating weights matrix...\n",
      "calculating distance_W...\n",
      "updating weights matrix...\n"
     ]
    },
    {
     "name": "stderr",
     "output_type": "stream",
     "text": [
      "Period 2 LOOCV:  20%|██        | 1/5 [00:42<02:51, 42.86s/it]"
     ]
    },
    {
     "name": "stdout",
     "output_type": "stream",
     "text": [
      "creating weights matrix...\n",
      "calculating distance_W...\n",
      "updating weights matrix...\n"
     ]
    },
    {
     "name": "stderr",
     "output_type": "stream",
     "text": [
      "Period 2 LOOCV:  40%|████      | 2/5 [01:25<02:08, 42.68s/it]"
     ]
    },
    {
     "name": "stdout",
     "output_type": "stream",
     "text": [
      "creating weights matrix...\n",
      "calculating distance_W...\n",
      "updating weights matrix...\n"
     ]
    },
    {
     "name": "stderr",
     "output_type": "stream",
     "text": [
      "Period 2 LOOCV:  60%|██████    | 3/5 [02:07<01:25, 42.53s/it]"
     ]
    },
    {
     "name": "stdout",
     "output_type": "stream",
     "text": [
      "creating weights matrix...\n",
      "calculating distance_W...\n",
      "updating weights matrix...\n"
     ]
    },
    {
     "name": "stderr",
     "output_type": "stream",
     "text": [
      "Period 2 LOOCV:  80%|████████  | 4/5 [02:50<00:42, 42.45s/it]"
     ]
    },
    {
     "name": "stdout",
     "output_type": "stream",
     "text": [
      "creating weights matrix...\n",
      "calculating distance_W...\n",
      "updating weights matrix...\n"
     ]
    },
    {
     "name": "stderr",
     "output_type": "stream",
     "text": [
      "Period 2 LOOCV: 100%|██████████| 5/5 [03:33<00:00, 42.61s/it]\n"
     ]
    },
    {
     "name": "stdout",
     "output_type": "stream",
     "text": [
      "  時期 3 (後期) を評価中...\n"
     ]
    },
    {
     "name": "stderr",
     "output_type": "stream",
     "text": [
      "Period 3 LOOCV:   0%|          | 0/5 [00:00<?, ?it/s]"
     ]
    },
    {
     "name": "stdout",
     "output_type": "stream",
     "text": [
      "creating weights matrix...\n",
      "calculating distance_W...\n",
      "updating weights matrix...\n"
     ]
    },
    {
     "name": "stderr",
     "output_type": "stream",
     "text": [
      "Period 3 LOOCV:  20%|██        | 1/5 [00:42<02:51, 42.98s/it]"
     ]
    },
    {
     "name": "stdout",
     "output_type": "stream",
     "text": [
      "creating weights matrix...\n",
      "calculating distance_W...\n",
      "updating weights matrix...\n"
     ]
    },
    {
     "name": "stderr",
     "output_type": "stream",
     "text": [
      "Period 3 LOOCV:  40%|████      | 2/5 [01:25<02:07, 42.64s/it]"
     ]
    },
    {
     "name": "stdout",
     "output_type": "stream",
     "text": [
      "creating weights matrix...\n",
      "calculating distance_W...\n",
      "updating weights matrix...\n"
     ]
    },
    {
     "name": "stderr",
     "output_type": "stream",
     "text": [
      "Period 3 LOOCV:  60%|██████    | 3/5 [02:08<01:25, 42.85s/it]"
     ]
    },
    {
     "name": "stdout",
     "output_type": "stream",
     "text": [
      "creating weights matrix...\n",
      "calculating distance_W...\n",
      "updating weights matrix...\n"
     ]
    },
    {
     "name": "stderr",
     "output_type": "stream",
     "text": [
      "Period 3 LOOCV:  80%|████████  | 4/5 [02:50<00:42, 42.67s/it]"
     ]
    },
    {
     "name": "stdout",
     "output_type": "stream",
     "text": [
      "creating weights matrix...\n",
      "calculating distance_W...\n",
      "updating weights matrix...\n"
     ]
    },
    {
     "name": "stderr",
     "output_type": "stream",
     "text": [
      "Period 3 LOOCV: 100%|██████████| 5/5 [03:33<00:00, 42.69s/it]\n"
     ]
    },
    {
     "name": "stdout",
     "output_type": "stream",
     "text": [
      "  時期 4 (晩期) を評価中...\n"
     ]
    },
    {
     "name": "stderr",
     "output_type": "stream",
     "text": [
      "Period 4 LOOCV:   0%|          | 0/5 [00:00<?, ?it/s]"
     ]
    },
    {
     "name": "stdout",
     "output_type": "stream",
     "text": [
      "creating weights matrix...\n",
      "calculating distance_W...\n",
      "updating weights matrix...\n"
     ]
    },
    {
     "name": "stderr",
     "output_type": "stream",
     "text": [
      "Period 4 LOOCV:  20%|██        | 1/5 [00:42<02:51, 42.99s/it]"
     ]
    },
    {
     "name": "stdout",
     "output_type": "stream",
     "text": [
      "creating weights matrix...\n",
      "calculating distance_W...\n",
      "updating weights matrix...\n"
     ]
    },
    {
     "name": "stderr",
     "output_type": "stream",
     "text": [
      "Period 4 LOOCV:  40%|████      | 2/5 [01:26<02:09, 43.06s/it]"
     ]
    },
    {
     "name": "stdout",
     "output_type": "stream",
     "text": [
      "creating weights matrix...\n",
      "calculating distance_W...\n",
      "updating weights matrix...\n"
     ]
    },
    {
     "name": "stderr",
     "output_type": "stream",
     "text": [
      "Period 4 LOOCV:  60%|██████    | 3/5 [02:10<01:26, 43.47s/it]"
     ]
    },
    {
     "name": "stdout",
     "output_type": "stream",
     "text": [
      "creating weights matrix...\n",
      "calculating distance_W...\n",
      "updating weights matrix...\n"
     ]
    },
    {
     "name": "stderr",
     "output_type": "stream",
     "text": [
      "Period 4 LOOCV:  80%|████████  | 4/5 [02:53<00:43, 43.59s/it]"
     ]
    },
    {
     "name": "stdout",
     "output_type": "stream",
     "text": [
      "creating weights matrix...\n",
      "calculating distance_W...\n",
      "updating weights matrix...\n"
     ]
    },
    {
     "name": "stderr",
     "output_type": "stream",
     "text": [
      "Period 4 LOOCV: 100%|██████████| 5/5 [03:37<00:00, 43.40s/it]\n"
     ]
    },
    {
     "name": "stdout",
     "output_type": "stream",
     "text": [
      "  完了 (実行時間: 1076.0秒)\n",
      "    中間結果保存エラー: Object of type ndarray is not JSON serializable\n",
      "\n",
      "[4/6] σ=700, σ_sites=0.01 を評価中...\n",
      "  時期 0 (早期・早々期) を評価中...\n"
     ]
    },
    {
     "name": "stderr",
     "output_type": "stream",
     "text": [
      "Period 0 LOOCV:   0%|          | 0/5 [00:00<?, ?it/s]"
     ]
    },
    {
     "name": "stdout",
     "output_type": "stream",
     "text": [
      "creating weights matrix...\n",
      "calculating distance_W...\n",
      "updating weights matrix...\n"
     ]
    },
    {
     "name": "stderr",
     "output_type": "stream",
     "text": [
      "Period 0 LOOCV:  20%|██        | 1/5 [00:42<02:49, 42.32s/it]"
     ]
    },
    {
     "name": "stdout",
     "output_type": "stream",
     "text": [
      "creating weights matrix...\n",
      "calculating distance_W...\n",
      "updating weights matrix...\n"
     ]
    },
    {
     "name": "stderr",
     "output_type": "stream",
     "text": [
      "Period 0 LOOCV:  40%|████      | 2/5 [01:25<02:07, 42.60s/it]"
     ]
    },
    {
     "name": "stdout",
     "output_type": "stream",
     "text": [
      "creating weights matrix...\n",
      "calculating distance_W...\n",
      "updating weights matrix...\n"
     ]
    },
    {
     "name": "stderr",
     "output_type": "stream",
     "text": [
      "Period 0 LOOCV:  60%|██████    | 3/5 [02:07<01:25, 42.68s/it]"
     ]
    },
    {
     "name": "stdout",
     "output_type": "stream",
     "text": [
      "creating weights matrix...\n",
      "calculating distance_W...\n",
      "updating weights matrix...\n"
     ]
    },
    {
     "name": "stderr",
     "output_type": "stream",
     "text": [
      "Period 0 LOOCV:  80%|████████  | 4/5 [02:50<00:42, 42.72s/it]"
     ]
    },
    {
     "name": "stdout",
     "output_type": "stream",
     "text": [
      "creating weights matrix...\n",
      "calculating distance_W...\n",
      "updating weights matrix...\n"
     ]
    },
    {
     "name": "stderr",
     "output_type": "stream",
     "text": [
      "Period 0 LOOCV: 100%|██████████| 5/5 [03:32<00:00, 42.56s/it]\n"
     ]
    },
    {
     "name": "stdout",
     "output_type": "stream",
     "text": [
      "  時期 1 (前期) を評価中...\n"
     ]
    },
    {
     "name": "stderr",
     "output_type": "stream",
     "text": [
      "Period 1 LOOCV:   0%|          | 0/5 [00:00<?, ?it/s]"
     ]
    },
    {
     "name": "stdout",
     "output_type": "stream",
     "text": [
      "creating weights matrix...\n",
      "calculating distance_W...\n",
      "updating weights matrix...\n"
     ]
    },
    {
     "name": "stderr",
     "output_type": "stream",
     "text": [
      "Period 1 LOOCV:  20%|██        | 1/5 [00:42<02:48, 42.20s/it]"
     ]
    },
    {
     "name": "stdout",
     "output_type": "stream",
     "text": [
      "creating weights matrix...\n",
      "calculating distance_W...\n",
      "updating weights matrix...\n"
     ]
    },
    {
     "name": "stderr",
     "output_type": "stream",
     "text": [
      "Period 1 LOOCV:  40%|████      | 2/5 [01:24<02:06, 42.15s/it]"
     ]
    },
    {
     "name": "stdout",
     "output_type": "stream",
     "text": [
      "creating weights matrix...\n",
      "calculating distance_W...\n",
      "updating weights matrix...\n"
     ]
    },
    {
     "name": "stderr",
     "output_type": "stream",
     "text": [
      "Period 1 LOOCV:  60%|██████    | 3/5 [02:06<01:24, 42.14s/it]"
     ]
    },
    {
     "name": "stdout",
     "output_type": "stream",
     "text": [
      "creating weights matrix...\n",
      "calculating distance_W...\n",
      "updating weights matrix...\n"
     ]
    },
    {
     "name": "stderr",
     "output_type": "stream",
     "text": [
      "Period 1 LOOCV:  80%|████████  | 4/5 [02:48<00:42, 42.15s/it]"
     ]
    },
    {
     "name": "stdout",
     "output_type": "stream",
     "text": [
      "creating weights matrix...\n",
      "calculating distance_W...\n",
      "updating weights matrix...\n"
     ]
    },
    {
     "name": "stderr",
     "output_type": "stream",
     "text": [
      "Period 1 LOOCV: 100%|██████████| 5/5 [03:31<00:00, 42.27s/it]\n"
     ]
    },
    {
     "name": "stdout",
     "output_type": "stream",
     "text": [
      "  時期 2 (中期) を評価中...\n"
     ]
    },
    {
     "name": "stderr",
     "output_type": "stream",
     "text": [
      "Period 2 LOOCV:   0%|          | 0/5 [00:00<?, ?it/s]"
     ]
    },
    {
     "name": "stdout",
     "output_type": "stream",
     "text": [
      "creating weights matrix...\n",
      "calculating distance_W...\n",
      "updating weights matrix...\n"
     ]
    },
    {
     "name": "stderr",
     "output_type": "stream",
     "text": [
      "Period 2 LOOCV:  20%|██        | 1/5 [00:42<02:51, 42.84s/it]"
     ]
    },
    {
     "name": "stdout",
     "output_type": "stream",
     "text": [
      "creating weights matrix...\n",
      "calculating distance_W...\n",
      "updating weights matrix...\n"
     ]
    },
    {
     "name": "stderr",
     "output_type": "stream",
     "text": [
      "Period 2 LOOCV:  40%|████      | 2/5 [01:25<02:07, 42.47s/it]"
     ]
    },
    {
     "name": "stdout",
     "output_type": "stream",
     "text": [
      "creating weights matrix...\n",
      "calculating distance_W...\n",
      "updating weights matrix...\n"
     ]
    },
    {
     "name": "stderr",
     "output_type": "stream",
     "text": [
      "Period 2 LOOCV:  60%|██████    | 3/5 [02:07<01:24, 42.37s/it]"
     ]
    },
    {
     "name": "stdout",
     "output_type": "stream",
     "text": [
      "creating weights matrix...\n",
      "calculating distance_W...\n",
      "updating weights matrix...\n"
     ]
    },
    {
     "name": "stderr",
     "output_type": "stream",
     "text": [
      "Period 2 LOOCV:  80%|████████  | 4/5 [02:50<00:42, 42.56s/it]"
     ]
    },
    {
     "name": "stdout",
     "output_type": "stream",
     "text": [
      "creating weights matrix...\n",
      "calculating distance_W...\n",
      "updating weights matrix...\n"
     ]
    },
    {
     "name": "stderr",
     "output_type": "stream",
     "text": [
      "Period 2 LOOCV: 100%|██████████| 5/5 [03:32<00:00, 42.57s/it]\n"
     ]
    },
    {
     "name": "stdout",
     "output_type": "stream",
     "text": [
      "  時期 3 (後期) を評価中...\n"
     ]
    },
    {
     "name": "stderr",
     "output_type": "stream",
     "text": [
      "Period 3 LOOCV:   0%|          | 0/5 [00:00<?, ?it/s]"
     ]
    },
    {
     "name": "stdout",
     "output_type": "stream",
     "text": [
      "creating weights matrix...\n",
      "calculating distance_W...\n",
      "updating weights matrix...\n"
     ]
    },
    {
     "name": "stderr",
     "output_type": "stream",
     "text": [
      "Period 3 LOOCV:  20%|██        | 1/5 [00:42<02:48, 42.22s/it]"
     ]
    },
    {
     "name": "stdout",
     "output_type": "stream",
     "text": [
      "creating weights matrix...\n",
      "calculating distance_W...\n",
      "updating weights matrix...\n"
     ]
    },
    {
     "name": "stderr",
     "output_type": "stream",
     "text": [
      "Period 3 LOOCV:  40%|████      | 2/5 [01:24<02:06, 42.24s/it]"
     ]
    },
    {
     "name": "stdout",
     "output_type": "stream",
     "text": [
      "creating weights matrix...\n",
      "calculating distance_W...\n",
      "updating weights matrix...\n"
     ]
    },
    {
     "name": "stderr",
     "output_type": "stream",
     "text": [
      "Period 3 LOOCV:  60%|██████    | 3/5 [02:07<01:24, 42.49s/it]"
     ]
    },
    {
     "name": "stdout",
     "output_type": "stream",
     "text": [
      "creating weights matrix...\n",
      "calculating distance_W...\n",
      "updating weights matrix...\n"
     ]
    },
    {
     "name": "stderr",
     "output_type": "stream",
     "text": [
      "Period 3 LOOCV:  80%|████████  | 4/5 [02:49<00:42, 42.38s/it]"
     ]
    },
    {
     "name": "stdout",
     "output_type": "stream",
     "text": [
      "creating weights matrix...\n",
      "calculating distance_W...\n",
      "updating weights matrix...\n"
     ]
    },
    {
     "name": "stderr",
     "output_type": "stream",
     "text": [
      "Period 3 LOOCV: 100%|██████████| 5/5 [03:31<00:00, 42.33s/it]\n"
     ]
    },
    {
     "name": "stdout",
     "output_type": "stream",
     "text": [
      "  時期 4 (晩期) を評価中...\n"
     ]
    },
    {
     "name": "stderr",
     "output_type": "stream",
     "text": [
      "Period 4 LOOCV:   0%|          | 0/5 [00:00<?, ?it/s]"
     ]
    },
    {
     "name": "stdout",
     "output_type": "stream",
     "text": [
      "creating weights matrix...\n",
      "calculating distance_W...\n",
      "updating weights matrix...\n"
     ]
    },
    {
     "name": "stderr",
     "output_type": "stream",
     "text": [
      "Period 4 LOOCV:  20%|██        | 1/5 [00:42<02:48, 42.17s/it]"
     ]
    },
    {
     "name": "stdout",
     "output_type": "stream",
     "text": [
      "creating weights matrix...\n",
      "calculating distance_W...\n",
      "updating weights matrix...\n"
     ]
    },
    {
     "name": "stderr",
     "output_type": "stream",
     "text": [
      "Period 4 LOOCV:  40%|████      | 2/5 [01:24<02:07, 42.54s/it]"
     ]
    },
    {
     "name": "stdout",
     "output_type": "stream",
     "text": [
      "creating weights matrix...\n",
      "calculating distance_W...\n",
      "updating weights matrix...\n"
     ]
    },
    {
     "name": "stderr",
     "output_type": "stream",
     "text": [
      "Period 4 LOOCV:  60%|██████    | 3/5 [02:07<01:24, 42.36s/it]"
     ]
    },
    {
     "name": "stdout",
     "output_type": "stream",
     "text": [
      "creating weights matrix...\n",
      "calculating distance_W...\n",
      "updating weights matrix...\n"
     ]
    },
    {
     "name": "stderr",
     "output_type": "stream",
     "text": [
      "Period 4 LOOCV:  80%|████████  | 4/5 [02:49<00:42, 42.30s/it]"
     ]
    },
    {
     "name": "stdout",
     "output_type": "stream",
     "text": [
      "creating weights matrix...\n",
      "calculating distance_W...\n",
      "updating weights matrix...\n"
     ]
    },
    {
     "name": "stderr",
     "output_type": "stream",
     "text": [
      "Period 4 LOOCV: 100%|██████████| 5/5 [03:31<00:00, 42.30s/it]\n"
     ]
    },
    {
     "name": "stdout",
     "output_type": "stream",
     "text": [
      "  完了 (実行時間: 1067.3秒)\n",
      "    中間結果保存エラー: Object of type ndarray is not JSON serializable\n",
      "\n",
      "[5/6] σ=700, σ_sites=0.1 を評価中...\n",
      "  時期 0 (早期・早々期) を評価中...\n"
     ]
    },
    {
     "name": "stderr",
     "output_type": "stream",
     "text": [
      "Period 0 LOOCV:   0%|          | 0/5 [00:00<?, ?it/s]"
     ]
    },
    {
     "name": "stdout",
     "output_type": "stream",
     "text": [
      "creating weights matrix...\n",
      "calculating distance_W...\n",
      "updating weights matrix...\n"
     ]
    },
    {
     "name": "stderr",
     "output_type": "stream",
     "text": [
      "Period 0 LOOCV:  20%|██        | 1/5 [00:42<02:48, 42.09s/it]"
     ]
    },
    {
     "name": "stdout",
     "output_type": "stream",
     "text": [
      "creating weights matrix...\n",
      "calculating distance_W...\n",
      "updating weights matrix...\n"
     ]
    },
    {
     "name": "stderr",
     "output_type": "stream",
     "text": [
      "Period 0 LOOCV:  40%|████      | 2/5 [01:24<02:07, 42.48s/it]"
     ]
    },
    {
     "name": "stdout",
     "output_type": "stream",
     "text": [
      "creating weights matrix...\n",
      "calculating distance_W...\n",
      "updating weights matrix...\n"
     ]
    },
    {
     "name": "stderr",
     "output_type": "stream",
     "text": [
      "Period 0 LOOCV:  60%|██████    | 3/5 [02:06<01:24, 42.32s/it]"
     ]
    },
    {
     "name": "stdout",
     "output_type": "stream",
     "text": [
      "creating weights matrix...\n",
      "calculating distance_W...\n",
      "updating weights matrix...\n"
     ]
    },
    {
     "name": "stderr",
     "output_type": "stream",
     "text": [
      "Period 0 LOOCV:  80%|████████  | 4/5 [02:49<00:42, 42.50s/it]"
     ]
    },
    {
     "name": "stdout",
     "output_type": "stream",
     "text": [
      "creating weights matrix...\n",
      "calculating distance_W...\n",
      "updating weights matrix...\n"
     ]
    },
    {
     "name": "stderr",
     "output_type": "stream",
     "text": [
      "Period 0 LOOCV: 100%|██████████| 5/5 [03:31<00:00, 42.38s/it]\n"
     ]
    },
    {
     "name": "stdout",
     "output_type": "stream",
     "text": [
      "  時期 1 (前期) を評価中...\n"
     ]
    },
    {
     "name": "stderr",
     "output_type": "stream",
     "text": [
      "Period 1 LOOCV:   0%|          | 0/5 [00:00<?, ?it/s]"
     ]
    },
    {
     "name": "stdout",
     "output_type": "stream",
     "text": [
      "creating weights matrix...\n",
      "calculating distance_W...\n",
      "updating weights matrix...\n"
     ]
    },
    {
     "name": "stderr",
     "output_type": "stream",
     "text": [
      "Period 1 LOOCV:  20%|██        | 1/5 [00:42<02:48, 42.06s/it]"
     ]
    },
    {
     "name": "stdout",
     "output_type": "stream",
     "text": [
      "creating weights matrix...\n",
      "calculating distance_W...\n",
      "updating weights matrix...\n"
     ]
    },
    {
     "name": "stderr",
     "output_type": "stream",
     "text": [
      "Period 1 LOOCV:  40%|████      | 2/5 [01:24<02:07, 42.48s/it]"
     ]
    },
    {
     "name": "stdout",
     "output_type": "stream",
     "text": [
      "creating weights matrix...\n",
      "calculating distance_W...\n",
      "updating weights matrix...\n"
     ]
    },
    {
     "name": "stderr",
     "output_type": "stream",
     "text": [
      "Period 1 LOOCV:  60%|██████    | 3/5 [02:07<01:25, 42.61s/it]"
     ]
    },
    {
     "name": "stdout",
     "output_type": "stream",
     "text": [
      "creating weights matrix...\n",
      "calculating distance_W...\n",
      "updating weights matrix...\n"
     ]
    },
    {
     "name": "stderr",
     "output_type": "stream",
     "text": [
      "Period 1 LOOCV:  80%|████████  | 4/5 [02:49<00:42, 42.44s/it]"
     ]
    },
    {
     "name": "stdout",
     "output_type": "stream",
     "text": [
      "creating weights matrix...\n",
      "calculating distance_W...\n",
      "updating weights matrix...\n"
     ]
    },
    {
     "name": "stderr",
     "output_type": "stream",
     "text": [
      "Period 1 LOOCV: 100%|██████████| 5/5 [03:32<00:00, 42.52s/it]\n"
     ]
    },
    {
     "name": "stdout",
     "output_type": "stream",
     "text": [
      "  時期 2 (中期) を評価中...\n"
     ]
    },
    {
     "name": "stderr",
     "output_type": "stream",
     "text": [
      "Period 2 LOOCV:   0%|          | 0/5 [00:00<?, ?it/s]"
     ]
    },
    {
     "name": "stdout",
     "output_type": "stream",
     "text": [
      "creating weights matrix...\n",
      "calculating distance_W...\n",
      "updating weights matrix...\n"
     ]
    },
    {
     "name": "stderr",
     "output_type": "stream",
     "text": [
      "Period 2 LOOCV:  20%|██        | 1/5 [00:42<02:51, 42.85s/it]"
     ]
    },
    {
     "name": "stdout",
     "output_type": "stream",
     "text": [
      "creating weights matrix...\n",
      "calculating distance_W...\n",
      "updating weights matrix...\n"
     ]
    },
    {
     "name": "stderr",
     "output_type": "stream",
     "text": [
      "Period 2 LOOCV:  40%|████      | 2/5 [01:25<02:07, 42.52s/it]"
     ]
    },
    {
     "name": "stdout",
     "output_type": "stream",
     "text": [
      "creating weights matrix...\n",
      "calculating distance_W...\n",
      "updating weights matrix...\n"
     ]
    },
    {
     "name": "stderr",
     "output_type": "stream",
     "text": [
      "Period 2 LOOCV:  60%|██████    | 3/5 [02:07<01:25, 42.56s/it]"
     ]
    },
    {
     "name": "stdout",
     "output_type": "stream",
     "text": [
      "creating weights matrix...\n",
      "calculating distance_W...\n",
      "updating weights matrix...\n"
     ]
    },
    {
     "name": "stderr",
     "output_type": "stream",
     "text": [
      "Period 2 LOOCV:  80%|████████  | 4/5 [02:50<00:42, 42.57s/it]"
     ]
    },
    {
     "name": "stdout",
     "output_type": "stream",
     "text": [
      "creating weights matrix...\n",
      "calculating distance_W...\n",
      "updating weights matrix...\n"
     ]
    },
    {
     "name": "stderr",
     "output_type": "stream",
     "text": [
      "Period 2 LOOCV: 100%|██████████| 5/5 [03:32<00:00, 42.52s/it]\n"
     ]
    },
    {
     "name": "stdout",
     "output_type": "stream",
     "text": [
      "  時期 3 (後期) を評価中...\n"
     ]
    },
    {
     "name": "stderr",
     "output_type": "stream",
     "text": [
      "Period 3 LOOCV:   0%|          | 0/5 [00:00<?, ?it/s]"
     ]
    },
    {
     "name": "stdout",
     "output_type": "stream",
     "text": [
      "creating weights matrix...\n",
      "calculating distance_W...\n",
      "updating weights matrix...\n"
     ]
    },
    {
     "name": "stderr",
     "output_type": "stream",
     "text": [
      "Period 3 LOOCV:  20%|██        | 1/5 [00:42<02:51, 42.84s/it]"
     ]
    },
    {
     "name": "stdout",
     "output_type": "stream",
     "text": [
      "creating weights matrix...\n",
      "calculating distance_W...\n",
      "updating weights matrix...\n"
     ]
    },
    {
     "name": "stderr",
     "output_type": "stream",
     "text": [
      "Period 3 LOOCV:  40%|████      | 2/5 [01:25<02:07, 42.48s/it]"
     ]
    },
    {
     "name": "stdout",
     "output_type": "stream",
     "text": [
      "creating weights matrix...\n",
      "calculating distance_W...\n",
      "updating weights matrix...\n"
     ]
    },
    {
     "name": "stderr",
     "output_type": "stream",
     "text": [
      "Period 3 LOOCV:  60%|██████    | 3/5 [02:07<01:24, 42.28s/it]"
     ]
    },
    {
     "name": "stdout",
     "output_type": "stream",
     "text": [
      "creating weights matrix...\n",
      "calculating distance_W...\n",
      "updating weights matrix...\n"
     ]
    },
    {
     "name": "stderr",
     "output_type": "stream",
     "text": [
      "Period 3 LOOCV:  80%|████████  | 4/5 [02:49<00:42, 42.27s/it]"
     ]
    },
    {
     "name": "stdout",
     "output_type": "stream",
     "text": [
      "creating weights matrix...\n",
      "calculating distance_W...\n",
      "updating weights matrix...\n"
     ]
    },
    {
     "name": "stderr",
     "output_type": "stream",
     "text": [
      "Period 3 LOOCV: 100%|██████████| 5/5 [03:31<00:00, 42.34s/it]\n"
     ]
    },
    {
     "name": "stdout",
     "output_type": "stream",
     "text": [
      "  時期 4 (晩期) を評価中...\n"
     ]
    },
    {
     "name": "stderr",
     "output_type": "stream",
     "text": [
      "Period 4 LOOCV:   0%|          | 0/5 [00:00<?, ?it/s]"
     ]
    },
    {
     "name": "stdout",
     "output_type": "stream",
     "text": [
      "creating weights matrix...\n",
      "calculating distance_W...\n",
      "updating weights matrix...\n"
     ]
    },
    {
     "name": "stderr",
     "output_type": "stream",
     "text": [
      "Period 4 LOOCV:  20%|██        | 1/5 [00:42<02:48, 42.21s/it]"
     ]
    },
    {
     "name": "stdout",
     "output_type": "stream",
     "text": [
      "creating weights matrix...\n",
      "calculating distance_W...\n",
      "updating weights matrix...\n"
     ]
    },
    {
     "name": "stderr",
     "output_type": "stream",
     "text": [
      "Period 4 LOOCV:  40%|████      | 2/5 [01:24<02:06, 42.20s/it]"
     ]
    },
    {
     "name": "stdout",
     "output_type": "stream",
     "text": [
      "creating weights matrix...\n",
      "calculating distance_W...\n",
      "updating weights matrix...\n"
     ]
    },
    {
     "name": "stderr",
     "output_type": "stream",
     "text": [
      "Period 4 LOOCV:  60%|██████    | 3/5 [02:06<01:24, 42.21s/it]"
     ]
    },
    {
     "name": "stdout",
     "output_type": "stream",
     "text": [
      "creating weights matrix...\n",
      "calculating distance_W...\n",
      "updating weights matrix...\n"
     ]
    },
    {
     "name": "stderr",
     "output_type": "stream",
     "text": [
      "Period 4 LOOCV:  80%|████████  | 4/5 [02:49<00:42, 42.45s/it]"
     ]
    },
    {
     "name": "stdout",
     "output_type": "stream",
     "text": [
      "creating weights matrix...\n",
      "calculating distance_W...\n",
      "updating weights matrix...\n"
     ]
    },
    {
     "name": "stderr",
     "output_type": "stream",
     "text": [
      "Period 4 LOOCV: 100%|██████████| 5/5 [03:32<00:00, 42.44s/it]\n"
     ]
    },
    {
     "name": "stdout",
     "output_type": "stream",
     "text": [
      "  完了 (実行時間: 1068.2秒)\n",
      "    中間結果保存エラー: Object of type ndarray is not JSON serializable\n",
      "\n",
      "[6/6] σ=700, σ_sites=1.0 を評価中...\n",
      "  時期 0 (早期・早々期) を評価中...\n"
     ]
    },
    {
     "name": "stderr",
     "output_type": "stream",
     "text": [
      "Period 0 LOOCV:   0%|          | 0/5 [00:00<?, ?it/s]"
     ]
    },
    {
     "name": "stdout",
     "output_type": "stream",
     "text": [
      "creating weights matrix...\n",
      "calculating distance_W...\n",
      "updating weights matrix...\n"
     ]
    },
    {
     "name": "stderr",
     "output_type": "stream",
     "text": [
      "Period 0 LOOCV:  20%|██        | 1/5 [00:42<02:48, 42.13s/it]"
     ]
    },
    {
     "name": "stdout",
     "output_type": "stream",
     "text": [
      "creating weights matrix...\n",
      "calculating distance_W...\n",
      "updating weights matrix...\n"
     ]
    },
    {
     "name": "stderr",
     "output_type": "stream",
     "text": [
      "Period 0 LOOCV:  40%|████      | 2/5 [01:24<02:07, 42.45s/it]"
     ]
    },
    {
     "name": "stdout",
     "output_type": "stream",
     "text": [
      "creating weights matrix...\n",
      "calculating distance_W...\n",
      "updating weights matrix...\n"
     ]
    },
    {
     "name": "stderr",
     "output_type": "stream",
     "text": [
      "Period 0 LOOCV:  60%|██████    | 3/5 [02:06<01:24, 42.32s/it]"
     ]
    },
    {
     "name": "stdout",
     "output_type": "stream",
     "text": [
      "creating weights matrix...\n",
      "calculating distance_W...\n",
      "updating weights matrix...\n"
     ]
    },
    {
     "name": "stderr",
     "output_type": "stream",
     "text": [
      "Period 0 LOOCV:  80%|████████  | 4/5 [02:49<00:42, 42.50s/it]"
     ]
    },
    {
     "name": "stdout",
     "output_type": "stream",
     "text": [
      "creating weights matrix...\n",
      "calculating distance_W...\n",
      "updating weights matrix...\n"
     ]
    },
    {
     "name": "stderr",
     "output_type": "stream",
     "text": [
      "Period 0 LOOCV: 100%|██████████| 5/5 [03:32<00:00, 42.51s/it]\n"
     ]
    },
    {
     "name": "stdout",
     "output_type": "stream",
     "text": [
      "  時期 1 (前期) を評価中...\n"
     ]
    },
    {
     "name": "stderr",
     "output_type": "stream",
     "text": [
      "Period 1 LOOCV:   0%|          | 0/5 [00:00<?, ?it/s]"
     ]
    },
    {
     "name": "stdout",
     "output_type": "stream",
     "text": [
      "creating weights matrix...\n",
      "calculating distance_W...\n",
      "updating weights matrix...\n"
     ]
    },
    {
     "name": "stderr",
     "output_type": "stream",
     "text": [
      "Period 1 LOOCV:  20%|██        | 1/5 [00:42<02:51, 42.80s/it]"
     ]
    },
    {
     "name": "stdout",
     "output_type": "stream",
     "text": [
      "creating weights matrix...\n",
      "calculating distance_W...\n",
      "updating weights matrix...\n"
     ]
    },
    {
     "name": "stderr",
     "output_type": "stream",
     "text": [
      "Period 1 LOOCV:  40%|████      | 2/5 [01:24<02:07, 42.38s/it]"
     ]
    },
    {
     "name": "stdout",
     "output_type": "stream",
     "text": [
      "creating weights matrix...\n",
      "calculating distance_W...\n",
      "updating weights matrix...\n"
     ]
    },
    {
     "name": "stderr",
     "output_type": "stream",
     "text": [
      "Period 1 LOOCV:  60%|██████    | 3/5 [02:07<01:24, 42.29s/it]"
     ]
    },
    {
     "name": "stdout",
     "output_type": "stream",
     "text": [
      "creating weights matrix...\n",
      "calculating distance_W...\n",
      "updating weights matrix...\n"
     ]
    },
    {
     "name": "stderr",
     "output_type": "stream",
     "text": [
      "Period 1 LOOCV:  80%|████████  | 4/5 [02:49<00:42, 42.23s/it]"
     ]
    },
    {
     "name": "stdout",
     "output_type": "stream",
     "text": [
      "creating weights matrix...\n",
      "calculating distance_W...\n",
      "updating weights matrix...\n"
     ]
    },
    {
     "name": "stderr",
     "output_type": "stream",
     "text": [
      "Period 1 LOOCV: 100%|██████████| 5/5 [03:31<00:00, 42.30s/it]\n"
     ]
    },
    {
     "name": "stdout",
     "output_type": "stream",
     "text": [
      "  時期 2 (中期) を評価中...\n"
     ]
    },
    {
     "name": "stderr",
     "output_type": "stream",
     "text": [
      "Period 2 LOOCV:   0%|          | 0/5 [00:00<?, ?it/s]"
     ]
    },
    {
     "name": "stdout",
     "output_type": "stream",
     "text": [
      "creating weights matrix...\n",
      "calculating distance_W...\n",
      "updating weights matrix...\n"
     ]
    },
    {
     "name": "stderr",
     "output_type": "stream",
     "text": [
      "Period 2 LOOCV:  20%|██        | 1/5 [00:42<02:51, 42.80s/it]"
     ]
    },
    {
     "name": "stdout",
     "output_type": "stream",
     "text": [
      "creating weights matrix...\n",
      "calculating distance_W...\n",
      "updating weights matrix...\n"
     ]
    },
    {
     "name": "stderr",
     "output_type": "stream",
     "text": [
      "Period 2 LOOCV:  40%|████      | 2/5 [01:24<02:07, 42.37s/it]"
     ]
    },
    {
     "name": "stdout",
     "output_type": "stream",
     "text": [
      "creating weights matrix...\n",
      "calculating distance_W...\n",
      "updating weights matrix...\n"
     ]
    },
    {
     "name": "stderr",
     "output_type": "stream",
     "text": [
      "Period 2 LOOCV:  60%|██████    | 3/5 [02:07<01:24, 42.27s/it]"
     ]
    },
    {
     "name": "stdout",
     "output_type": "stream",
     "text": [
      "creating weights matrix...\n",
      "calculating distance_W...\n",
      "updating weights matrix...\n"
     ]
    },
    {
     "name": "stderr",
     "output_type": "stream",
     "text": [
      "Period 2 LOOCV:  80%|████████  | 4/5 [02:49<00:42, 42.45s/it]"
     ]
    },
    {
     "name": "stdout",
     "output_type": "stream",
     "text": [
      "creating weights matrix...\n",
      "calculating distance_W...\n",
      "updating weights matrix...\n"
     ]
    },
    {
     "name": "stderr",
     "output_type": "stream",
     "text": [
      "Period 2 LOOCV: 100%|██████████| 5/5 [03:32<00:00, 42.51s/it]\n"
     ]
    },
    {
     "name": "stdout",
     "output_type": "stream",
     "text": [
      "  時期 3 (後期) を評価中...\n"
     ]
    },
    {
     "name": "stderr",
     "output_type": "stream",
     "text": [
      "Period 3 LOOCV:   0%|          | 0/5 [00:00<?, ?it/s]"
     ]
    },
    {
     "name": "stdout",
     "output_type": "stream",
     "text": [
      "creating weights matrix...\n",
      "calculating distance_W...\n",
      "updating weights matrix...\n"
     ]
    },
    {
     "name": "stderr",
     "output_type": "stream",
     "text": [
      "Period 3 LOOCV:  20%|██        | 1/5 [00:42<02:48, 42.17s/it]"
     ]
    },
    {
     "name": "stdout",
     "output_type": "stream",
     "text": [
      "creating weights matrix...\n",
      "calculating distance_W...\n",
      "updating weights matrix...\n"
     ]
    },
    {
     "name": "stderr",
     "output_type": "stream",
     "text": [
      "Period 3 LOOCV:  40%|████      | 2/5 [01:24<02:06, 42.19s/it]"
     ]
    },
    {
     "name": "stdout",
     "output_type": "stream",
     "text": [
      "creating weights matrix...\n",
      "calculating distance_W...\n",
      "updating weights matrix...\n"
     ]
    },
    {
     "name": "stderr",
     "output_type": "stream",
     "text": [
      "Period 3 LOOCV:  60%|██████    | 3/5 [02:06<01:24, 42.19s/it]"
     ]
    },
    {
     "name": "stdout",
     "output_type": "stream",
     "text": [
      "creating weights matrix...\n",
      "calculating distance_W...\n",
      "updating weights matrix...\n"
     ]
    },
    {
     "name": "stderr",
     "output_type": "stream",
     "text": [
      "Period 3 LOOCV:  80%|████████  | 4/5 [02:48<00:42, 42.16s/it]"
     ]
    },
    {
     "name": "stdout",
     "output_type": "stream",
     "text": [
      "creating weights matrix...\n",
      "calculating distance_W...\n",
      "updating weights matrix...\n"
     ]
    },
    {
     "name": "stderr",
     "output_type": "stream",
     "text": [
      "Period 3 LOOCV: 100%|██████████| 5/5 [03:30<00:00, 42.17s/it]\n"
     ]
    },
    {
     "name": "stdout",
     "output_type": "stream",
     "text": [
      "  時期 4 (晩期) を評価中...\n"
     ]
    },
    {
     "name": "stderr",
     "output_type": "stream",
     "text": [
      "Period 4 LOOCV:   0%|          | 0/5 [00:00<?, ?it/s]"
     ]
    },
    {
     "name": "stdout",
     "output_type": "stream",
     "text": [
      "creating weights matrix...\n",
      "calculating distance_W...\n",
      "updating weights matrix...\n"
     ]
    },
    {
     "name": "stderr",
     "output_type": "stream",
     "text": [
      "Period 4 LOOCV:  20%|██        | 1/5 [00:42<02:48, 42.19s/it]"
     ]
    },
    {
     "name": "stdout",
     "output_type": "stream",
     "text": [
      "creating weights matrix...\n",
      "calculating distance_W...\n",
      "updating weights matrix...\n"
     ]
    },
    {
     "name": "stderr",
     "output_type": "stream",
     "text": [
      "Period 4 LOOCV:  40%|████      | 2/5 [01:24<02:06, 42.15s/it]"
     ]
    },
    {
     "name": "stdout",
     "output_type": "stream",
     "text": [
      "creating weights matrix...\n",
      "calculating distance_W...\n",
      "updating weights matrix...\n"
     ]
    },
    {
     "name": "stderr",
     "output_type": "stream",
     "text": [
      "Period 4 LOOCV:  60%|██████    | 3/5 [02:06<01:24, 42.16s/it]"
     ]
    },
    {
     "name": "stdout",
     "output_type": "stream",
     "text": [
      "creating weights matrix...\n",
      "calculating distance_W...\n",
      "updating weights matrix...\n"
     ]
    },
    {
     "name": "stderr",
     "output_type": "stream",
     "text": [
      "Period 4 LOOCV:  80%|████████  | 4/5 [02:48<00:42, 42.17s/it]"
     ]
    },
    {
     "name": "stdout",
     "output_type": "stream",
     "text": [
      "creating weights matrix...\n",
      "calculating distance_W...\n",
      "updating weights matrix...\n"
     ]
    },
    {
     "name": "stderr",
     "output_type": "stream",
     "text": [
      "Period 4 LOOCV: 100%|██████████| 5/5 [03:30<00:00, 42.18s/it]\n"
     ]
    },
    {
     "name": "stdout",
     "output_type": "stream",
     "text": [
      "  完了 (実行時間: 1065.6秒)\n",
      "    中間結果保存エラー: Object of type ndarray is not JSON serializable\n",
      "\n",
      "=== ハイパーパラメータ評価完了 ===\n",
      "成功した組み合わせ: 6/6\n",
      "失敗した組み合わせ: 0/6\n",
      "最終結果保存エラー: Object of type ndarray is not JSON serializable\n"
     ]
    }
   ],
   "source": [
    "# 評価器の作成\n",
    "hp_evaluator = HyperparameterEvaluator(preprocessor, base_config, loocv_config)\n",
    "\n",
    "# 既存の中間結果があるかチェック\n",
    "checkpoint_files = [\n",
    "    f\n",
    "    for f in os.listdir(data_dir)\n",
    "    if f.startswith(\"hyperparameter_checkpoint_\") and f.endswith(\".json\")\n",
    "]\n",
    "if checkpoint_files:\n",
    "    print(f\"\\n既存の中間結果ファイルを検出: {len(checkpoint_files)} 個\")\n",
    "    latest_checkpoint = sorted(checkpoint_files)[-1]\n",
    "    print(f\"最新の中間結果: {latest_checkpoint}\")\n",
    "\n",
    "    # 中間結果を読み込むかユーザーに確認\n",
    "    print(\"\\n中間結果から続行しますか？\")\n",
    "    print(\"1. 新規実行（既存結果を無視）\")\n",
    "    print(\"2. 中間結果から続行\")\n",
    "    choice = input(\"選択してください (1 or 2): \").strip()\n",
    "\n",
    "    if choice == \"2\":\n",
    "        try:\n",
    "            with open(\n",
    "                os.path.join(data_dir, latest_checkpoint), \"r\", encoding=\"utf-8\"\n",
    "            ) as f:\n",
    "                hp_evaluator.results = json.load(f)\n",
    "            print(f\"中間結果を読み込みました: {len(hp_evaluator.results)} 件\")\n",
    "\n",
    "            # 既に完了したパラメータを除外\n",
    "            completed_params = set(\n",
    "                (r[\"sigma\"], r[\"sigma_for_sites\"]) for r in hp_evaluator.results\n",
    "            )\n",
    "            remaining_combinations = [\n",
    "                p for p in parameter_combinations if p not in completed_params\n",
    "            ]\n",
    "            print(f\"残りの評価対象: {len(remaining_combinations)} 組み合わせ\")\n",
    "            parameter_combinations = remaining_combinations\n",
    "        except Exception as e:\n",
    "            print(f\"中間結果の読み込みエラー: {e}\")\n",
    "            print(\"新規実行を開始します\")\n",
    "\n",
    "print(f\"\\n実行予定の組み合わせ数: {len(parameter_combinations)}\")\n",
    "\n",
    "# 評価の実行\n",
    "if len(parameter_combinations) > 0:\n",
    "    hp_evaluator.run_full_evaluation(parameter_combinations, target_periods)\n",
    "\n",
    "    # 結果の保存\n",
    "    results_file = hp_evaluator.save_final_results()\n",
    "else:\n",
    "    print(\"すべての組み合わせが既に完了しています。\")\n",
    "    results_file = os.path.join(data_dir, \"hyperparameter_evaluation_results.json\")"
   ]
  },
  {
   "cell_type": "markdown",
   "metadata": {},
   "source": [
    "## 7. 結果の分析と可視化"
   ]
  },
  {
   "cell_type": "code",
   "execution_count": 7,
   "metadata": {},
   "outputs": [
    {
     "name": "stdout",
     "output_type": "stream",
     "text": [
      "結果分析システム実装完了\n"
     ]
    }
   ],
   "source": [
    "class ResultAnalyzer:\n",
    "    \"\"\"結果分析と可視化のためのクラス\"\"\"\n",
    "\n",
    "    def __init__(self, results):\n",
    "        self.results = results\n",
    "        self.df_summary = None\n",
    "        self.df_detailed = None\n",
    "\n",
    "    def create_summary_dataframe(self):\n",
    "        \"\"\"サマリーデータフレームの作成\"\"\"\n",
    "        summary_data = []\n",
    "        detailed_data = []\n",
    "\n",
    "        for result in self.results:\n",
    "            if \"error\" in result:\n",
    "                continue\n",
    "\n",
    "            sigma = result[\"sigma\"]\n",
    "            sigma_for_sites = result[\"sigma_for_sites\"]\n",
    "            param_label = f\"σ={sigma}, σ_sites={sigma_for_sites}\"\n",
    "\n",
    "            # 全時期の統計を集計\n",
    "            all_aitchison = []\n",
    "            all_total_variation = []\n",
    "            all_success_rates = []\n",
    "\n",
    "            for period, period_result in result[\"period_results\"].items():\n",
    "                stats = period_result.get(\"summary_statistics\", {})\n",
    "\n",
    "                if stats.get(\"n_successful_trials\", 0) > 0:\n",
    "                    # 詳細データ（各試行の結果）\n",
    "                    for trial in period_result.get(\"trial_results\", []):\n",
    "                        if trial.get(\"success\", False):\n",
    "                            detailed_data.append(\n",
    "                                {\n",
    "                                    \"sigma\": sigma,\n",
    "                                    \"sigma_for_sites\": sigma_for_sites,\n",
    "                                    \"param_label\": param_label,\n",
    "                                    \"period\": period,\n",
    "                                    \"trial_id\": trial.get(\"trial_id\", 0),\n",
    "                                    \"aitchison_distance\": trial.get(\n",
    "                                        \"aitchison_distance\", np.nan\n",
    "                                    ),\n",
    "                                    \"total_variation\": trial.get(\n",
    "                                        \"total_variation\", np.nan\n",
    "                                    ),\n",
    "                                }\n",
    "                            )\n",
    "\n",
    "                    # 統計データ\n",
    "                    if \"aitchison_distances\" in stats:\n",
    "                        all_aitchison.extend(stats[\"aitchison_distances\"])\n",
    "                    if \"total_variations\" in stats:\n",
    "                        all_total_variation.extend(stats[\"total_variations\"])\n",
    "\n",
    "                    all_success_rates.append(stats.get(\"success_rate\", 0.0))\n",
    "\n",
    "            # サマリーデータ\n",
    "            summary_data.append(\n",
    "                {\n",
    "                    \"sigma\": sigma,\n",
    "                    \"sigma_for_sites\": sigma_for_sites,\n",
    "                    \"param_label\": param_label,\n",
    "                    \"mean_aitchison_distance\": np.mean(all_aitchison)\n",
    "                    if all_aitchison\n",
    "                    else np.nan,\n",
    "                    \"std_aitchison_distance\": np.std(all_aitchison)\n",
    "                    if all_aitchison\n",
    "                    else np.nan,\n",
    "                    \"median_aitchison_distance\": np.median(all_aitchison)\n",
    "                    if all_aitchison\n",
    "                    else np.nan,\n",
    "                    \"mean_total_variation\": np.mean(all_total_variation)\n",
    "                    if all_total_variation\n",
    "                    else np.nan,\n",
    "                    \"std_total_variation\": np.std(all_total_variation)\n",
    "                    if all_total_variation\n",
    "                    else np.nan,\n",
    "                    \"median_total_variation\": np.median(all_total_variation)\n",
    "                    if all_total_variation\n",
    "                    else np.nan,\n",
    "                    \"mean_success_rate\": np.mean(all_success_rates)\n",
    "                    if all_success_rates\n",
    "                    else 0.0,\n",
    "                    \"n_total_trials\": len(all_aitchison),\n",
    "                    \"execution_time\": result.get(\"execution_time\", 0),\n",
    "                }\n",
    "            )\n",
    "\n",
    "        self.df_summary = pd.DataFrame(summary_data)\n",
    "        self.df_detailed = pd.DataFrame(detailed_data)\n",
    "\n",
    "        return self.df_summary, self.df_detailed\n",
    "\n",
    "    def plot_boxplots(self, figsize=(16, 12)):\n",
    "        \"\"\"箱ひげ図による比較可視化\"\"\"\n",
    "        if self.df_detailed is None:\n",
    "            self.create_summary_dataframe()\n",
    "\n",
    "        fig, axes = plt.subplots(2, 2, figsize=figsize)\n",
    "        fig.suptitle(\"ハイパーパラメータ評価結果の比較\", fontsize=16, fontweight=\"bold\")\n",
    "\n",
    "        # Aitchison距離の箱ひげ図\n",
    "        sns.boxplot(\n",
    "            data=self.df_detailed,\n",
    "            x=\"param_label\",\n",
    "            y=\"aitchison_distance\",\n",
    "            ax=axes[0, 0],\n",
    "        )\n",
    "        axes[0, 0].set_title(\"Aitchison距離の分布比較\", fontweight=\"bold\")\n",
    "        axes[0, 0].set_xlabel(\"パラメータ組み合わせ\")\n",
    "        axes[0, 0].set_ylabel(\"Aitchison距離\")\n",
    "        axes[0, 0].tick_params(axis=\"x\", rotation=45)\n",
    "\n",
    "        # Total Variationの箱ひげ図\n",
    "        sns.boxplot(\n",
    "            data=self.df_detailed, x=\"param_label\", y=\"total_variation\", ax=axes[0, 1]\n",
    "        )\n",
    "        axes[0, 1].set_title(\"Total Variationの分布比較\", fontweight=\"bold\")\n",
    "        axes[0, 1].set_xlabel(\"パラメータ組み合わせ\")\n",
    "        axes[0, 1].set_ylabel(\"Total Variation\")\n",
    "        axes[0, 1].tick_params(axis=\"x\", rotation=45)\n",
    "\n",
    "        # 時期別のAitchison距離\n",
    "        sns.boxplot(\n",
    "            data=self.df_detailed,\n",
    "            x=\"param_label\",\n",
    "            y=\"aitchison_distance\",\n",
    "            hue=\"period\",\n",
    "            ax=axes[1, 0],\n",
    "        )\n",
    "        axes[1, 0].set_title(\"時期別 Aitchison距離の分布\", fontweight=\"bold\")\n",
    "        axes[1, 0].set_xlabel(\"パラメータ組み合わせ\")\n",
    "        axes[1, 0].set_ylabel(\"Aitchison距離\")\n",
    "        axes[1, 0].tick_params(axis=\"x\", rotation=45)\n",
    "        axes[1, 0].legend(title=\"時期\", bbox_to_anchor=(1.05, 1), loc=\"upper left\")\n",
    "\n",
    "        # 時期別のTotal Variation\n",
    "        sns.boxplot(\n",
    "            data=self.df_detailed,\n",
    "            x=\"param_label\",\n",
    "            y=\"total_variation\",\n",
    "            hue=\"period\",\n",
    "            ax=axes[1, 1],\n",
    "        )\n",
    "        axes[1, 1].set_title(\"時期別 Total Variationの分布\", fontweight=\"bold\")\n",
    "        axes[1, 1].set_xlabel(\"パラメータ組み合わせ\")\n",
    "        axes[1, 1].set_ylabel(\"Total Variation\")\n",
    "        axes[1, 1].tick_params(axis=\"x\", rotation=45)\n",
    "        axes[1, 1].legend(title=\"時期\", bbox_to_anchor=(1.05, 1), loc=\"upper left\")\n",
    "\n",
    "        plt.tight_layout()\n",
    "        plt.subplots_adjust(top=0.95)\n",
    "        plt.show()\n",
    "\n",
    "    def plot_performance_summary(self, figsize=(14, 10)):\n",
    "        \"\"\"パフォーマンスサマリーの可視化\"\"\"\n",
    "        if self.df_summary is None:\n",
    "            self.create_summary_dataframe()\n",
    "\n",
    "        fig, axes = plt.subplots(2, 2, figsize=figsize)\n",
    "        fig.suptitle(\"ハイパーパラメータ評価サマリー\", fontsize=16, fontweight=\"bold\")\n",
    "\n",
    "        # 平均Aitchison距離\n",
    "        self.df_summary.plot(\n",
    "            x=\"param_label\",\n",
    "            y=\"mean_aitchison_distance\",\n",
    "            kind=\"bar\",\n",
    "            ax=axes[0, 0],\n",
    "            color=\"skyblue\",\n",
    "        )\n",
    "        axes[0, 0].set_title(\"平均Aitchison距離\", fontweight=\"bold\")\n",
    "        axes[0, 0].set_ylabel(\"平均Aitchison距離\")\n",
    "        axes[0, 0].tick_params(axis=\"x\", rotation=45)\n",
    "\n",
    "        # 平均Total Variation\n",
    "        self.df_summary.plot(\n",
    "            x=\"param_label\",\n",
    "            y=\"mean_total_variation\",\n",
    "            kind=\"bar\",\n",
    "            ax=axes[0, 1],\n",
    "            color=\"lightcoral\",\n",
    "        )\n",
    "        axes[0, 1].set_title(\"平均Total Variation\", fontweight=\"bold\")\n",
    "        axes[0, 1].set_ylabel(\"平均Total Variation\")\n",
    "        axes[0, 1].tick_params(axis=\"x\", rotation=45)\n",
    "\n",
    "        # 成功率\n",
    "        self.df_summary.plot(\n",
    "            x=\"param_label\",\n",
    "            y=\"mean_success_rate\",\n",
    "            kind=\"bar\",\n",
    "            ax=axes[1, 0],\n",
    "            color=\"lightgreen\",\n",
    "        )\n",
    "        axes[1, 0].set_title(\"平均成功率\", fontweight=\"bold\")\n",
    "        axes[1, 0].set_ylabel(\"成功率\")\n",
    "        axes[1, 0].set_ylim(0, 1)\n",
    "        axes[1, 0].tick_params(axis=\"x\", rotation=45)\n",
    "\n",
    "        # 実行時間\n",
    "        self.df_summary.plot(\n",
    "            x=\"param_label\",\n",
    "            y=\"execution_time\",\n",
    "            kind=\"bar\",\n",
    "            ax=axes[1, 1],\n",
    "            color=\"orange\",\n",
    "        )\n",
    "        axes[1, 1].set_title(\"実行時間 (秒)\", fontweight=\"bold\")\n",
    "        axes[1, 1].set_ylabel(\"実行時間 (秒)\")\n",
    "        axes[1, 1].tick_params(axis=\"x\", rotation=45)\n",
    "\n",
    "        plt.tight_layout()\n",
    "        plt.subplots_adjust(top=0.93)\n",
    "        plt.show()\n",
    "\n",
    "    def get_best_parameters(self, metric=\"aitchison_distance\"):\n",
    "        \"\"\"最適なパラメータの取得\"\"\"\n",
    "        if self.df_summary is None:\n",
    "            self.create_summary_dataframe()\n",
    "\n",
    "        if metric == \"aitchison_distance\":\n",
    "            best_idx = self.df_summary[\"mean_aitchison_distance\"].idxmin()\n",
    "            column_name = \"mean_aitchison_distance\"\n",
    "        elif metric == \"total_variation\":\n",
    "            best_idx = self.df_summary[\"mean_total_variation\"].idxmin()\n",
    "            column_name = \"mean_total_variation\"\n",
    "        else:\n",
    "            raise ValueError(f\"Unknown metric: {metric}\")\n",
    "\n",
    "        best_row = self.df_summary.iloc[best_idx]\n",
    "\n",
    "        print(f\"\\n=== 最適パラメータ ({metric}基準) ===\")\n",
    "        print(f\"sigma: {best_row['sigma']}\")\n",
    "        print(f\"sigma_for_sites: {best_row['sigma_for_sites']}\")\n",
    "        print(f\"平均{metric}: {best_row[column_name]:.4f}\")\n",
    "        print(f\"成功率: {best_row['mean_success_rate']:.3f}\")\n",
    "        print(f\"実行時間: {best_row['execution_time']:.1f}秒\")\n",
    "\n",
    "        return {\n",
    "            \"sigma\": best_row[\"sigma\"],\n",
    "            \"sigma_for_sites\": best_row[\"sigma_for_sites\"],\n",
    "            \"metric_value\": best_row[column_name],\n",
    "            \"success_rate\": best_row[\"mean_success_rate\"],\n",
    "        }\n",
    "\n",
    "    def save_results(self, filename_prefix=\"hyperparameter_analysis\"):\n",
    "        \"\"\"結果の保存\"\"\"\n",
    "        if self.df_summary is None or self.df_detailed is None:\n",
    "            self.create_summary_dataframe()\n",
    "\n",
    "        summary_file = os.path.join(data_dir, f\"{filename_prefix}_summary.csv\")\n",
    "        detailed_file = os.path.join(data_dir, f\"{filename_prefix}_detailed.csv\")\n",
    "\n",
    "        self.df_summary.to_csv(summary_file, index=False)\n",
    "        self.df_detailed.to_csv(detailed_file, index=False)\n",
    "\n",
    "        print(\"\\n結果を保存しました:\")\n",
    "        print(f\"  サマリー: {summary_file}\")\n",
    "        print(f\"  詳細: {detailed_file}\")\n",
    "\n",
    "        return summary_file, detailed_file\n",
    "\n",
    "\n",
    "print(\"結果分析システム実装完了\")"
   ]
  },
  {
   "cell_type": "code",
   "execution_count": 8,
   "metadata": {},
   "outputs": [
    {
     "name": "stdout",
     "output_type": "stream",
     "text": [
      "サマリーデータ: 6 組み合わせ\n",
      "詳細データ: 150 試行結果\n",
      "\n",
      "=== 評価結果サマリー ===\n"
     ]
    },
    {
     "data": {
      "text/html": [
       "<div>\n",
       "<style scoped>\n",
       "    .dataframe tbody tr th:only-of-type {\n",
       "        vertical-align: middle;\n",
       "    }\n",
       "\n",
       "    .dataframe tbody tr th {\n",
       "        vertical-align: top;\n",
       "    }\n",
       "\n",
       "    .dataframe thead th {\n",
       "        text-align: right;\n",
       "    }\n",
       "</style>\n",
       "<table border=\"1\" class=\"dataframe\">\n",
       "  <thead>\n",
       "    <tr style=\"text-align: right;\">\n",
       "      <th></th>\n",
       "      <th>param_label</th>\n",
       "      <th>mean_aitchison_distance</th>\n",
       "      <th>mean_total_variation</th>\n",
       "      <th>mean_success_rate</th>\n",
       "      <th>n_total_trials</th>\n",
       "    </tr>\n",
       "  </thead>\n",
       "  <tbody>\n",
       "    <tr>\n",
       "      <th>0</th>\n",
       "      <td>σ=500, σ_sites=0.01</td>\n",
       "      <td>10.5072</td>\n",
       "      <td>121.7284</td>\n",
       "      <td>1.0</td>\n",
       "      <td>25</td>\n",
       "    </tr>\n",
       "    <tr>\n",
       "      <th>1</th>\n",
       "      <td>σ=500, σ_sites=0.1</td>\n",
       "      <td>10.5072</td>\n",
       "      <td>121.7284</td>\n",
       "      <td>1.0</td>\n",
       "      <td>25</td>\n",
       "    </tr>\n",
       "    <tr>\n",
       "      <th>2</th>\n",
       "      <td>σ=500, σ_sites=1.0</td>\n",
       "      <td>10.5072</td>\n",
       "      <td>121.7284</td>\n",
       "      <td>1.0</td>\n",
       "      <td>25</td>\n",
       "    </tr>\n",
       "    <tr>\n",
       "      <th>3</th>\n",
       "      <td>σ=700, σ_sites=0.01</td>\n",
       "      <td>9.7680</td>\n",
       "      <td>102.4383</td>\n",
       "      <td>1.0</td>\n",
       "      <td>25</td>\n",
       "    </tr>\n",
       "    <tr>\n",
       "      <th>4</th>\n",
       "      <td>σ=700, σ_sites=0.1</td>\n",
       "      <td>9.7680</td>\n",
       "      <td>102.4383</td>\n",
       "      <td>1.0</td>\n",
       "      <td>25</td>\n",
       "    </tr>\n",
       "    <tr>\n",
       "      <th>5</th>\n",
       "      <td>σ=700, σ_sites=1.0</td>\n",
       "      <td>9.7680</td>\n",
       "      <td>102.4383</td>\n",
       "      <td>1.0</td>\n",
       "      <td>25</td>\n",
       "    </tr>\n",
       "  </tbody>\n",
       "</table>\n",
       "</div>"
      ],
      "text/plain": [
       "           param_label  mean_aitchison_distance  mean_total_variation  \\\n",
       "0  σ=500, σ_sites=0.01                  10.5072              121.7284   \n",
       "1   σ=500, σ_sites=0.1                  10.5072              121.7284   \n",
       "2   σ=500, σ_sites=1.0                  10.5072              121.7284   \n",
       "3  σ=700, σ_sites=0.01                   9.7680              102.4383   \n",
       "4   σ=700, σ_sites=0.1                   9.7680              102.4383   \n",
       "5   σ=700, σ_sites=1.0                   9.7680              102.4383   \n",
       "\n",
       "   mean_success_rate  n_total_trials  \n",
       "0                1.0              25  \n",
       "1                1.0              25  \n",
       "2                1.0              25  \n",
       "3                1.0              25  \n",
       "4                1.0              25  \n",
       "5                1.0              25  "
      ]
     },
     "metadata": {},
     "output_type": "display_data"
    }
   ],
   "source": [
    "# 結果分析器の作成\n",
    "analyzer = ResultAnalyzer(hp_evaluator.results)\n",
    "\n",
    "# データフレームの作成\n",
    "df_summary, df_detailed = analyzer.create_summary_dataframe()\n",
    "\n",
    "print(f\"サマリーデータ: {len(df_summary)} 組み合わせ\")\n",
    "print(f\"詳細データ: {len(df_detailed)} 試行結果\")\n",
    "\n",
    "# サマリーテーブルの表示\n",
    "print(\"\\n=== 評価結果サマリー ===\")\n",
    "display(\n",
    "    df_summary[\n",
    "        [\n",
    "            \"param_label\",\n",
    "            \"mean_aitchison_distance\",\n",
    "            \"mean_total_variation\",\n",
    "            \"mean_success_rate\",\n",
    "            \"n_total_trials\",\n",
    "        ]\n",
    "    ].round(4)\n",
    ")"
   ]
  },
  {
   "cell_type": "markdown",
   "metadata": {},
   "source": [
    "## 8. 箱ひげ図による比較可視化"
   ]
  },
  {
   "cell_type": "code",
   "execution_count": 9,
   "metadata": {},
   "outputs": [
    {
     "data": {
      "image/png": "[encoded data removed]",
      "text/plain": [
       "<Figure size 1800x1400 with 4 Axes>"
      ]
     },
     "metadata": {},
     "output_type": "display_data"
    }
   ],
   "source": [
    "# 箱ひげ図による詳細比較\n",
    "analyzer.plot_boxplots(figsize=(18, 14))"
   ]
  },
  {
   "cell_type": "code",
   "execution_count": 10,
   "metadata": {},
   "outputs": [
    {
     "data": {
      "image/png": "[encoded data removed]",
      "text/plain": [
       "<Figure size 1600x1200 with 4 Axes>"
      ]
     },
     "metadata": {},
     "output_type": "display_data"
    }
   ],
   "source": [
    "# パフォーマンスサマリーの可視化\n",
    "analyzer.plot_performance_summary(figsize=(16, 12))"
   ]
  },
  {
   "cell_type": "markdown",
   "metadata": {},
   "source": [
    "## 9. 最適パラメータの決定"
   ]
  },
  {
   "cell_type": "code",
   "execution_count": 11,
   "metadata": {},
   "outputs": [
    {
     "name": "stdout",
     "output_type": "stream",
     "text": [
      "\n",
      "=== 最適パラメータ (aitchison_distance基準) ===\n",
      "sigma: 700\n",
      "sigma_for_sites: 0.01\n",
      "平均aitchison_distance: 9.7680\n",
      "成功率: 1.000\n",
      "実行時間: 1067.3秒\n",
      "\n",
      "=== 最適パラメータ (total_variation基準) ===\n",
      "sigma: 700\n",
      "sigma_for_sites: 0.01\n",
      "平均total_variation: 102.4383\n",
      "成功率: 1.000\n",
      "実行時間: 1067.3秒\n",
      "\n",
      "結果を保存しました:\n",
      "  サマリー: /home/ohta/dev/bayesian_statistics/data/hyperparameter_analysis_summary.csv\n",
      "  詳細: /home/ohta/dev/bayesian_statistics/data/hyperparameter_analysis_detailed.csv\n",
      "\n",
      "=== 推奨パラメータ ===\n",
      "両方の指標を総合的に考慮して、最適なパラメータを選択してください。\n",
      "一般的には、Aitchison距離が低く、成功率が高いパラメータが推奨されます。\n"
     ]
    }
   ],
   "source": [
    "# Aitchison距離基準での最適パラメータ\n",
    "best_aitchison = analyzer.get_best_parameters(metric=\"aitchison_distance\")\n",
    "\n",
    "# Total Variation基準での最適パラメータ\n",
    "best_total_variation = analyzer.get_best_parameters(metric=\"total_variation\")\n",
    "\n",
    "# 結果の保存\n",
    "analyzer.save_results()\n",
    "\n",
    "print(\"\\n=== 推奨パラメータ ===\")\n",
    "print(\"両方の指標を総合的に考慮して、最適なパラメータを選択してください。\")\n",
    "print(\"一般的には、Aitchison距離が低く、成功率が高いパラメータが推奨されます。\")"
   ]
  },
  {
   "cell_type": "markdown",
   "metadata": {},
   "source": [
    "## 10. まとめ"
   ]
  },
  {
   "cell_type": "code",
   "execution_count": 12,
   "metadata": {},
   "outputs": [
    {
     "name": "stdout",
     "output_type": "stream",
     "text": [
      "\n",
      "================================================================================\n",
      "   LOOCV ハイパーパラメータ最適化結果のまとめ\n",
      "================================================================================\n",
      "\n",
      "【実験設定】\n",
      "  評価パラメータ数: 6 組み合わせ\n",
      "  評価時期数: 5 時期\n",
      "  各時期の試行回数: 5 回\n",
      "  総試行回数: 150 回\n",
      "\n",
      "【実行結果】\n",
      "  成功した組み合わせ: 6/6\n",
      "  平均実行時間: 1155.8秒/組み合わせ\n",
      "  総実行時間: 6934.8秒\n",
      "\n",
      "【最適パラメータ（Aitchison距離基準）】\n",
      "  sigma: 700\n",
      "  sigma_for_sites: 0.01\n",
      "  平均Aitchison距離: 9.7680\n",
      "  成功率: 1.000\n",
      "\n",
      "【最適パラメータ（Total Variation基準）】\n",
      "  sigma: 700\n",
      "  sigma_for_sites: 0.01\n",
      "  平均Total Variation: 102.4383\n",
      "  成功率: 1.000\n",
      "\n",
      "【出力ファイル】\n",
      "  評価結果JSON: None\n",
      "  サマリーCSV: /home/ohta/dev/bayesian_statistics/data/hyperparameter_analysis_summary.csv\n",
      "  詳細CSV: /home/ohta/dev/bayesian_statistics/data/hyperparameter_analysis_detailed.csv\n",
      "\n",
      "================================================================================\n",
      "この結果を基に、モデル3のハイパーパラメータを決定してください。\n",
      "================================================================================\n"
     ]
    }
   ],
   "source": [
    "print(\"\\n\" + \"=\" * 80)\n",
    "print(\"   LOOCV ハイパーパラメータ最適化結果のまとめ\")\n",
    "print(\"=\" * 80)\n",
    "\n",
    "print(\"\\n【実験設定】\")\n",
    "print(f\"  評価パラメータ数: {len(parameter_combinations)} 組み合わせ\")\n",
    "print(f\"  評価時期数: {len(target_periods)} 時期\")\n",
    "print(f\"  各時期の試行回数: {loocv_config.n_trials} 回\")\n",
    "print(f\"  総試行回数: {len(df_detailed)} 回\")\n",
    "\n",
    "successful_combinations = len([r for r in hp_evaluator.results if \"error\" not in r])\n",
    "print(\"\\n【実行結果】\")\n",
    "print(f\"  成功した組み合わせ: {successful_combinations}/{len(parameter_combinations)}\")\n",
    "print(f\"  平均実行時間: {df_summary['execution_time'].mean():.1f}秒/組み合わせ\")\n",
    "print(f\"  総実行時間: {df_summary['execution_time'].sum():.1f}秒\")\n",
    "\n",
    "print(\"\\n【最適パラメータ（Aitchison距離基準）】\")\n",
    "print(f\"  sigma: {best_aitchison['sigma']}\")\n",
    "print(f\"  sigma_for_sites: {best_aitchison['sigma_for_sites']}\")\n",
    "print(f\"  平均Aitchison距離: {best_aitchison['metric_value']:.4f}\")\n",
    "print(f\"  成功率: {best_aitchison['success_rate']:.3f}\")\n",
    "\n",
    "print(\"\\n【最適パラメータ（Total Variation基準）】\")\n",
    "print(f\"  sigma: {best_total_variation['sigma']}\")\n",
    "print(f\"  sigma_for_sites: {best_total_variation['sigma_for_sites']}\")\n",
    "print(f\"  平均Total Variation: {best_total_variation['metric_value']:.4f}\")\n",
    "print(f\"  成功率: {best_total_variation['success_rate']:.3f}\")\n",
    "\n",
    "print(\"\\n【出力ファイル】\")\n",
    "print(f\"  評価結果JSON: {results_file}\")\n",
    "print(f\"  サマリーCSV: {os.path.join(data_dir, 'hyperparameter_analysis_summary.csv')}\")\n",
    "print(f\"  詳細CSV: {os.path.join(data_dir, 'hyperparameter_analysis_detailed.csv')}\")\n",
    "\n",
    "print(\"\\n\" + \"=\" * 80)\n",
    "print(\"この結果を基に、モデル3のハイパーパラメータを決定してください。\")\n",
    "print(\"=\" * 80)"
   ]
  }
 ],
 "metadata": {
  "kernelspec": {
   "display_name": ".venv",
   "language": "python",
   "name": "python3"
  },
  "language_info": {
   "codemirror_mode": {
    "name": "ipython",
    "version": 3
   },
   "file_extension": ".py",
   "mimetype": "text/x-python",
   "name": "python",
   "nbconvert_exporter": "python",
   "pygments_lexer": "ipython3",
   "version": "3.9.12"
  }
 },
 "nbformat": 4,
 "nbformat_minor": 4
}
