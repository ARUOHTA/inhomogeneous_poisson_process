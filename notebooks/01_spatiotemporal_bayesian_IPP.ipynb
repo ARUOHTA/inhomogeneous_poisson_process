{
 "cells": [
  {
   "cell_type": "markdown",
   "metadata": {},
   "source": [
    "非定常ポアソン過程を実装する"
   ]
  },
  {
   "cell_type": "markdown",
   "metadata": {},
   "source": [
    "方針\n",
    "- データ生成過程をシミュレーションする"
   ]
  },
  {
   "cell_type": "markdown",
   "metadata": {},
   "source": [
    "産地j, 時期tに関しては別々に扱う。"
   ]
  },
  {
   "cell_type": "code",
   "execution_count": 1,
   "metadata": {},
   "outputs": [],
   "source": [
    "import numpy as np\n",
    "from sklearn.gaussian_process import GaussianProcessRegressor\n",
    "from sklearn.gaussian_process.kernels import RBF\n",
    "from scipy.stats import poisson\n"
   ]
  },
  {
   "cell_type": "code",
   "execution_count": 2,
   "metadata": {},
   "outputs": [],
   "source": [
    "import numpy as np\n",
    "from sklearn.gaussian_process import GaussianProcessRegressor\n",
    "from sklearn.gaussian_process.kernels import RBF\n",
    "import matplotlib.pyplot as plt\n",
    "from scipy.stats import poisson, norm\n",
    "\n",
    "\n",
    "def generate_spatial_data(grid_size, length_scales, num_features, num_clusters, scales):\n",
    "    \"\"\"\n",
    "    ガウス過程を用いて空間的な構造を持つ説明変数を生成する関数。\n",
    "    \n",
    "    Args:\n",
    "        grid_size (int): グリッドの大きさ\n",
    "        length_scales (list of float): RBFカーネルの長さスケール\n",
    "        num_features (int): 特徴量の数\n",
    "        num_clusters (int): クラスターの数\n",
    "        scales (list of float): 特徴量ごとのスケール\n",
    "\n",
    "    Returns:\n",
    "        np.ndarray: 生成された空間データ\n",
    "    \"\"\"\n",
    "    x = np.linspace(0, grid_size - 1, grid_size)\n",
    "    y = np.linspace(0, grid_size - 1, grid_size)\n",
    "    X_grid, Y_grid = np.meshgrid(x, y)\n",
    "    coords = np.vstack([X_grid.ravel(), Y_grid.ravel()]).T\n",
    "\n",
    "    spatial_data = np.zeros((grid_size * grid_size, num_features))\n",
    "    cluster_centers = np.random.rand(num_clusters, 2) * grid_size\n",
    "\n",
    "    for i in range(num_features):\n",
    "        for j in range(num_clusters):\n",
    "            kernel = RBF(length_scale=length_scales[j % len(length_scales)])\n",
    "            gp = GaussianProcessRegressor(kernel=kernel)\n",
    "            cluster_data = gp.sample_y(coords, random_state=i * num_clusters + j).ravel()\n",
    "            spatial_data[:, i] += cluster_data * norm.pdf(np.linalg.norm(coords - cluster_centers[j], axis=1), scale=length_scales[j % len(length_scales)]) * scales[i % len(scales)]\n",
    "\n",
    "    return spatial_data.reshape(grid_size, grid_size, num_features)\n",
    "\n"
   ]
  },
  {
   "cell_type": "code",
   "execution_count": 3,
   "metadata": {},
   "outputs": [],
   "source": [
    "\n",
    "\n",
    "def intensity(X, beta, alpha):\n",
    "    return np.exp(np.sum(X * beta, axis=2) + alpha)\n",
    "\n",
    "\n",
    "def simulate_poisson_process(grid_size, seed = None, verbose=False):\n",
    "\n",
    "    # パラメータ設定\n",
    "    length_scales = [10, 20, 30]  # 各クラスターの長さスケール\n",
    "    num_features = 3\n",
    "    num_clusters = 3\n",
    "    scales_X = [1, 1, 1]  # 各特徴量に対する異なるスケール\n",
    "    scales_beta = [-1, -1, -1]  # 各特徴量に対する異なるスケール\n",
    "\n",
    "    # クラスターを持つ空間的な構造を持つ説明変数の生成\n",
    "    X_true = generate_spatial_data(grid_size, length_scales, num_features, num_clusters, scales_X)\n",
    "    X_true = (X_true - X_true.mean(axis=(0, 1))) / X_true.std(axis=(0, 1)) + 0.6\n",
    "\n",
    "    # クラスターを持つ空間的な構造を持つ係数ベクトルの生成\n",
    "    beta_true = generate_spatial_data(grid_size, length_scales, num_features, num_clusters, scales_beta)\n",
    "    beta_true = (beta_true - beta_true.mean(axis=(0, 1))) / beta_true.std(axis=(0, 1)) -0.6\n",
    "\n",
    "    alpha_true = -2\n",
    "    \n",
    "    if verbose:\n",
    "        plt.figure(figsize=(12, 4))\n",
    "        for i in range(num_features):\n",
    "            plt.subplot(1, num_features, i+1)\n",
    "            plt.title(f\"Feature {i+1}\")\n",
    "            plt.imshow(X_true[:, :, i], cmap='hot', interpolation='nearest')\n",
    "            plt.colorbar()\n",
    "        plt.show()\n",
    "\n",
    "    if verbose:\n",
    "        plt.figure(figsize=(12, 4))\n",
    "        for i in range(num_features):\n",
    "            plt.subplot(1, num_features, i+1)\n",
    "            plt.title(f\"Beta {i+1}\")\n",
    "            plt.imshow(beta_true[:, :, i], cmap='hot', interpolation='nearest')\n",
    "            plt.colorbar()\n",
    "        plt.show()\n",
    "\n",
    "\n",
    "    # ノイズの追加\n",
    "    noise_level = 0.01\n",
    "    X_true = X_true + np.random.normal(0, noise_level, X_true.shape)\n",
    "    beta_true = beta_true + np.random.normal(0, noise_level, beta_true.shape)\n",
    "\n",
    "    # 強度関数 λ(s) の計算\n",
    "    \n",
    "    lambda_true = intensity(X_true, beta_true, alpha_true)\n",
    "\n",
    "    from scipy.stats import poisson\n",
    "\n",
    "    # 領域全体の強度関数の積分 Λjt(D) を計算（離散化）\n",
    "    D_area = grid_size * grid_size\n",
    "    lambda_integral = np.sum(lambda_true)\n",
    "\n",
    "    # 出土数 n1_jt を生成\n",
    "    n_jt = poisson.rvs(lambda_integral)\n",
    "\n",
    "    if verbose:\n",
    "        print(f\"Number of samples: {n_jt}\")\n",
    "    # 出土地点をサンプリング\n",
    "    sampled_points = np.random.choice(D_area, size=n_jt, p=lambda_true.ravel() / lambda_integral)\n",
    "\n",
    "    # 出土地点の座標に変換\n",
    "    sampled_coords = np.unravel_index(sampled_points, (grid_size, grid_size))\n",
    "\n",
    "    # 出土地点ごとのカウントを計算\n",
    "    n_counts = np.zeros((grid_size, grid_size))\n",
    "    for coord in zip(*sampled_coords):\n",
    "        n_counts[coord] += 1\n",
    "\n",
    "    if verbose:\n",
    "        plt.figure(figsize=(6, 6))\n",
    "        plt.title(\"True Intensity Function $\\lambda(s)$\")\n",
    "        plt.imshow(lambda_true, cmap='hot', interpolation='nearest')\n",
    "        plt.colorbar()\n",
    "        plt.show()\n",
    "\n",
    "        plt.figure(figsize=(6, 6))\n",
    "        plt.title(\"Simulated Counts $n(s)$\")\n",
    "        plt.imshow(n_counts, cmap='hot', interpolation='nearest')\n",
    "        plt.colorbar()\n",
    "        plt.show()\n",
    "        \n",
    "    return X_true, beta_true, lambda_true, n_counts, sampled_coords"
   ]
  },
  {
   "cell_type": "code",
   "execution_count": 4,
   "metadata": {},
   "outputs": [
    {
     "data": {
      "image/png": "[encoded data removed]",
      "text/plain": [
       "<Figure size 1200x400 with 6 Axes>"
      ]
     },
     "metadata": {},
     "output_type": "display_data"
    },
    {
     "data": {
      "image/png": "[encoded data removed]",
      "text/plain": [
       "<Figure size 1200x400 with 6 Axes>"
      ]
     },
     "metadata": {},
     "output_type": "display_data"
    },
    {
     "name": "stdout",
     "output_type": "stream",
     "text": [
      "Number of samples: 293\n"
     ]
    },
    {
     "data": {
      "image/png": "[encoded data removed]",
      "text/plain": [
       "<Figure size 600x600 with 2 Axes>"
      ]
     },
     "metadata": {},
     "output_type": "display_data"
    },
    {
     "data": {
      "image/png": "[encoded data removed]",
      "text/plain": [
       "<Figure size 600x600 with 2 Axes>"
      ]
     },
     "metadata": {},
     "output_type": "display_data"
    }
   ],
   "source": [
    "grid_size = 50\n",
    "\n",
    "X_true, beta_true, lambda_true, n_counts, sampled_coords = simulate_poisson_process(grid_size, verbose=True)"
   ]
  },
  {
   "cell_type": "markdown",
   "metadata": {},
   "source": [
    "# IPPを使った推定"
   ]
  },
  {
   "cell_type": "markdown",
   "metadata": {},
   "source": [
    "## 偽不在データを生成"
   ]
  },
  {
   "cell_type": "code",
   "execution_count": 138,
   "metadata": {},
   "outputs": [
    {
     "data": {
      "text/plain": [
       "(2315,)"
      ]
     },
     "execution_count": 138,
     "metadata": {},
     "output_type": "execute_result"
    }
   ],
   "source": [
    "observed_coords\n",
    "\n",
    "D_area.shape"
   ]
  },
  {
   "cell_type": "code",
   "execution_count": 140,
   "metadata": {},
   "outputs": [],
   "source": [
    "import numpy as np\n",
    "\n",
    "def generate_background_data(grid_size, observed_coords, num_background_points):\n",
    "    \"\"\"\n",
    "    偽不在データを生成する関数。\n",
    "    \n",
    "    Args:\n",
    "        grid_size (int): グリッドの大きさ\n",
    "        observed_coords (ndarray): 観測された座標\n",
    "        num_background_points (int): 偽不在データの数\n",
    "\n",
    "    Returns:\n",
    "        np.ndarray: 偽不在データのインデックス\n",
    "    \"\"\"\n",
    "    D_area = grid_size * grid_size\n",
    "    observed_points = np.ravel_multi_index(sampled_coords, (grid_size, grid_size))\n",
    "    D_area_background = np.setdiff1d(np.arange(D_area), observed_points)\n",
    "    background_points = np.random.choice(D_area_background, size=num_background_points, replace=False)\n",
    "    return np.unravel_index(background_points, (grid_size, grid_size))\n"
   ]
  },
  {
   "cell_type": "code",
   "execution_count": 141,
   "metadata": {},
   "outputs": [
    {
     "name": "stdout",
     "output_type": "stream",
     "text": [
      "(1000, 3)\n",
      "重み付き尤度関数の値: 0.0\n"
     ]
    }
   ],
   "source": [
    "import numpy as np\n",
    "\n",
    "def logistic(x):\n",
    "    return 1 / (1 + np.exp(-x))\n",
    "\n",
    "def weighted_likelihood(beta_observed, beta_background, X_observed, X_background, Z):\n",
    "    \"\"\"\n",
    "    重み付き尤度関数を計算する関数。\n",
    "    \n",
    "    Args:\n",
    "        beta (np.ndarray): モデルのパラメータ (n1 x d)\n",
    "        beta_background (np.ndarray): 偽不在データのパラメータ (n0 x d)\n",
    "        X_observed (np.ndarray): 観測データの説明変数 (n1 x d)\n",
    "        X_background (np.ndarray): 偽不在データの説明変数\n",
    "        Z (float): 偽不在データの重み\n",
    "\n",
    "    Returns:\n",
    "        float: 重み付き尤度\n",
    "    \"\"\"\n",
    "    # 観測データ部分の尤度の計算\n",
    "    linear_comb_observed = np.array([X_observed[i, :].dot(beta_observed[i, :]) for i in range(X_observed.shape[0])])\n",
    "    observed_likelihood_terms = logistic(linear_comb_observed)\n",
    "    observed_likelihood = np.prod(observed_likelihood_terms)\n",
    "\n",
    "    # 偽不在データ部分の尤度の計算\n",
    "    print(X_background.shape)\n",
    "    linear_comb_background = np.array([X_background[i, :].dot(beta_background[i, :]) for i in range(X_background.shape[0])])\n",
    "    background_likelihood_terms = logistic(-linear_comb_background) ** Z\n",
    "    background_likelihood = np.prod(background_likelihood_terms)\n",
    "\n",
    "    # 重み付き尤度の計算\n",
    "    weighted_likelihood = observed_likelihood * background_likelihood\n",
    "    return weighted_likelihood\n",
    "\n",
    "\n",
    "# 観測データの設定\n",
    "observed_coords = np.column_stack(sampled_coords)\n",
    "X_observed = X_true[observed_coords[:, 0], observed_coords[:, 1]]\n",
    "\n",
    "# パラメータの設定\n",
    "num_background_points = 1000\n",
    "Z = 10  # 偽不在データの重み\n",
    "\n",
    "# 偽不在データの生成\n",
    "background_coords = generate_background_data(grid_size, observed_coords, num_background_points)\n",
    "background_coords = np.array(background_coords).T\n",
    "\n",
    "# 偽不在データの説明変数を取得\n",
    "X_background = X_true[background_coords[:, 0], background_coords[:, 1]]\n",
    "\n",
    "\n",
    "# パラメータの設定\n",
    "beta_observed = beta_true[observed_coords[:, 0], observed_coords[:, 1]]\n",
    "beta_background = beta_true[background_coords[:, 0], background_coords[:, 1]]\n",
    "\n",
    "# 重み付き尤度関数の計算\n",
    "weighted_likelihood_value = weighted_likelihood(beta_observed, beta_background, X_observed, X_background, Z)\n",
    "print(f\"重み付き尤度関数の値: {weighted_likelihood_value}\")\n"
   ]
  },
  {
   "cell_type": "code",
   "execution_count": 142,
   "metadata": {},
   "outputs": [
    {
     "data": {
      "text/plain": [
       "<matplotlib.image.AxesImage at 0x149b9b1d6c40>"
      ]
     },
     "execution_count": 142,
     "metadata": {},
     "output_type": "execute_result"
    },
    {
     "data": {
      "image/png": "[encoded data removed]",
      "text/plain": [
       "<Figure size 640x480 with 1 Axes>"
      ]
     },
     "metadata": {},
     "output_type": "display_data"
    }
   ],
   "source": [
    "plot_data = np.zeros((grid_size, grid_size))\n",
    "plot_data[observed_coords[:, 0], observed_coords[:, 1]] = 1\n",
    "plt.imshow(plot_data, cmap='hot', interpolation='nearest')"
   ]
  },
  {
   "cell_type": "code",
   "execution_count": 143,
   "metadata": {},
   "outputs": [
    {
     "data": {
      "text/plain": [
       "<matplotlib.image.AxesImage at 0x149b9b0ef160>"
      ]
     },
     "execution_count": 143,
     "metadata": {},
     "output_type": "execute_result"
    },
    {
     "data": {
      "image/png": "[encoded data removed]",
      "text/plain": [
       "<Figure size 640x480 with 1 Axes>"
      ]
     },
     "metadata": {},
     "output_type": "display_data"
    }
   ],
   "source": [
    "plot_data = np.zeros((grid_size, grid_size))\n",
    "plot_data[background_coords[:, 0], background_coords[:, 1]] = 1\n",
    "plt.imshow(plot_data, cmap='hot', interpolation='nearest')\n"
   ]
  },
  {
   "cell_type": "markdown",
   "metadata": {},
   "source": [
    "Gibbsサンプリングを2つのパラメータで行うために、一方のパラメータを固定し、他方のパラメータを条件付きでサンプリングする操作を繰り返します。具体的には、まず$\\beta$を初期化します。その後、$t = 1, \\ldots, T$について次のようにサンプリングします。\n",
    "\n",
    "$$\n",
    "\\Omega^{(t+1)} \\sim p(\\Omega \\mid \\beta^{(t)}) \\\\\n",
    "\\beta^{(t+1)} \\sim p(\\beta \\mid \\Omega^{(t+1)}).\n",
    "$$\n",
    "\n",
    "上記の各密度を計算できれば完了です。最初の密度は（8）から得られます。次のことがわかっています。\n",
    "\n",
    "$$\n",
    "\\omega_n \\mid \\beta \\sim \\text{PG}(1, \\beta^{\\top} x_n).\n",
    "$$\n",
    "\n",
    "つまり、（13）を用いて$\\Omega$の対角要素ごとにサンプリングします。2つ目の方程式は少し複雑です。もし$\\beta$の事前分布が$\\mathcal{N}(b, B)$であるなら、$p(\\beta \\mid \\Omega, \\mathbf{y})$は次のようになります。\n",
    "\n",
    "$$\n",
    "\\beta \\mid \\Omega, \\mathbf{y} \\sim \\mathcal{N}(m_\\omega, V_\\omega)\n",
    "$$\n",
    "\n",
    "ここで、\n",
    "\n",
    "$$\n",
    "V_\\omega = (X^{\\top} \\Omega X + B^{-1})^{-1} \\\\\n",
    "m_\\omega = V_\\omega (X^{\\top} \\kappa + B^{-1} b)\n",
    "$$\n",
    "\n",
    "$\\kappa = \\langle \\kappa_1, \\ldots, \\kappa_N \\rangle$です。この導出は、平方完成の行列式を使用し、少しの代数計算（A6参照）を必要とします。この導出をざっと確認して、$\\beta$がガウス分布であるために機能する理由を確認する価値があります。\n",
    "\n",
    "アルゴリズム的に考えると、$\\omega_n$をサンプリングできるなら、この再パラメータ化を使用して、共分散が$X^{\\top} \\Omega X$の条件付きガウス尤度を$X^{-1} \\Omega^{-1}$に中心に持つように得ることができます。\n"
   ]
  },
  {
   "cell_type": "markdown",
   "metadata": {},
   "source": [
    "# サンプリングアルゴリズムの実装"
   ]
  },
  {
   "cell_type": "code",
   "execution_count": 144,
   "metadata": {},
   "outputs": [],
   "source": [
    "import numpy as np\n",
    "from scipy.stats import gamma\n",
    "from scipy.stats import invgamma\n",
    "from   pypolyagamma import PyPolyaGamma\n",
    "from tqdm import tqdm\n",
    "\n",
    "from typing import Tuple"
   ]
  },
  {
   "cell_type": "markdown",
   "metadata": {},
   "source": [
    "## Utility functions"
   ]
  },
  {
   "cell_type": "code",
   "execution_count": 145,
   "metadata": {},
   "outputs": [],
   "source": [
    "def create_uv_matrices(n, m):\n",
    "    \"\"\"\n",
    "    (n*n)行列Kと、(m*m)の対角行列Bのクロネッカー積について、ブロック対角化するための行と列の入れ替え行列を作成\n",
    "    \"\"\"\n",
    "    U = np.zeros((n*m, n*m))\n",
    "    V = np.zeros((n*m, n*m))\n",
    "    \n",
    "    for i in range(n):\n",
    "        for j in range(m):\n",
    "            U[i*m + j, i + n*j] = 1\n",
    "            V[i + n*j, i*m + j] = 1\n",
    "    \n",
    "    return U, V\n",
    "\n",
    "def create_design_matrix(X_, L, D):\n",
    "    \"\"\" \n",
    "    (L行D列)のデザイン行列X_から(L行L*D列)のデザイン行列Xを作成する。\n",
    "    \"\"\"\n",
    "    X = np.zeros((L, L * D))\n",
    "    for i in range(L):\n",
    "        X[i, i * D:(i + 1) * D] = X_[i]\n",
    "    return X\n",
    "\n",
    "def multi_pgdraw(pg, B, C):\n",
    "    \"\"\"Utility function for calling `pgdraw` on every pair in vectors B, C.\n",
    "    \"\"\"\n",
    "    return np.array([pg.pgdraw(b, c) for b, c in zip(B, C)])\n",
    "\n",
    "\n",
    "def get_decomposition_matrix(cov: np.array) -> (Tuple, str):\n",
    "    try:\n",
    "        return np.linalg.cholesky(cov), \"cholesky\"\n",
    "    except np.linalg.LinAlgError as e:\n",
    "        return np.linalg.svd(cov), \"SVD\"\n",
    "\n",
    "def sample_multivariate_normal(mean: np.array, decomposition_matrix: Tuple,\n",
    "                               decomposition: str) -> np.array:\n",
    "    if decomposition == \"cholesky\":\n",
    "        standard_normal_vector = np.random.standard_normal(len(decomposition_matrix))\n",
    "        return decomposition_matrix @ standard_normal_vector + mean\n",
    "    elif decomposition == \"SVD\":\n",
    "        u, s, vh = decomposition_matrix\n",
    "        standard_normal_vector = np.random.standard_normal(len(u))\n",
    "        return u @ np.diag(np.sqrt(s)) @ vh @ standard_normal_vector + mean"
   ]
  },
  {
   "cell_type": "markdown",
   "metadata": {},
   "source": [
    "## 初期設定"
   ]
  },
  {
   "cell_type": "code",
   "execution_count": null,
   "metadata": {},
   "outputs": [],
   "source": []
  },
  {
   "cell_type": "code",
   "execution_count": 146,
   "metadata": {},
   "outputs": [],
   "source": [
    "# 初期設定\n",
    "\n",
    "# データに関する変数の用意 =======================================================================\n",
    "\n",
    "# design matrix Xを作成\n",
    "X_ = np.vstack([X_observed, X_background])\n",
    "X = create_design_matrix(X_, L, D)\n",
    "\n",
    "D = X_true.shape[-1] # 特徴量次元\n",
    "\n",
    "# カウント数z\n",
    "z_observed = n_counts[observed_coords[:, 0], observed_coords[:, 1]]\n",
    "z_background = np.ones(num_background_points) * Z\n",
    "z = np.concatenate([z_observed, z_background])\n",
    "z_hat = np.concatenate([z_observed, np.zeros(num_background_points)])\n",
    "\n",
    "z = np.random.randn(L) # 偽不在データの重み TODO: あとで定義\n",
    "s = np.vstack([observed_coords, background_coords]) # データの位置\n",
    "L = n_counts.sum().astype(int) + num_background_points # データ数\n",
    "\n",
    "\n",
    "# 固定パラメータ ===============================================================================\n",
    "\n",
    "# phiの事前パラメータ\n",
    "a0 = 2.0 \n",
    "b0 = 1.0  \n",
    "\n",
    "# vの事前分布のパラメータ\n",
    "n0 = 3\n",
    "s0 = 0.5\n",
    "\n",
    "# lamdaの事前パラメータ\n",
    "m0=2\n",
    "r0=1\n",
    "\n",
    "\n",
    "# 各種パラメータの初期値 =======================================================================\n",
    "\n",
    "# Gaussian Kernelの特徴量内の分散phi (1, )\n",
    "phi_0 = 0.5 \n",
    "\n",
    "# 特徴量の係数beta (D*L, )\n",
    "beta_0 = np.random.randn(D*L)\n",
    "\n",
    "# Gaussian Kernelの特徴量間の分散v (1, )\n",
    "v_0 = 0.2\n",
    "\n",
    "# Bayesian Lassoの正則化パラメータtau (D, )\n",
    "tau_0 = np.random.exponential(1/lamda, D)\n",
    "\n",
    "# tau ~ Exp(lamda/2) のハイパーパラメータ (1,)\n",
    "lamda_0 = 3\n",
    "\n",
    "# Polya-Gamma分布に従う変数w (L, )\n",
    "w_0 = np.random.randn(L)\n",
    "\n"
   ]
  },
  {
   "cell_type": "markdown",
   "metadata": {},
   "source": [
    "### phiのMetropolis-Hastings sampler\n",
    "\n",
    "TODO: たまにSimgaが非正則になってしまう。その場合はどういう対処が良いのかを後で検討する。"
   ]
  },
  {
   "cell_type": "code",
   "execution_count": 147,
   "metadata": {},
   "outputs": [],
   "source": [
    "# 共分散行列がよく非正則になってしまう問題に対処するために、まずは対角成分にノイズを足してみた\n",
    "def K(phi):\n",
    "    \"\"\" 相関行列 K(phi) の計算 \"\"\"\n",
    "    #L*L\n",
    "    dist_matrix = np.linalg.norm(s[:, np.newaxis, :] - s[np.newaxis, :, :], axis=2)\n",
    "    K_matrix = np.exp(-phi * dist_matrix)\n",
    "    K_matrix += np.eye(K_matrix.shape[0]) * 1e-10\n",
    "    return K_matrix\n",
    "\n",
    "def B_tau(tau):\n",
    "    # D*D\n",
    "    return np.diag(tau)\n",
    "\n",
    "def Sigma_phi_tau(phi, tau, v):\n",
    "    # (D*L)*(D*L)\n",
    "    Sigma = np.kron(K(phi), B_tau(tau))\n",
    "    return Sigma / v\n",
    "    \n",
    "def Sigma_phi_tau_inv(Sigma):\n",
    "    # 入れ替え行列を作成\n",
    "    U, V = create_uv_matrices(L, D)\n",
    "    # 行と列を入れ替えた対角ブロック行列\n",
    "    diag_block_matrix = U @ Sigma @ V\n",
    "    \n",
    "    # 各ブロックの逆行列を計算\n",
    "    diag_block_inv = np.zeros_like(diag_block_matrix)\n",
    "    for i in range(n):\n",
    "        block = diag_block_matrix[i*m:(i+1)*m, i*m:(i+1)*m]\n",
    "        block += np.eye(block.shape[0]) * 1e-10\n",
    "        diag_block_inv[i*m:(i+1)*m, i*m:(i+1)*m] = np.linalg.inv(block)\n",
    "\n",
    "    # 逆行列を元の形に戻す\n",
    "    return V @ diag_block_inv @ U\n",
    "\n",
    "\n",
    "def pi_phi(phi, beta, tau, v, a0, b0):\n",
    "    Sigma = Sigma_phi_tau(phi, tau, v)\n",
    "    inv_Sigma = Sigma_phi_tau_inv(Sigma)\n",
    "    term1 = -np.log(np.linalg.det(Sigma))\n",
    "    term2 = -0.5 * v * beta@inv_Sigma@beta\n",
    "    term3 = (a0 - 1) * np.log(phi) - b0 * phi\n",
    "    return term1 + term2 + term3\n",
    "\n",
    "def sample_phi(phi_current, beta, tau, v, a0, b0):\n",
    "    phi_proposal = gamma.rvs(phi_current, scale=1)\n",
    "    \n",
    "    # 提案分布の確率密度関数\n",
    "    q_phi_current_given_proposal = gamma.pdf(phi_current, a=phi_proposal, scale=1)\n",
    "    q_proposal_given_phi_current = gamma.pdf(phi_proposal, a=phi_current, scale=1)\n",
    "    \n",
    "    # 採択率の計算\n",
    "    alpha = min(1, np.exp(\n",
    "        pi_phi(phi_proposal, beta, tau, v, a0, b0) - pi_phi(phi_current, beta, tau, v, a0, b0)\n",
    "        + np.log(q_phi_current_given_proposal) - np.log(q_proposal_given_phi_current)\n",
    "    ))\n",
    "    \n",
    "    if np.random.rand() < alpha:\n",
    "        return phi_proposal\n",
    "    else:\n",
    "        return phi_current"
   ]
  },
  {
   "cell_type": "markdown",
   "metadata": {},
   "source": [
    "### beta, tau, v, lamda, wのGibbs Sampler"
   ]
  },
  {
   "cell_type": "code",
   "execution_count": 148,
   "metadata": {},
   "outputs": [],
   "source": [
    "\n",
    "def sample_beta(X, w, v, phi, tau, z, z_hat):\n",
    "    \n",
    "    W = np.diag(w)    \n",
    "    # Σ_betaの計算\n",
    "    Sigma = Sigma_phi_tau(phi, tau, v)\n",
    "    term = (-W + (1/v) * X @ Sigma @ X.T)\n",
    "    term += np.eye(W.shape[0]) * 1e-10\n",
    "    term = np.linalg.inv(term)\n",
    "    Sigma_beta = (1/v)*Sigma - ((1/v)**2) * (Sigma @ X.T @ term @ X @ Sigma)\n",
    "    Sigma_beta += np.eye(Sigma_beta.shape[0]) * 1e-8 # 多変量正規分布の安定性のため\n",
    "    \n",
    "    \n",
    "    # kappa = (z_hat - z/2) / w で計算される変数kappa (L, )\n",
    "    kappa = (z_hat - (z/2)) / w\n",
    "    \n",
    "    # tilde_betaの計算\n",
    "    tilde_beta = Sigma_beta @ (X.T @ W @ kappa)\n",
    "    \n",
    "    # Cholesky分解を使用してβのサンプリング(多変量正規分布からのサンプリング)\n",
    "    beta_sample = sample_multivariate_normal(tilde_beta, Sigma_beta, \"cholesky\")\n",
    "    return beta_sample\n",
    "\n",
    "def sample_tau(beta, phi, v, lamda):\n",
    "    # 逆ガンマ分布からサンプルを生成\n",
    "\n",
    "    beta_matrix = beta.reshape(D, L)\n",
    "    tau_sample = np.zeros(D)\n",
    "    \n",
    "    for i in range(D):\n",
    "        param_1 = np.sqrt(lamda * (1/v) * 1/(beta_matrix[i]@np.linalg.inv(K(phi))@beta_matrix[i]))\n",
    "        param_2 = lamda\n",
    "        tau_k_inv_sample = invgamma.rvs(a=param_1, scale=param_2)\n",
    "        tau_sample[i] = 1 / tau_k_inv_sample\n",
    "    return tau_sample\n",
    "\n",
    "def sample_v(phi, beta, tau, v, n0, s0):\n",
    "\n",
    "    # ガンマ分布のパラメータ\n",
    "    param_1 = D*L/2 + n0/2 - 1\n",
    "    \n",
    "    Sig_inv = Sigma_phi_tau_inv(Sigma_phi_tau(phi, tau, v))\n",
    "    param_2 = beta @ Sig_inv @ beta + s0\n",
    "\n",
    "    # ガンマ分布からサンプルを生成\n",
    "    # numpy.random.gammaはalphaと1/betaをパラメータにとることに注意\n",
    "    return np.random.gamma(param_1, 1/param_2)\n",
    "\n",
    "def sample_lamda(tau, m0, r0):\n",
    "    # ガンマ分布のパラメータ\n",
    "    alpha = D + m0 / 2\n",
    "    beta_param = (np.sum(tau) + r0) / 2\n",
    "\n",
    "    # ガンマ分布からサンプルを生成\n",
    "    return np.random.gamma(alpha, 1 / beta_param)\n",
    "\n",
    "def sample_w(z, X, beta):\n",
    "    \n",
    "    pg = PyPolyaGamma()\n",
    "    return multi_pgdraw(pg, z, X@beta)\n"
   ]
  },
  {
   "cell_type": "markdown",
   "metadata": {},
   "source": [
    "## サンプリングの実行"
   ]
  },
  {
   "cell_type": "code",
   "execution_count": 149,
   "metadata": {},
   "outputs": [
    {
     "name": "stderr",
     "output_type": "stream",
     "text": [
      "  0%|          | 0/10 [00:00<?, ?it/s]/tmp/ipykernel_377069/3884741237.py:39: RuntimeWarning: divide by zero encountered in log\n",
      "  term1 = -np.log(np.linalg.det(Sigma))\n",
      "/tmp/ipykernel_377069/3884741237.py:53: RuntimeWarning: invalid value encountered in scalar subtract\n",
      "  pi_phi(phi_proposal, beta, tau, v, a0, b0) - pi_phi(phi_current, beta, tau, v, a0, b0)\n"
     ]
    },
    {
     "name": "stdout",
     "output_type": "stream",
     "text": [
      "[-1.71959956e+00 -4.43420893e+00 -1.26209766e+01 ...  8.87115211e-03\n",
      " -1.72535635e+00  1.55512311e+01]\n"
     ]
    },
    {
     "name": "stderr",
     "output_type": "stream",
     "text": [
      "/home/ohta/dev/bayesian_statistics/.venv/lib/python3.9/site-packages/scipy/stats/_continuous_distns.py:4673: RuntimeWarning: divide by zero encountered in scalar divide\n",
      "  return 1.0 / sc.gammainccinv(a, q)\n",
      " 10%|█         | 1/10 [00:18<02:46, 18.46s/it]/tmp/ipykernel_377069/3907248887.py:14: RuntimeWarning: divide by zero encountered in divide\n",
      "  kappa = (z_hat - (z/2)) / w\n",
      "/tmp/ipykernel_377069/3907248887.py:17: RuntimeWarning: invalid value encountered in matmul\n",
      "  tilde_beta = Sigma_beta @ (X.T @ W @ kappa)\n"
     ]
    },
    {
     "name": "stdout",
     "output_type": "stream",
     "text": [
      "[nan nan nan ... nan nan nan]\n"
     ]
    },
    {
     "name": "stderr",
     "output_type": "stream",
     "text": [
      " 10%|█         | 1/10 [00:25<03:46, 25.11s/it]\n"
     ]
    },
    {
     "ename": "ValueError",
     "evalue": "Domain error in arguments. The `scale` parameter must be positive for all distributions, and many distributions have restrictions on shape parameters. Please see the `scipy.stats.invgamma` documentation for details.",
     "output_type": "error",
     "traceback": [
      "\u001b[0;31m---------------------------------------------------------------------------\u001b[0m",
      "\u001b[0;31mValueError\u001b[0m                                Traceback (most recent call last)",
      "Cell \u001b[0;32mIn[149], line 32\u001b[0m\n\u001b[1;32m     30\u001b[0m beta  \u001b[38;5;241m=\u001b[39m sample_beta(X, w, v, phi, tau, z, z_hat)\n\u001b[1;32m     31\u001b[0m \u001b[38;5;28mprint\u001b[39m(beta)\n\u001b[0;32m---> 32\u001b[0m tau   \u001b[38;5;241m=\u001b[39m \u001b[43msample_tau\u001b[49m\u001b[43m(\u001b[49m\u001b[43mbeta\u001b[49m\u001b[43m,\u001b[49m\u001b[43m \u001b[49m\u001b[43mphi\u001b[49m\u001b[43m,\u001b[49m\u001b[43m \u001b[49m\u001b[43mv\u001b[49m\u001b[43m,\u001b[49m\u001b[43m \u001b[49m\u001b[43mlamda\u001b[49m\u001b[43m)\u001b[49m\n\u001b[1;32m     33\u001b[0m v     \u001b[38;5;241m=\u001b[39m sample_v(phi, beta, tau, v, n0, s0)\n\u001b[1;32m     34\u001b[0m lamda \u001b[38;5;241m=\u001b[39m sample_lamda(tau, m0, r0)\n",
      "Cell \u001b[0;32mIn[148], line 32\u001b[0m, in \u001b[0;36msample_tau\u001b[0;34m(beta, phi, v, lamda)\u001b[0m\n\u001b[1;32m     30\u001b[0m     param_1 \u001b[38;5;241m=\u001b[39m np\u001b[38;5;241m.\u001b[39msqrt(lamda \u001b[38;5;241m*\u001b[39m (\u001b[38;5;241m1\u001b[39m\u001b[38;5;241m/\u001b[39mv) \u001b[38;5;241m*\u001b[39m \u001b[38;5;241m1\u001b[39m\u001b[38;5;241m/\u001b[39m(beta_matrix[i]\u001b[38;5;129m@np\u001b[39m\u001b[38;5;241m.\u001b[39mlinalg\u001b[38;5;241m.\u001b[39minv(K(phi))\u001b[38;5;129m@beta_matrix\u001b[39m[i]))\n\u001b[1;32m     31\u001b[0m     param_2 \u001b[38;5;241m=\u001b[39m lamda\n\u001b[0;32m---> 32\u001b[0m     tau_k_inv_sample \u001b[38;5;241m=\u001b[39m \u001b[43minvgamma\u001b[49m\u001b[38;5;241;43m.\u001b[39;49m\u001b[43mrvs\u001b[49m\u001b[43m(\u001b[49m\u001b[43ma\u001b[49m\u001b[38;5;241;43m=\u001b[39;49m\u001b[43mparam_1\u001b[49m\u001b[43m,\u001b[49m\u001b[43m \u001b[49m\u001b[43mscale\u001b[49m\u001b[38;5;241;43m=\u001b[39;49m\u001b[43mparam_2\u001b[49m\u001b[43m)\u001b[49m\n\u001b[1;32m     33\u001b[0m     tau_sample[i] \u001b[38;5;241m=\u001b[39m \u001b[38;5;241m1\u001b[39m \u001b[38;5;241m/\u001b[39m tau_k_inv_sample\n\u001b[1;32m     34\u001b[0m \u001b[38;5;28;01mreturn\u001b[39;00m tau_sample\n",
      "File \u001b[0;32m~/dev/bayesian_statistics/.venv/lib/python3.9/site-packages/scipy/stats/_distn_infrastructure.py:1057\u001b[0m, in \u001b[0;36mrv_generic.rvs\u001b[0;34m(self, *args, **kwds)\u001b[0m\n\u001b[1;32m   1051\u001b[0m \u001b[38;5;28;01mif\u001b[39;00m \u001b[38;5;129;01mnot\u001b[39;00m np\u001b[38;5;241m.\u001b[39mall(cond):\n\u001b[1;32m   1052\u001b[0m     message \u001b[38;5;241m=\u001b[39m (\u001b[38;5;124m\"\u001b[39m\u001b[38;5;124mDomain error in arguments. The `scale` parameter must \u001b[39m\u001b[38;5;124m\"\u001b[39m\n\u001b[1;32m   1053\u001b[0m                \u001b[38;5;124m\"\u001b[39m\u001b[38;5;124mbe positive for all distributions, and many \u001b[39m\u001b[38;5;124m\"\u001b[39m\n\u001b[1;32m   1054\u001b[0m                \u001b[38;5;124m\"\u001b[39m\u001b[38;5;124mdistributions have restrictions on shape parameters. \u001b[39m\u001b[38;5;124m\"\u001b[39m\n\u001b[1;32m   1055\u001b[0m                \u001b[38;5;124mf\u001b[39m\u001b[38;5;124m\"\u001b[39m\u001b[38;5;124mPlease see the `scipy.stats.\u001b[39m\u001b[38;5;132;01m{\u001b[39;00m\u001b[38;5;28mself\u001b[39m\u001b[38;5;241m.\u001b[39mname\u001b[38;5;132;01m}\u001b[39;00m\u001b[38;5;124m` \u001b[39m\u001b[38;5;124m\"\u001b[39m\n\u001b[1;32m   1056\u001b[0m                \u001b[38;5;124m\"\u001b[39m\u001b[38;5;124mdocumentation for details.\u001b[39m\u001b[38;5;124m\"\u001b[39m)\n\u001b[0;32m-> 1057\u001b[0m     \u001b[38;5;28;01mraise\u001b[39;00m \u001b[38;5;167;01mValueError\u001b[39;00m(message)\n\u001b[1;32m   1059\u001b[0m \u001b[38;5;28;01mif\u001b[39;00m np\u001b[38;5;241m.\u001b[39mall(scale \u001b[38;5;241m==\u001b[39m \u001b[38;5;241m0\u001b[39m):\n\u001b[1;32m   1060\u001b[0m     \u001b[38;5;28;01mreturn\u001b[39;00m loc\u001b[38;5;241m*\u001b[39mones(size, \u001b[38;5;124m'\u001b[39m\u001b[38;5;124md\u001b[39m\u001b[38;5;124m'\u001b[39m)\n",
      "\u001b[0;31mValueError\u001b[0m: Domain error in arguments. The `scale` parameter must be positive for all distributions, and many distributions have restrictions on shape parameters. Please see the `scipy.stats.invgamma` documentation for details."
     ]
    }
   ],
   "source": [
    "# シミュレーション回数\n",
    "SIM = 10\n",
    "t = 0\n",
    "\n",
    "phi_list   = np.zeros((SIM))\n",
    "beta_list  = np.zeros((SIM, beta_0.shape[0]))\n",
    "tau_list   = np.zeros((SIM, tau_0.shape[0]))\n",
    "v_list     = np.zeros((SIM))\n",
    "lamda_list = np.zeros((SIM))\n",
    "w_list     = np.zeros((SIM, w_0.shape[0]))\n",
    "\n",
    "param_samples = {\n",
    "    'phi': np.zeros((SIM)), \n",
    "    'beta': np.zeros((SIM, beta_0.shape[0])), \n",
    "    'tau': np.zeros((SIM, tau_0.shape[0])), \n",
    "    'v': np.zeros((SIM)), \n",
    "    'lamda': np.zeros((SIM)), \n",
    "    'w': np.zeros((SIM, w_0.shape[0]))\n",
    "}\n",
    "\n",
    "phi = phi_0\n",
    "beta = beta_0\n",
    "tau = tau_0\n",
    "v = v_0\n",
    "lamda = lamda_0\n",
    "w = w_0\n",
    "for t in tqdm(range(SIM)):\n",
    "    \n",
    "    phi   = sample_phi(phi, beta, tau, v, a0, b0)\n",
    "    beta  = sample_beta(X, w, v, phi, tau, z, z_hat)\n",
    "    print(beta)\n",
    "    tau   = sample_tau(beta, phi, v, lamda)\n",
    "    v     = sample_v(phi, beta, tau, v, n0, s0)\n",
    "    lamda = sample_lamda(tau, m0, r0)\n",
    "    w     = sample_w(z, X, beta)\n",
    "    \n",
    "    phi_list[t] = phi\n",
    "    beta_list[t] = beta\n",
    "    tau_list[t] = tau\n",
    "    v_list[t] = v\n",
    "    lamda_list[t] = lamda\n",
    "    w_list[t] = w\n",
    "\n",
    "    "
   ]
  },
  {
   "cell_type": "code",
   "execution_count": null,
   "metadata": {},
   "outputs": [],
   "source": []
  }
 ],
 "metadata": {
  "kernelspec": {
   "display_name": ".venv",
   "language": "python",
   "name": "python3"
  },
  "language_info": {
   "codemirror_mode": {
    "name": "ipython",
    "version": 3
   },
   "file_extension": ".py",
   "mimetype": "text/x-python",
   "name": "python",
   "nbconvert_exporter": "python",
   "pygments_lexer": "ipython3",
   "version": "3.9.12"
  }
 },
 "nbformat": 4,
 "nbformat_minor": 2
}
